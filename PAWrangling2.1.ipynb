{
 "cells": [
  {
   "cell_type": "raw",
   "metadata": {},
   "source": [
    "---\n",
    "self-contained: true\n",
    "---"
   ]
  },
  {
   "cell_type": "markdown",
   "metadata": {
    "id": "QWpPySbzYEIV"
   },
   "source": [
    "# Titanic Wrangling\n",
    "\n",
    "In this practice activity you'll continue to work with the titanic dataset in ways that flex what you've learned about both data wrangling and data visualization."
   ]
  },
  {
   "cell_type": "code",
   "execution_count": 2,
   "metadata": {
    "id": "Nr6w8bVCf_NM"
   },
   "outputs": [
    {
     "data": {
      "text/html": [
       "<div>\n",
       "<style scoped>\n",
       "    .dataframe tbody tr th:only-of-type {\n",
       "        vertical-align: middle;\n",
       "    }\n",
       "\n",
       "    .dataframe tbody tr th {\n",
       "        vertical-align: top;\n",
       "    }\n",
       "\n",
       "    .dataframe thead th {\n",
       "        text-align: right;\n",
       "    }\n",
       "</style>\n",
       "<table border=\"1\" class=\"dataframe\">\n",
       "  <thead>\n",
       "    <tr style=\"text-align: right;\">\n",
       "      <th></th>\n",
       "      <th>name</th>\n",
       "      <th>gender</th>\n",
       "      <th>age</th>\n",
       "      <th>class</th>\n",
       "      <th>embarked</th>\n",
       "      <th>country</th>\n",
       "      <th>ticketno</th>\n",
       "      <th>fare</th>\n",
       "      <th>survived</th>\n",
       "    </tr>\n",
       "  </thead>\n",
       "  <tbody>\n",
       "    <tr>\n",
       "      <th>0</th>\n",
       "      <td>Abbing, Mr. Anthony</td>\n",
       "      <td>male</td>\n",
       "      <td>42.0</td>\n",
       "      <td>3rd</td>\n",
       "      <td>S</td>\n",
       "      <td>United States</td>\n",
       "      <td>5547.0</td>\n",
       "      <td>7.11</td>\n",
       "      <td>0</td>\n",
       "    </tr>\n",
       "    <tr>\n",
       "      <th>1</th>\n",
       "      <td>Abbott, Mr. Eugene Joseph</td>\n",
       "      <td>male</td>\n",
       "      <td>13.0</td>\n",
       "      <td>3rd</td>\n",
       "      <td>S</td>\n",
       "      <td>United States</td>\n",
       "      <td>2673.0</td>\n",
       "      <td>20.05</td>\n",
       "      <td>0</td>\n",
       "    </tr>\n",
       "    <tr>\n",
       "      <th>2</th>\n",
       "      <td>Abbott, Mr. Rossmore Edward</td>\n",
       "      <td>male</td>\n",
       "      <td>16.0</td>\n",
       "      <td>3rd</td>\n",
       "      <td>S</td>\n",
       "      <td>United States</td>\n",
       "      <td>2673.0</td>\n",
       "      <td>20.05</td>\n",
       "      <td>0</td>\n",
       "    </tr>\n",
       "    <tr>\n",
       "      <th>3</th>\n",
       "      <td>Abbott, Mrs. Rhoda Mary 'Rosa'</td>\n",
       "      <td>female</td>\n",
       "      <td>39.0</td>\n",
       "      <td>3rd</td>\n",
       "      <td>S</td>\n",
       "      <td>England</td>\n",
       "      <td>2673.0</td>\n",
       "      <td>20.05</td>\n",
       "      <td>1</td>\n",
       "    </tr>\n",
       "    <tr>\n",
       "      <th>4</th>\n",
       "      <td>Abelseth, Miss. Karen Marie</td>\n",
       "      <td>female</td>\n",
       "      <td>16.0</td>\n",
       "      <td>3rd</td>\n",
       "      <td>S</td>\n",
       "      <td>Norway</td>\n",
       "      <td>348125.0</td>\n",
       "      <td>7.13</td>\n",
       "      <td>1</td>\n",
       "    </tr>\n",
       "    <tr>\n",
       "      <th>...</th>\n",
       "      <td>...</td>\n",
       "      <td>...</td>\n",
       "      <td>...</td>\n",
       "      <td>...</td>\n",
       "      <td>...</td>\n",
       "      <td>...</td>\n",
       "      <td>...</td>\n",
       "      <td>...</td>\n",
       "      <td>...</td>\n",
       "    </tr>\n",
       "    <tr>\n",
       "      <th>2202</th>\n",
       "      <td>Wynn, Mr. Walter</td>\n",
       "      <td>male</td>\n",
       "      <td>41.0</td>\n",
       "      <td>deck crew</td>\n",
       "      <td>B</td>\n",
       "      <td>England</td>\n",
       "      <td>NaN</td>\n",
       "      <td>NaN</td>\n",
       "      <td>1</td>\n",
       "    </tr>\n",
       "    <tr>\n",
       "      <th>2203</th>\n",
       "      <td>Yearsley, Mr. Harry</td>\n",
       "      <td>male</td>\n",
       "      <td>40.0</td>\n",
       "      <td>victualling crew</td>\n",
       "      <td>S</td>\n",
       "      <td>England</td>\n",
       "      <td>NaN</td>\n",
       "      <td>NaN</td>\n",
       "      <td>1</td>\n",
       "    </tr>\n",
       "    <tr>\n",
       "      <th>2204</th>\n",
       "      <td>Young, Mr. Francis James</td>\n",
       "      <td>male</td>\n",
       "      <td>32.0</td>\n",
       "      <td>engineering crew</td>\n",
       "      <td>S</td>\n",
       "      <td>England</td>\n",
       "      <td>NaN</td>\n",
       "      <td>NaN</td>\n",
       "      <td>0</td>\n",
       "    </tr>\n",
       "    <tr>\n",
       "      <th>2205</th>\n",
       "      <td>Zanetti, Sig. Minio</td>\n",
       "      <td>male</td>\n",
       "      <td>20.0</td>\n",
       "      <td>restaurant staff</td>\n",
       "      <td>S</td>\n",
       "      <td>England</td>\n",
       "      <td>NaN</td>\n",
       "      <td>NaN</td>\n",
       "      <td>0</td>\n",
       "    </tr>\n",
       "    <tr>\n",
       "      <th>2206</th>\n",
       "      <td>Zarracchi, Sig. L.</td>\n",
       "      <td>male</td>\n",
       "      <td>26.0</td>\n",
       "      <td>restaurant staff</td>\n",
       "      <td>S</td>\n",
       "      <td>England</td>\n",
       "      <td>NaN</td>\n",
       "      <td>NaN</td>\n",
       "      <td>0</td>\n",
       "    </tr>\n",
       "  </tbody>\n",
       "</table>\n",
       "<p>2207 rows × 9 columns</p>\n",
       "</div>"
      ],
      "text/plain": [
       "                                name  gender   age             class embarked  \\\n",
       "0                Abbing, Mr. Anthony    male  42.0               3rd        S   \n",
       "1          Abbott, Mr. Eugene Joseph    male  13.0               3rd        S   \n",
       "2        Abbott, Mr. Rossmore Edward    male  16.0               3rd        S   \n",
       "3     Abbott, Mrs. Rhoda Mary 'Rosa'  female  39.0               3rd        S   \n",
       "4        Abelseth, Miss. Karen Marie  female  16.0               3rd        S   \n",
       "...                              ...     ...   ...               ...      ...   \n",
       "2202                Wynn, Mr. Walter    male  41.0         deck crew        B   \n",
       "2203             Yearsley, Mr. Harry    male  40.0  victualling crew        S   \n",
       "2204        Young, Mr. Francis James    male  32.0  engineering crew        S   \n",
       "2205             Zanetti, Sig. Minio    male  20.0  restaurant staff        S   \n",
       "2206              Zarracchi, Sig. L.    male  26.0  restaurant staff        S   \n",
       "\n",
       "            country  ticketno   fare  survived  \n",
       "0     United States    5547.0   7.11         0  \n",
       "1     United States    2673.0  20.05         0  \n",
       "2     United States    2673.0  20.05         0  \n",
       "3           England    2673.0  20.05         1  \n",
       "4            Norway  348125.0   7.13         1  \n",
       "...             ...       ...    ...       ...  \n",
       "2202        England       NaN    NaN         1  \n",
       "2203        England       NaN    NaN         1  \n",
       "2204        England       NaN    NaN         0  \n",
       "2205        England       NaN    NaN         0  \n",
       "2206        England       NaN    NaN         0  \n",
       "\n",
       "[2207 rows x 9 columns]"
      ]
     },
     "execution_count": 2,
     "metadata": {},
     "output_type": "execute_result"
    }
   ],
   "source": [
    "# Import the titanic dataset\n",
    "import pandas as pd\n",
    "\n",
    "data_dir = \"https://dlsun.github.io/pods/data/\"\n",
    "\n",
    "df_titanic = pd.read_csv(data_dir + \"titanic.csv\")\n",
    "\n",
    "df_titanic"
   ]
  },
  {
   "cell_type": "markdown",
   "metadata": {
    "id": "9UgZD6VFYa96"
   },
   "source": [
    "## 1. Filter the data to include passengers only. Calculate the joint distribution (cross-tab) between a passenger's class and where they embarked."
   ]
  },
  {
   "cell_type": "code",
   "execution_count": 3,
   "metadata": {
    "id": "TBthOzDLgBif"
   },
   "outputs": [
    {
     "name": "stdout",
     "output_type": "stream",
     "text": [
      "Joint Distribution:\n",
      "embarked  B    C    Q    S\n",
      "class                     \n",
      "1st       3  143    3  175\n",
      "2nd       6   26    7  245\n",
      "3rd       0  102  113  494\n"
     ]
    }
   ],
   "source": [
    "#Filter data to only include passengers\n",
    "df_titanicpass = df_titanic[(df_titanic[\"class\"] == \"1st\") | (df_titanic[\"class\"] == \"2nd\") | (df_titanic[\"class\"] == \"3rd\")]\n",
    "\n",
    "# Create the joint distribution using crosstab\n",
    "joint_dist = pd.crosstab(df_titanicpass['class'], df_titanicpass['embarked'])\n",
    "\n",
    "# Display the joint distribution\n",
    "print(\"Joint Distribution:\")\n",
    "print(joint_dist)\n",
    "\n"
   ]
  },
  {
   "cell_type": "markdown",
   "metadata": {
    "id": "3CRaJLSyYm4d"
   },
   "source": [
    "## 2. Using the joint distribution that calculated above, calculate the following:\n",
    "\n",
    "* the conditional distribution of their class given where they embarked\n",
    "* the conditional distribution of where they embarked given their class\n",
    "\n",
    "Use the conditional distributions that you calculate to answer the following quesitons:\n",
    "\n",
    "* What proportion of 3rd class passengers embarked at Southampton?\n",
    "* What proportion of Southampton passengers were in 3rd class?"
   ]
  },
  {
   "cell_type": "code",
   "execution_count": 7,
   "metadata": {
    "id": "TfTGidLIv1k0"
   },
   "outputs": [
    {
     "name": "stdout",
     "output_type": "stream",
     "text": [
      "Conditional Distribution (Embarked|Class):\n",
      "embarked         B         C         Q         S\n",
      "class                                           \n",
      "1st       0.009259  0.441358  0.009259  0.540123\n",
      "2nd       0.021127  0.091549  0.024648  0.862676\n",
      "3rd       0.000000  0.143865  0.159379  0.696756\n"
     ]
    }
   ],
   "source": [
    "# Calculate the conditional distribution (embarked|class) using axis names\n",
    "conditional_dist1 = joint_dist.div(joint_dist.sum(axis='columns'), axis='index')\n",
    "\n",
    "# Display the conditional distribution\n",
    "print(\"Conditional Distribution (Embarked|Class):\")\n",
    "print(conditional_dist1)"
   ]
  },
  {
   "cell_type": "code",
   "execution_count": 8,
   "metadata": {},
   "outputs": [
    {
     "name": "stdout",
     "output_type": "stream",
     "text": [
      "Conditional Distribution (Class|Embarked):\n",
      "embarked         B         C         Q         S\n",
      "class                                           \n",
      "1st       0.333333  0.527675  0.024390  0.191466\n",
      "2nd       0.666667  0.095941  0.056911  0.268053\n",
      "3rd       0.000000  0.376384  0.918699  0.540481\n"
     ]
    }
   ],
   "source": [
    "### Calculate the conditional distribution (class|embarked) using axis names\n",
    "conditional_dist2 = joint_dist.div(joint_dist.sum(axis='index'), axis='columns')\n",
    "\n",
    "# Display the conditional distribution\n",
    "print(\"Conditional Distribution (Class|Embarked):\")\n",
    "print(conditional_dist2)"
   ]
  },
  {
   "cell_type": "code",
   "execution_count": null,
   "metadata": {},
   "outputs": [],
   "source": [
    "#What proportion of 3rd class passengers embarked at Southampton? \n",
    "#(Embarked Southhampton|3rd Class)\n",
    ".69\n",
    "\n",
    "#What proportion of Southampton passengers were in 3rd class?\n",
    "#(3rd Class|Embarked Southhampton)\n",
    ".54"
   ]
  },
  {
   "cell_type": "markdown",
   "metadata": {
    "id": "pGUQeeh1ZRfz"
   },
   "source": [
    "## 3. Make a visualization showing the distribution of a passenger's class, given where they embarked.\n",
    "\n",
    "Discuss the pros and cons of using this visualization versus the distributions you calculated before, to answer the previous questions."
   ]
  },
  {
   "cell_type": "code",
   "execution_count": 11,
   "metadata": {
    "id": "PZ18WKJWA-xZ"
   },
   "outputs": [
    {
     "data": {
      "image/png": "[encoded data removed]",
      "text/plain": [
       "<Figure size 640x480 with 1 Axes>"
      ]
     },
     "metadata": {
      "image/png": {
       "height": 480,
       "width": 640
      },
      "needs_background": "light"
     },
     "output_type": "display_data"
    },
    {
     "name": "stdout",
     "output_type": "stream",
     "text": [
      "\n"
     ]
    }
   ],
   "source": [
    "import pandas as pd\n",
    "from plotnine import *\n",
    "\n",
    "# Assuming you have the conditional distribution table in the 'conditional_dist' DataFrame\n",
    "\n",
    "# Convert the conditional distribution DataFrame to a tidy format\n",
    "tidy_conditional_dist = conditional_dist2.reset_index().melt(id_vars='class', var_name='embarked', value_name='Probability')\n",
    "\n",
    "# Create the plot\n",
    "plot = (\n",
    "    ggplot(tidy_conditional_dist, aes(x='embarked', y='Probability', fill='class')) +\n",
    "    geom_bar(stat='identity', position=position_dodge()) +\n",
    "    labs(x='Port of Embarkment', y='Probability', fill='Class') +\n",
    "    theme_minimal() +\n",
    "    theme(legend_position='top')\n",
    ")\n",
    "\n",
    "# Display the plot\n",
    "print(plot)"
   ]
  },
  {
   "cell_type": "markdown",
   "metadata": {},
   "source": [
    "Pros: This plot makes it simpler to visualize the class distribution based on where the individual embarked by showing each point's probabilitity.\n",
    "Cons: The visualization does not provide specific numeric values, making it harder to perform precise calculations."
   ]
  }
 ],
 "metadata": {
  "colab": {
   "provenance": []
  },
  "kernelspec": {
   "display_name": "Python 3 (ipykernel)",
   "language": "python",
   "name": "python3"
  },
  "language_info": {
   "codemirror_mode": {
    "name": "ipython",
    "version": 3
   },
   "file_extension": ".py",
   "mimetype": "text/x-python",
   "name": "python",
   "nbconvert_exporter": "python",
   "pygments_lexer": "ipython3",
   "version": "3.11.4"
  }
 },
 "nbformat": 4,
 "nbformat_minor": 1
}
