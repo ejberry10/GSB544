{
 "cells": [
  {
   "cell_type": "raw",
   "id": "d75ce5d0",
   "metadata": {},
   "source": [
    "---\n",
    "self-contained: true\n",
    "---"
   ]
  },
  {
   "cell_type": "markdown",
   "id": "efbbd4ea",
   "metadata": {},
   "source": [
    "### Practice Activity 7.1: Cross-Validation & Tuning\n",
    "\n",
    "Elizabeth Berry\n",
    "\n",
    "11/10/23"
   ]
  },
  {
   "cell_type": "code",
   "execution_count": 154,
   "id": "8e56d66c",
   "metadata": {},
   "outputs": [],
   "source": [
    "import pandas as pd\n",
    "import numpy as np\n",
    "from sklearn.pipeline import Pipeline\n",
    "from sklearn.preprocessing import StandardScaler, OneHotEncoder, PolynomialFeatures\n",
    "from sklearn.linear_model import LinearRegression\n",
    "from sklearn.model_selection import train_test_split\n",
    "from sklearn.metrics import make_scorer, mean_squared_error\n",
    "from sklearn.compose import ColumnTransformer"
   ]
  },
  {
   "cell_type": "code",
   "execution_count": 155,
   "id": "53768a34",
   "metadata": {},
   "outputs": [],
   "source": [
    "lr = LinearRegression()\n",
    "\n",
    "ames = pd.read_csv(\"/Users/elleberry/Desktop/Classes/MBA/GSB 544 - Computing and Machine Learning/Data/AmesHousing.csv\")\n",
    "\n",
    "X = ames[['Gr Liv Area', 'TotRms AbvGrd', 'Bldg Type']]\n",
    "y = ames['SalePrice']\n",
    "\n",
    "X_train, X_test, y_train, y_test = train_test_split(X, y)"
   ]
  },
  {
   "cell_type": "code",
   "execution_count": 156,
   "id": "6033c688",
   "metadata": {},
   "outputs": [],
   "source": [
    "# Model 1: Size and number of rooms.\n",
    "model_1 = Pipeline([\n",
    "    ('scaler', StandardScaler()),\n",
    "    ('regressor', LinearRegression())\n",
    "])"
   ]
  },
  {
   "cell_type": "code",
   "execution_count": 157,
   "id": "087f9644",
   "metadata": {},
   "outputs": [],
   "source": [
    "# Model 2: Size, number of rooms, and building type.\n",
    "model_2 = Pipeline([\n",
    "    ('preprocessor', ColumnTransformer(\n",
    "        transformers=[\n",
    "            ('num', StandardScaler(), ['Gr Liv Area', 'TotRms AbvGrd']),\n",
    "            ('cat', OneHotEncoder(sparse_output=False), ['Bldg Type'])\n",
    "        ],\n",
    "        remainder='passthrough'\n",
    "    )),\n",
    "    ('regressor', LinearRegression())\n",
    "])"
   ]
  },
  {
   "cell_type": "code",
   "execution_count": 158,
   "id": "2015fecd",
   "metadata": {},
   "outputs": [],
   "source": [
    "# Model 3: Size, building type, and their interaction.\n",
    "model_3 = Pipeline([\n",
    "    ('preprocessor', ColumnTransformer(\n",
    "        transformers=[\n",
    "            ('num', StandardScaler(), ['Gr Liv Area']),\n",
    "            ('cat', OneHotEncoder(sparse_output=False), ['Bldg Type'])  # Use OneHotEncoder to handle the categorical variable\n",
    "        ],\n",
    "        remainder='passthrough'\n",
    "    )),\n",
    "    ('poly', PolynomialFeatures(interaction_only=True)),\n",
    "    ('regressor', LinearRegression())\n",
    "])"
   ]
  },
  {
   "cell_type": "code",
   "execution_count": 159,
   "id": "bea0613b",
   "metadata": {},
   "outputs": [],
   "source": [
    "# Model 4: 5-degree polynomial on size, a 5-degree polynomial on number of rooms, and also building type.\n",
    "model_4 = Pipeline([\n",
    "    ('preprocessor', ColumnTransformer(\n",
    "        transformers=[\n",
    "            ('num', StandardScaler(), ['Gr Liv Area', 'TotRms AbvGrd']),\n",
    "            ('cat', OneHotEncoder(sparse_output=False), ['Bldg Type'])\n",
    "        ],\n",
    "        remainder='passthrough'\n",
    "    )),\n",
    "    ('poly', PolynomialFeatures(degree=5)),\n",
    "    ('regressor', LinearRegression())\n",
    "])"
   ]
  },
  {
   "cell_type": "code",
   "execution_count": 160,
   "id": "22fb0ef4",
   "metadata": {},
   "outputs": [
    {
     "name": "stdout",
     "output_type": "stream",
     "text": [
      "RMSE for Model 1:  55737.57021055191\n",
      "RMSE for Model 2:  53918.79395409218\n",
      "RMSE for Model 3:  52784.05253835477\n",
      "RMSE for Model 4:  49490.500408507454\n"
     ]
    }
   ],
   "source": [
    "model_1.fit(X[['Gr Liv Area', 'TotRms AbvGrd']], y)\n",
    "model_2.fit(X, y)\n",
    "model_3.fit(X, y)\n",
    "model_4.fit(X, y)\n",
    "\n",
    "pred_1 = model_1.predict(X_test[['Gr Liv Area', 'TotRms AbvGrd']])\n",
    "pred_2 = model_2.predict(X_test)\n",
    "pred_3 = model_3.predict(X_test)\n",
    "pred_4 = model_4.predict(X_test)\n",
    "\n",
    "rmse_1 = np.sqrt(mean_squared_error(y_test, pred_1))\n",
    "rmse_2 = np.sqrt(mean_squared_error(y_test, pred_2))\n",
    "rmse_3 = np.sqrt(mean_squared_error(y_test, pred_3))\n",
    "rmse_4 = np.sqrt(mean_squared_error(y_test, pred_4))\n",
    "\n",
    "print(\"RMSE for Model 1: \", rmse_1)\n",
    "print(\"RMSE for Model 2: \", rmse_2)\n",
    "print(\"RMSE for Model 3: \", rmse_3)\n",
    "print(\"RMSE for Model 4: \", rmse_4)"
   ]
  },
  {
   "cell_type": "markdown",
   "id": "bda098fc",
   "metadata": {},
   "source": [
    "Model 4 is the best for the data as it results in the lowest Root Mean Square Error of all 4 models. "
   ]
  },
  {
   "cell_type": "code",
   "execution_count": 161,
   "id": "c57c5fa7",
   "metadata": {},
   "outputs": [
    {
     "name": "stdout",
     "output_type": "stream",
     "text": [
      "Cross-validated RMSE for Model 1:  56001.24023779208\n",
      "Cross-validated RMSE for Model 2:  54305.840806452674\n",
      "Cross-validated RMSE for Model 3:  53529.853688347794\n",
      "Cross-validated RMSE for Model 4:  589320.4825004\n"
     ]
    }
   ],
   "source": [
    "# Cross-Validation\n",
    "from sklearn.model_selection import cross_val_score\n",
    "\n",
    "X = ames[['Gr Liv Area', 'TotRms AbvGrd', 'Bldg Type']].copy()\n",
    "X['Bldg Type'] = X['Bldg Type'].astype(str)\n",
    "\n",
    "X_test['Bldg Type'] = X_test['Bldg Type'].astype(str)\n",
    "\n",
    "# Dummify Building Type in the test set\n",
    "X_test = pd.get_dummies(X_test, columns=['Bldg Type'], drop_first=True) \n",
    "\n",
    "# Scoring method\n",
    "neg_mse_scorer = make_scorer(mean_squared_error, greater_is_better=False)\n",
    "\n",
    "# Cross-validated RMSE\n",
    "rmse_1 = np.sqrt(-cross_val_score(model_1, X[['Gr Liv Area', 'TotRms AbvGrd']], y, cv=5, scoring=neg_mse_scorer).mean())\n",
    "rmse_2 = np.sqrt(-cross_val_score(model_2, X, y, cv=5, scoring=neg_mse_scorer).mean())\n",
    "rmse_3 = np.sqrt(-cross_val_score(model_3, X, y, cv=5, scoring=neg_mse_scorer).mean())\n",
    "rmse_4 = np.sqrt(-cross_val_score(model_4, X, y, cv=5, scoring=neg_mse_scorer).mean())\n",
    "\n",
    "print(\"Cross-validated RMSE for Model 1: \", rmse_1)\n",
    "print(\"Cross-validated RMSE for Model 2: \", rmse_2)\n",
    "print(\"Cross-validated RMSE for Model 3: \", rmse_3)\n",
    "print(\"Cross-validated RMSE for Model 4: \", rmse_4)"
   ]
  },
  {
   "cell_type": "markdown",
   "id": "6df1807a",
   "metadata": {},
   "source": [
    "After finding the cross-validated root mean squared error it appears that model 4 is now very unfit for the data and model 3 is the best option. "
   ]
  },
  {
   "cell_type": "code",
   "execution_count": 162,
   "id": "653734d8",
   "metadata": {},
   "outputs": [
    {
     "name": "stdout",
     "output_type": "stream",
     "text": [
      "Best Degree Combination (Gr Liv Area, TotRms AbvGrd): (1, 3)\n",
      "Best Negative Mean Squared Error: 2909000559.982959\n",
      "Best R^2 Score: 0.5547887744591438\n"
     ]
    }
   ],
   "source": [
    "# Tuning\n",
    "    # Consider one hundred modeling options for house price:\n",
    "        # House size, trying degrees 1 through 10\n",
    "        # Number of rooms, trying degrees 1 through 10\n",
    "        # Building Type\n",
    "from sklearn.model_selection import GridSearchCV\n",
    "from sklearn.metrics import r2_score\n",
    "\n",
    "# Dummify Building Type\n",
    "X = pd.get_dummies(X, columns=['Bldg Type'], drop_first=True)\n",
    "\n",
    "best_degree_combination = None\n",
    "best_rmse = float('inf')\n",
    "\n",
    "for degree_size in range(1, 11):\n",
    "    for degree_rooms in range(1, 11):\n",
    "        # Define the degrees for polynomial features\n",
    "        degrees = {\n",
    "            'preprocessing__polynomial__degree': [degree_size, degree_rooms]\n",
    "        }\n",
    "\n",
    "        ct_poly = ColumnTransformer(\n",
    "            [\n",
    "                (\"polynomial\", PolynomialFeatures(), ['Gr Liv Area', 'TotRms AbvGrd'])\n",
    "            ],\n",
    "            remainder='passthrough'\n",
    "        )\n",
    "\n",
    "        lr_pipeline_poly = Pipeline([\n",
    "            (\"preprocessing\", ct_poly),\n",
    "            (\"linear_regression\", LinearRegression())\n",
    "        ]).set_output(transform=\"pandas\")\n",
    "\n",
    "        # GridSearchCV to find best model\n",
    "        gscv = GridSearchCV(lr_pipeline_poly, degrees, cv=5, scoring='neg_mean_squared_error')\n",
    "\n",
    "        gscv_fitted = gscv.fit(X, y)\n",
    "\n",
    "        neg_mse = -gscv_fitted.best_score_\n",
    "\n",
    "        if neg_mse < best_rmse:\n",
    "            best_rmse = neg_mse\n",
    "            best_degree_combination = (degree_size, degree_rooms)\n",
    "\n",
    "# After finding the best degree combination, create a model with it\n",
    "best_degree_size, best_degree_rooms = best_degree_combination\n",
    "best_ct_poly = ColumnTransformer(\n",
    "    [\n",
    "        (\"poly_size\", PolynomialFeatures(degree=best_degree_size), ['Gr Liv Area']),\n",
    "        (\"poly_rooms\", PolynomialFeatures(degree=best_degree_rooms), ['TotRms AbvGrd']),\n",
    "    ],\n",
    "    remainder='passthrough'\n",
    ")\n",
    "\n",
    "best_lr_pipeline_poly = Pipeline([\n",
    "    (\"preprocessing\", best_ct_poly),\n",
    "    (\"linear_regression\", LinearRegression())\n",
    "]).set_output(transform=\"pandas\")\n",
    "\n",
    "best_lr_pipeline_poly.fit(X, y)\n",
    "\n",
    "# Make predictions with the best model\n",
    "y_pred = best_lr_pipeline_poly.predict(X)\n",
    "\n",
    "# Calculate R^2 for the best combination\n",
    "best_r2 = r2_score(y, y_pred)\n",
    "\n",
    "print(\"Best Degree Combination (Gr Liv Area, TotRms AbvGrd):\", best_degree_combination)\n",
    "print(\"Best Negative Mean Squared Error:\", best_rmse)\n",
    "print(\"Best R^2 Score:\", best_r2)"
   ]
  },
  {
   "cell_type": "markdown",
   "id": "d5013408",
   "metadata": {},
   "source": [
    "Q1: House size with degree 1, number of rooms with degree 10, building Type \n",
    "Q2: It can be time consuming to test all the models especially with large datasets, and trying many different combinations can lead to overfitting. "
   ]
  }
 ],
 "metadata": {
  "kernelspec": {
   "display_name": "Python 3 (ipykernel)",
   "language": "python",
   "name": "python3"
  },
  "language_info": {
   "codemirror_mode": {
    "name": "ipython",
    "version": 3
   },
   "file_extension": ".py",
   "mimetype": "text/x-python",
   "name": "python",
   "nbconvert_exporter": "python",
   "pygments_lexer": "ipython3",
   "version": "3.11.4"
  }
 },
 "nbformat": 4,
 "nbformat_minor": 5
}
