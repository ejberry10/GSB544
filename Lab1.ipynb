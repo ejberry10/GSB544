{
 "cells": [
  {
   "cell_type": "markdown",
   "id": "4e212622",
   "metadata": {},
   "source": [
    "# Lab 1\n",
    "\n",
    "Elizabeth Berry\n",
    "\n",
    "GSB 544\n",
    "\n",
    "10/4/23"
   ]
  },
  {
   "cell_type": "code",
   "execution_count": 2,
   "id": "d52bece4",
   "metadata": {},
   "outputs": [],
   "source": [
    "import pandas as pd\n",
    "from plotnine import *"
   ]
  },
  {
   "cell_type": "markdown",
   "id": "6185c5df",
   "metadata": {},
   "source": [
    "## Task 1"
   ]
  },
  {
   "cell_type": "markdown",
   "id": "51a37b4c",
   "metadata": {},
   "source": [
    "1. Y-axis: life expectancy\n",
    "    \n",
    "    X-axis: income\n",
    "        \n",
    "    Bubble color: world region\n",
    "        \n",
    "    Bubble size: population\n",
    "        \n",
    "    Background: year"
   ]
  },
  {
   "cell_type": "code",
   "execution_count": 3,
   "id": "0e9cc07c",
   "metadata": {},
   "outputs": [
    {
     "data": {
      "text/html": [
       "<div>\n",
       "<style scoped>\n",
       "    .dataframe tbody tr th:only-of-type {\n",
       "        vertical-align: middle;\n",
       "    }\n",
       "\n",
       "    .dataframe tbody tr th {\n",
       "        vertical-align: top;\n",
       "    }\n",
       "\n",
       "    .dataframe thead th {\n",
       "        text-align: right;\n",
       "    }\n",
       "</style>\n",
       "<table border=\"1\" class=\"dataframe\">\n",
       "  <thead>\n",
       "    <tr style=\"text-align: right;\">\n",
       "      <th></th>\n",
       "      <th>income</th>\n",
       "      <th>life_exp</th>\n",
       "      <th>population</th>\n",
       "      <th>year</th>\n",
       "      <th>country</th>\n",
       "      <th>four_regions</th>\n",
       "      <th>six_regions</th>\n",
       "      <th>eight_regions</th>\n",
       "      <th>world_bank_region</th>\n",
       "    </tr>\n",
       "  </thead>\n",
       "  <tbody>\n",
       "    <tr>\n",
       "      <th>0</th>\n",
       "      <td>1910.0</td>\n",
       "      <td>61.0</td>\n",
       "      <td>29200000.0</td>\n",
       "      <td>2010</td>\n",
       "      <td>Afghanistan</td>\n",
       "      <td>asia</td>\n",
       "      <td>south_asia</td>\n",
       "      <td>asia_west</td>\n",
       "      <td>South Asia</td>\n",
       "    </tr>\n",
       "    <tr>\n",
       "      <th>1</th>\n",
       "      <td>11100.0</td>\n",
       "      <td>78.1</td>\n",
       "      <td>2950000.0</td>\n",
       "      <td>2010</td>\n",
       "      <td>Albania</td>\n",
       "      <td>europe</td>\n",
       "      <td>europe_central_asia</td>\n",
       "      <td>europe_east</td>\n",
       "      <td>Europe &amp; Central Asia</td>\n",
       "    </tr>\n",
       "    <tr>\n",
       "      <th>2</th>\n",
       "      <td>11100.0</td>\n",
       "      <td>74.7</td>\n",
       "      <td>36000000.0</td>\n",
       "      <td>2010</td>\n",
       "      <td>Algeria</td>\n",
       "      <td>africa</td>\n",
       "      <td>middle_east_north_africa</td>\n",
       "      <td>africa_north</td>\n",
       "      <td>Middle East &amp; North Africa</td>\n",
       "    </tr>\n",
       "    <tr>\n",
       "      <th>3</th>\n",
       "      <td>46900.0</td>\n",
       "      <td>81.9</td>\n",
       "      <td>84500.0</td>\n",
       "      <td>2010</td>\n",
       "      <td>Andorra</td>\n",
       "      <td>europe</td>\n",
       "      <td>europe_central_asia</td>\n",
       "      <td>europe_west</td>\n",
       "      <td>Europe &amp; Central Asia</td>\n",
       "    </tr>\n",
       "    <tr>\n",
       "      <th>4</th>\n",
       "      <td>7680.0</td>\n",
       "      <td>60.8</td>\n",
       "      <td>23400000.0</td>\n",
       "      <td>2010</td>\n",
       "      <td>Angola</td>\n",
       "      <td>africa</td>\n",
       "      <td>sub_saharan_africa</td>\n",
       "      <td>africa_sub_saharan</td>\n",
       "      <td>Sub-Saharan Africa</td>\n",
       "    </tr>\n",
       "    <tr>\n",
       "      <th>...</th>\n",
       "      <td>...</td>\n",
       "      <td>...</td>\n",
       "      <td>...</td>\n",
       "      <td>...</td>\n",
       "      <td>...</td>\n",
       "      <td>...</td>\n",
       "      <td>...</td>\n",
       "      <td>...</td>\n",
       "      <td>...</td>\n",
       "    </tr>\n",
       "    <tr>\n",
       "      <th>192</th>\n",
       "      <td>20400.0</td>\n",
       "      <td>75.4</td>\n",
       "      <td>28400000.0</td>\n",
       "      <td>2010</td>\n",
       "      <td>Venezuela</td>\n",
       "      <td>americas</td>\n",
       "      <td>america</td>\n",
       "      <td>america_south</td>\n",
       "      <td>Latin America &amp; Caribbean</td>\n",
       "    </tr>\n",
       "    <tr>\n",
       "      <th>193</th>\n",
       "      <td>5350.0</td>\n",
       "      <td>73.3</td>\n",
       "      <td>88000000.0</td>\n",
       "      <td>2010</td>\n",
       "      <td>Vietnam</td>\n",
       "      <td>asia</td>\n",
       "      <td>east_asia_pacific</td>\n",
       "      <td>east_asia_pacific</td>\n",
       "      <td>East Asia &amp; Pacific</td>\n",
       "    </tr>\n",
       "    <tr>\n",
       "      <th>194</th>\n",
       "      <td>4700.0</td>\n",
       "      <td>67.8</td>\n",
       "      <td>23200000.0</td>\n",
       "      <td>2010</td>\n",
       "      <td>Yemen</td>\n",
       "      <td>asia</td>\n",
       "      <td>middle_east_north_africa</td>\n",
       "      <td>asia_west</td>\n",
       "      <td>Middle East &amp; North Africa</td>\n",
       "    </tr>\n",
       "    <tr>\n",
       "      <th>195</th>\n",
       "      <td>3200.0</td>\n",
       "      <td>57.5</td>\n",
       "      <td>13600000.0</td>\n",
       "      <td>2010</td>\n",
       "      <td>Zambia</td>\n",
       "      <td>africa</td>\n",
       "      <td>sub_saharan_africa</td>\n",
       "      <td>africa_sub_saharan</td>\n",
       "      <td>Sub-Saharan Africa</td>\n",
       "    </tr>\n",
       "    <tr>\n",
       "      <th>196</th>\n",
       "      <td>2560.0</td>\n",
       "      <td>54.4</td>\n",
       "      <td>12700000.0</td>\n",
       "      <td>2010</td>\n",
       "      <td>Zimbabwe</td>\n",
       "      <td>africa</td>\n",
       "      <td>sub_saharan_africa</td>\n",
       "      <td>africa_sub_saharan</td>\n",
       "      <td>Sub-Saharan Africa</td>\n",
       "    </tr>\n",
       "  </tbody>\n",
       "</table>\n",
       "<p>197 rows × 9 columns</p>\n",
       "</div>"
      ],
      "text/plain": [
       "      income  life_exp  population  year      country four_regions  \\\n",
       "0     1910.0      61.0  29200000.0  2010  Afghanistan         asia   \n",
       "1    11100.0      78.1   2950000.0  2010      Albania       europe   \n",
       "2    11100.0      74.7  36000000.0  2010      Algeria       africa   \n",
       "3    46900.0      81.9     84500.0  2010      Andorra       europe   \n",
       "4     7680.0      60.8  23400000.0  2010       Angola       africa   \n",
       "..       ...       ...         ...   ...          ...          ...   \n",
       "192  20400.0      75.4  28400000.0  2010    Venezuela     americas   \n",
       "193   5350.0      73.3  88000000.0  2010      Vietnam         asia   \n",
       "194   4700.0      67.8  23200000.0  2010        Yemen         asia   \n",
       "195   3200.0      57.5  13600000.0  2010       Zambia       africa   \n",
       "196   2560.0      54.4  12700000.0  2010     Zimbabwe       africa   \n",
       "\n",
       "                  six_regions       eight_regions           world_bank_region  \n",
       "0                  south_asia           asia_west                  South Asia  \n",
       "1         europe_central_asia         europe_east       Europe & Central Asia  \n",
       "2    middle_east_north_africa        africa_north  Middle East & North Africa  \n",
       "3         europe_central_asia         europe_west       Europe & Central Asia  \n",
       "4          sub_saharan_africa  africa_sub_saharan          Sub-Saharan Africa  \n",
       "..                        ...                 ...                         ...  \n",
       "192                   america       america_south   Latin America & Caribbean  \n",
       "193         east_asia_pacific   east_asia_pacific         East Asia & Pacific  \n",
       "194  middle_east_north_africa           asia_west  Middle East & North Africa  \n",
       "195        sub_saharan_africa  africa_sub_saharan          Sub-Saharan Africa  \n",
       "196        sub_saharan_africa  africa_sub_saharan          Sub-Saharan Africa  \n",
       "\n",
       "[197 rows x 9 columns]"
      ]
     },
     "execution_count": 3,
     "metadata": {},
     "output_type": "execute_result"
    }
   ],
   "source": [
    "file_path1 = \"Data/q1data.csv\"\n",
    "\n",
    "# Read the CSV files into DataFrame\n",
    "dfq1 = pd.read_csv(file_path1)\n",
    "dfq1"
   ]
  },
  {
   "cell_type": "code",
   "execution_count": 134,
   "id": "5229f497",
   "metadata": {},
   "outputs": [
    {
     "data": {
      "application/vnd.plotly.v1+json": {
       "config": {
        "plotlyServerURL": "https://plot.ly"
       },
       "data": [
        {
         "hovertemplate": "<b>%{hovertext}</b><br><br>four_regions=asia<br>income=%{x}<br>life_exp=%{y}<br>population=%{marker.size}<extra></extra>",
         "hovertext": [
          "Afghanistan",
          "Australia",
          "Bahrain",
          "Bangladesh",
          "Bhutan",
          "Brunei",
          "Cambodia",
          "China",
          "Fiji",
          "India",
          "Indonesia",
          "Iran",
          "Iraq",
          "Israel",
          "Japan",
          "Jordan",
          "Kazakhstan",
          "Kiribati",
          "Kuwait",
          "Kyrgyz Republic",
          "Lao",
          "Lebanon",
          "Malaysia",
          "Maldives",
          "Marshall Islands",
          "Micronesia, Fed. Sts.",
          "Mongolia",
          "Myanmar",
          "Nauru",
          "Nepal",
          "New Zealand",
          "North Korea",
          "Oman",
          "Pakistan",
          "Palau",
          "Palestine",
          "Papua New Guinea",
          "Philippines",
          "Qatar",
          "Samoa",
          "Saudi Arabia",
          "Singapore",
          "Solomon Islands",
          "South Korea",
          "Sri Lanka",
          "Syria",
          "Tajikistan",
          "Thailand",
          "Timor-Leste",
          "Tonga",
          "Turkmenistan",
          "Tuvalu",
          "United Arab Emirates",
          "Uzbekistan",
          "Vanuatu",
          "Vietnam",
          "Yemen"
         ],
         "legendgroup": "asia",
         "marker": {
          "color": "#636efa",
          "size": [
           29200000,
           22200000,
           1240000,
           148000000,
           686000,
           389000,
           14300000,
           1370000000,
           860000,
           1230000000,
           242000000,
           73800000,
           29700000,
           7350000,
           129000000,
           7260000,
           16300000,
           103000,
           2990000,
           5420000,
           6250000,
           4950000,
           28200000,
           366000,
           56400,
           103000,
           2720000,
           50600000,
           10000,
           27000000,
           4370000,
           24500000,
           3040000,
           179000000,
           18000,
           4060000,
           7310000,
           94000000,
           1860000,
           186000,
           27400000,
           5130000,
           528000,
           49500000,
           20300000,
           21400000,
           7530000,
           67200000,
           1090000,
           104000,
           5090000,
           10500,
           8550000,
           28500000,
           236000,
           88000000,
           23200000
          ],
          "sizemode": "area",
          "sizeref": 3425000,
          "symbol": "circle"
         },
         "mode": "markers",
         "name": "asia",
         "orientation": "v",
         "showlegend": true,
         "type": "scatter",
         "x": [
          1910,
          45600,
          44200,
          3040,
          8750,
          69400,
          2870,
          9690,
          10800,
          4390,
          8680,
          14000,
          9440,
          36000,
          37700,
          11000,
          22000,
          1920,
          60900,
          4340,
          5160,
          18700,
          21300,
          17000,
          3610,
          3760,
          8610,
          3280,
          7330,
          2430,
          38400,
          2020,
          32500,
          3930,
          16300,
          5780,
          3370,
          6040,
          99100,
          6210,
          47000,
          81400,
          2550,
          35500,
          9830,
          6880,
          2370,
          14500,
          3050,
          5550,
          9720,
          3490,
          56100,
          4880,
          3190,
          5350,
          4700
         ],
         "xaxis": "x",
         "y": [
          61,
          82.3,
          75.3,
          71.1,
          71.3,
          73.9,
          67.4,
          75.3,
          67.7,
          67.6,
          69.6,
          75.8,
          71,
          82,
          83.2,
          77.2,
          68.1,
          59,
          80.9,
          70.3,
          65.6,
          75.7,
          74.6,
          78,
          64.2,
          64.1,
          65.5,
          65.4,
          60.5,
          69.2,
          80.9,
          71.2,
          70.8,
          63.6,
          67,
          73.7,
          63,
          70.7,
          73.9,
          69.7,
          72.2,
          83.1,
          57.6,
          81.2,
          75.3,
          72.8,
          68.1,
          77.4,
          70.2,
          72.3,
          69.6,
          66.8,
          71,
          66.6,
          64.5,
          73.3,
          67.8
         ],
         "yaxis": "y"
        },
        {
         "hovertemplate": "<b>%{hovertext}</b><br><br>four_regions=europe<br>income=%{x}<br>life_exp=%{y}<br>population=%{marker.size}<extra></extra>",
         "hovertext": [
          "Albania",
          "Andorra",
          "Armenia",
          "Austria",
          "Azerbaijan",
          "Belarus",
          "Belgium",
          "Bosnia and Herzegovina",
          "Bulgaria",
          "Croatia",
          "Cyprus",
          "Czech Republic",
          "Denmark",
          "Estonia",
          "Finland",
          "France",
          "Georgia",
          "Germany",
          "Greece",
          "Hungary",
          "Iceland",
          "Ireland",
          "Italy",
          "Latvia",
          "Lithuania",
          "Luxembourg",
          "Malta",
          "Moldova",
          "Monaco",
          "Montenegro",
          "Netherlands",
          "Norway",
          "Poland",
          "Portugal",
          "Romania",
          "Russia",
          "San Marino",
          "Serbia",
          "Slovak Republic",
          "Slovenia",
          "Spain",
          "Sweden",
          "Switzerland",
          "Turkey",
          "Ukraine",
          "United Kingdom"
         ],
         "legendgroup": "europe",
         "marker": {
          "color": "#EF553B",
          "size": [
           2950000,
           84500,
           2880000,
           8410000,
           9030000,
           9420000,
           10900000,
           3710000,
           7430000,
           4330000,
           1110000,
           10500000,
           5550000,
           1330000,
           5370000,
           62900000,
           4100000,
           80800000,
           10900000,
           9930000,
           320000,
           4550000,
           59300000,
           2120000,
           3120000,
           508000,
           414000,
           4090000,
           35600,
           624000,
           16700000,
           4890000,
           38300000,
           10600000,
           20500000,
           143000000,
           31200,
           8990000,
           5400000,
           2040000,
           46900000,
           9390000,
           7810000,
           72300000,
           45800000,
           63500000
          ],
          "sizemode": "area",
          "sizeref": 3425000,
          "symbol": "circle"
         },
         "mode": "markers",
         "name": "europe",
         "orientation": "v",
         "showlegend": true,
         "type": "scatter",
         "x": [
          11100,
          46900,
          9730,
          53300,
          13900,
          18300,
          48300,
          11200,
          18000,
          24400,
          37400,
          34100,
          51500,
          28200,
          46900,
          43000,
          10500,
          49800,
          31100,
          25100,
          47300,
          52900,
          43000,
          22900,
          26100,
          108000,
          32900,
          9050,
          64900,
          17300,
          52800,
          61400,
          25200,
          31400,
          20900,
          25000,
          64700,
          15000,
          26200,
          33700,
          37000,
          49100,
          64600,
          22000,
          12500,
          42500
         ],
         "xaxis": "x",
         "y": [
          78.1,
          81.9,
          74.2,
          81,
          69.2,
          70.5,
          80.4,
          76.4,
          72.7,
          77.1,
          79.8,
          78,
          79.9,
          76.3,
          80.7,
          81.8,
          72.2,
          80.7,
          80.5,
          75.1,
          82.8,
          80.8,
          82.2,
          73.9,
          73.7,
          81.3,
          81.2,
          71.7,
          79.2,
          74.9,
          81.1,
          81.3,
          76.8,
          80.5,
          74.6,
          70,
          81.9,
          74.3,
          76,
          80,
          82.3,
          82,
          83,
          76.8,
          71.5,
          80.8
         ],
         "yaxis": "y"
        },
        {
         "hovertemplate": "<b>%{hovertext}</b><br><br>four_regions=africa<br>income=%{x}<br>life_exp=%{y}<br>population=%{marker.size}<extra></extra>",
         "hovertext": [
          "Algeria",
          "Angola",
          "Benin",
          "Botswana",
          "Burkina Faso",
          "Burundi",
          "Cameroon",
          "Cape Verde",
          "Central African Republic",
          "Chad",
          "Comoros",
          "Congo, Dem. Rep.",
          "Congo, Rep.",
          "Cote d'Ivoire",
          "Djibouti",
          "Egypt",
          "Equatorial Guinea",
          "Eritrea",
          "Ethiopia",
          "Gabon",
          "Gambia",
          "Ghana",
          "Guinea",
          "Guinea-Bissau",
          "Kenya",
          "Lesotho",
          "Liberia",
          "Libya",
          "Madagascar",
          "Malawi",
          "Mali",
          "Mauritania",
          "Mauritius",
          "Morocco",
          "Mozambique",
          "Namibia",
          "Niger",
          "Nigeria",
          "Rwanda",
          "Sao Tome and Principe",
          "Senegal",
          "Seychelles",
          "Sierra Leone",
          "Somalia",
          "South Africa",
          "South Sudan",
          "Sudan",
          "Tanzania",
          "Togo",
          "Tunisia",
          "Uganda",
          "Zambia",
          "Zimbabwe"
         ],
         "legendgroup": "africa",
         "marker": {
          "color": "#00cc96",
          "size": [
           36000000,
           23400000,
           9200000,
           1990000,
           15600000,
           8680000,
           20300000,
           493000,
           4390000,
           12000000,
           690000,
           64600000,
           4270000,
           20500000,
           840000,
           82800000,
           944000,
           3170000,
           87600000,
           1620000,
           1790000,
           24800000,
           10200000,
           1520000,
           42000000,
           2000000,
           3890000,
           6200000,
           21200000,
           14500000,
           15000000,
           3490000,
           1250000,
           32300000,
           23500000,
           2120000,
           16500000,
           159000000,
           10000000,
           180000,
           12700000,
           91300,
           6420000,
           12000000,
           51200000,
           9510000,
           34500000,
           44300000,
           6420000,
           10600000,
           32400000,
           13600000,
           12700000
          ],
          "sizemode": "area",
          "sizeref": 3425000,
          "symbol": "circle"
         },
         "mode": "markers",
         "name": "africa",
         "orientation": "v",
         "showlegend": true,
         "type": "scatter",
         "x": [
          11100,
          7680,
          2710,
          14800,
          1780,
          853,
          3130,
          6370,
          1240,
          1680,
          2930,
          895,
          5190,
          2810,
          3770,
          10300,
          35400,
          2350,
          1360,
          14900,
          2090,
          4160,
          1930,
          1840,
          3440,
          2390,
          1490,
          8480,
          1540,
          987,
          2090,
          4820,
          17500,
          6530,
          1070,
          9180,
          1020,
          5060,
          1590,
          3430,
          2710,
          23200,
          1470,
          686,
          12700,
          4140,
          3650,
          2100,
          1270,
          9820,
          1970,
          3200,
          2560
         ],
         "xaxis": "x",
         "y": [
          74.7,
          60.8,
          61.4,
          57.8,
          58.3,
          59.4,
          58.2,
          74.5,
          48.3,
          56.9,
          65.7,
          59.4,
          61.6,
          57.8,
          63.6,
          69.6,
          63.1,
          60.4,
          64,
          63.7,
          64.2,
          62.4,
          57.9,
          56.9,
          62,
          48.2,
          62.4,
          73.2,
          62.9,
          57.7,
          58.9,
          68.4,
          74.6,
          72.1,
          53.6,
          61.9,
          59.3,
          60.2,
          65.3,
          69.3,
          66,
          73.4,
          56.6,
          54.3,
          58.7,
          60.5,
          67.6,
          61.7,
          60.2,
          76.2,
          60.4,
          57.5,
          54.4
         ],
         "yaxis": "y"
        },
        {
         "hovertemplate": "<b>%{hovertext}</b><br><br>four_regions=americas<br>income=%{x}<br>life_exp=%{y}<br>population=%{marker.size}<extra></extra>",
         "hovertext": [
          "Antigua and Barbuda",
          "Argentina",
          "Bahamas",
          "Barbados",
          "Belize",
          "Bolivia",
          "Brazil",
          "Canada",
          "Chile",
          "Colombia",
          "Costa Rica",
          "Cuba",
          "Dominica",
          "Dominican Republic",
          "Ecuador",
          "El Salvador",
          "Grenada",
          "Guatemala",
          "Guyana",
          "Haiti",
          "Honduras",
          "Jamaica",
          "Mexico",
          "Nicaragua",
          "Panama",
          "Paraguay",
          "Peru",
          "St. Kitts and Nevis",
          "St. Lucia",
          "St. Vincent and the Grenadines",
          "Suriname",
          "Trinidad and Tobago",
          "United States",
          "Uruguay",
          "Venezuela"
         ],
         "legendgroup": "americas",
         "marker": {
          "color": "#ab63fa",
          "size": [
           88000,
           40900000,
           355000,
           282000,
           322000,
           10000000,
           196000000,
           34100000,
           17100000,
           45200000,
           4580000,
           11200000,
           70900,
           9700000,
           15000000,
           6180000,
           106000,
           14600000,
           749000,
           9950000,
           8320000,
           2810000,
           114000000,
           5820000,
           3640000,
           6250000,
           29000000,
           49000,
           174000,
           108000,
           529000,
           1330000,
           309000000,
           3360000,
           28400000
          ],
          "sizemode": "area",
          "sizeref": 3425000,
          "symbol": "circle"
         },
         "mode": "markers",
         "name": "americas",
         "orientation": "v",
         "showlegend": true,
         "type": "scatter",
         "x": [
          17600,
          24600,
          36300,
          15400,
          7180,
          6850,
          15300,
          45900,
          22400,
          12500,
          16900,
          7970,
          12000,
          13000,
          11000,
          7580,
          13400,
          7500,
          10300,
          2860,
          4960,
          9550,
          18200,
          4840,
          23400,
          10700,
          10600,
          23900,
          14800,
          11400,
          17700,
          28700,
          54800,
          18600,
          20400
         ],
         "xaxis": "x",
         "y": [
          76,
          76,
          73.2,
          76.2,
          73.8,
          70.5,
          74,
          81.9,
          79,
          78.7,
          80.2,
          79.1,
          72.4,
          73.4,
          74.9,
          75.1,
          72.6,
          70.7,
          65.7,
          60,
          71,
          75.8,
          75.5,
          74.3,
          78.7,
          76,
          77.7,
          72.3,
          76,
          73.2,
          72.8,
          74.5,
          78.9,
          76.4,
          75.4
         ],
         "yaxis": "y"
        }
       ],
       "layout": {
        "legend": {
         "itemsizing": "constant",
         "title": {
          "text": "World Region"
         },
         "tracegroupgap": 0
        },
        "margin": {
         "t": 60
        },
        "plot_bgcolor": "white",
        "showlegend": true,
        "template": {
         "data": {
          "bar": [
           {
            "error_x": {
             "color": "#2a3f5f"
            },
            "error_y": {
             "color": "#2a3f5f"
            },
            "marker": {
             "line": {
              "color": "#E5ECF6",
              "width": 0.5
             },
             "pattern": {
              "fillmode": "overlay",
              "size": 10,
              "solidity": 0.2
             }
            },
            "type": "bar"
           }
          ],
          "barpolar": [
           {
            "marker": {
             "line": {
              "color": "#E5ECF6",
              "width": 0.5
             },
             "pattern": {
              "fillmode": "overlay",
              "size": 10,
              "solidity": 0.2
             }
            },
            "type": "barpolar"
           }
          ],
          "carpet": [
           {
            "aaxis": {
             "endlinecolor": "#2a3f5f",
             "gridcolor": "white",
             "linecolor": "white",
             "minorgridcolor": "white",
             "startlinecolor": "#2a3f5f"
            },
            "baxis": {
             "endlinecolor": "#2a3f5f",
             "gridcolor": "white",
             "linecolor": "white",
             "minorgridcolor": "white",
             "startlinecolor": "#2a3f5f"
            },
            "type": "carpet"
           }
          ],
          "choropleth": [
           {
            "colorbar": {
             "outlinewidth": 0,
             "ticks": ""
            },
            "type": "choropleth"
           }
          ],
          "contour": [
           {
            "colorbar": {
             "outlinewidth": 0,
             "ticks": ""
            },
            "colorscale": [
             [
              0,
              "#0d0887"
             ],
             [
              0.1111111111111111,
              "#46039f"
             ],
             [
              0.2222222222222222,
              "#7201a8"
             ],
             [
              0.3333333333333333,
              "#9c179e"
             ],
             [
              0.4444444444444444,
              "#bd3786"
             ],
             [
              0.5555555555555556,
              "#d8576b"
             ],
             [
              0.6666666666666666,
              "#ed7953"
             ],
             [
              0.7777777777777778,
              "#fb9f3a"
             ],
             [
              0.8888888888888888,
              "#fdca26"
             ],
             [
              1,
              "#f0f921"
             ]
            ],
            "type": "contour"
           }
          ],
          "contourcarpet": [
           {
            "colorbar": {
             "outlinewidth": 0,
             "ticks": ""
            },
            "type": "contourcarpet"
           }
          ],
          "heatmap": [
           {
            "colorbar": {
             "outlinewidth": 0,
             "ticks": ""
            },
            "colorscale": [
             [
              0,
              "#0d0887"
             ],
             [
              0.1111111111111111,
              "#46039f"
             ],
             [
              0.2222222222222222,
              "#7201a8"
             ],
             [
              0.3333333333333333,
              "#9c179e"
             ],
             [
              0.4444444444444444,
              "#bd3786"
             ],
             [
              0.5555555555555556,
              "#d8576b"
             ],
             [
              0.6666666666666666,
              "#ed7953"
             ],
             [
              0.7777777777777778,
              "#fb9f3a"
             ],
             [
              0.8888888888888888,
              "#fdca26"
             ],
             [
              1,
              "#f0f921"
             ]
            ],
            "type": "heatmap"
           }
          ],
          "heatmapgl": [
           {
            "colorbar": {
             "outlinewidth": 0,
             "ticks": ""
            },
            "colorscale": [
             [
              0,
              "#0d0887"
             ],
             [
              0.1111111111111111,
              "#46039f"
             ],
             [
              0.2222222222222222,
              "#7201a8"
             ],
             [
              0.3333333333333333,
              "#9c179e"
             ],
             [
              0.4444444444444444,
              "#bd3786"
             ],
             [
              0.5555555555555556,
              "#d8576b"
             ],
             [
              0.6666666666666666,
              "#ed7953"
             ],
             [
              0.7777777777777778,
              "#fb9f3a"
             ],
             [
              0.8888888888888888,
              "#fdca26"
             ],
             [
              1,
              "#f0f921"
             ]
            ],
            "type": "heatmapgl"
           }
          ],
          "histogram": [
           {
            "marker": {
             "pattern": {
              "fillmode": "overlay",
              "size": 10,
              "solidity": 0.2
             }
            },
            "type": "histogram"
           }
          ],
          "histogram2d": [
           {
            "colorbar": {
             "outlinewidth": 0,
             "ticks": ""
            },
            "colorscale": [
             [
              0,
              "#0d0887"
             ],
             [
              0.1111111111111111,
              "#46039f"
             ],
             [
              0.2222222222222222,
              "#7201a8"
             ],
             [
              0.3333333333333333,
              "#9c179e"
             ],
             [
              0.4444444444444444,
              "#bd3786"
             ],
             [
              0.5555555555555556,
              "#d8576b"
             ],
             [
              0.6666666666666666,
              "#ed7953"
             ],
             [
              0.7777777777777778,
              "#fb9f3a"
             ],
             [
              0.8888888888888888,
              "#fdca26"
             ],
             [
              1,
              "#f0f921"
             ]
            ],
            "type": "histogram2d"
           }
          ],
          "histogram2dcontour": [
           {
            "colorbar": {
             "outlinewidth": 0,
             "ticks": ""
            },
            "colorscale": [
             [
              0,
              "#0d0887"
             ],
             [
              0.1111111111111111,
              "#46039f"
             ],
             [
              0.2222222222222222,
              "#7201a8"
             ],
             [
              0.3333333333333333,
              "#9c179e"
             ],
             [
              0.4444444444444444,
              "#bd3786"
             ],
             [
              0.5555555555555556,
              "#d8576b"
             ],
             [
              0.6666666666666666,
              "#ed7953"
             ],
             [
              0.7777777777777778,
              "#fb9f3a"
             ],
             [
              0.8888888888888888,
              "#fdca26"
             ],
             [
              1,
              "#f0f921"
             ]
            ],
            "type": "histogram2dcontour"
           }
          ],
          "mesh3d": [
           {
            "colorbar": {
             "outlinewidth": 0,
             "ticks": ""
            },
            "type": "mesh3d"
           }
          ],
          "parcoords": [
           {
            "line": {
             "colorbar": {
              "outlinewidth": 0,
              "ticks": ""
             }
            },
            "type": "parcoords"
           }
          ],
          "pie": [
           {
            "automargin": true,
            "type": "pie"
           }
          ],
          "scatter": [
           {
            "fillpattern": {
             "fillmode": "overlay",
             "size": 10,
             "solidity": 0.2
            },
            "type": "scatter"
           }
          ],
          "scatter3d": [
           {
            "line": {
             "colorbar": {
              "outlinewidth": 0,
              "ticks": ""
             }
            },
            "marker": {
             "colorbar": {
              "outlinewidth": 0,
              "ticks": ""
             }
            },
            "type": "scatter3d"
           }
          ],
          "scattercarpet": [
           {
            "marker": {
             "colorbar": {
              "outlinewidth": 0,
              "ticks": ""
             }
            },
            "type": "scattercarpet"
           }
          ],
          "scattergeo": [
           {
            "marker": {
             "colorbar": {
              "outlinewidth": 0,
              "ticks": ""
             }
            },
            "type": "scattergeo"
           }
          ],
          "scattergl": [
           {
            "marker": {
             "colorbar": {
              "outlinewidth": 0,
              "ticks": ""
             }
            },
            "type": "scattergl"
           }
          ],
          "scattermapbox": [
           {
            "marker": {
             "colorbar": {
              "outlinewidth": 0,
              "ticks": ""
             }
            },
            "type": "scattermapbox"
           }
          ],
          "scatterpolar": [
           {
            "marker": {
             "colorbar": {
              "outlinewidth": 0,
              "ticks": ""
             }
            },
            "type": "scatterpolar"
           }
          ],
          "scatterpolargl": [
           {
            "marker": {
             "colorbar": {
              "outlinewidth": 0,
              "ticks": ""
             }
            },
            "type": "scatterpolargl"
           }
          ],
          "scatterternary": [
           {
            "marker": {
             "colorbar": {
              "outlinewidth": 0,
              "ticks": ""
             }
            },
            "type": "scatterternary"
           }
          ],
          "surface": [
           {
            "colorbar": {
             "outlinewidth": 0,
             "ticks": ""
            },
            "colorscale": [
             [
              0,
              "#0d0887"
             ],
             [
              0.1111111111111111,
              "#46039f"
             ],
             [
              0.2222222222222222,
              "#7201a8"
             ],
             [
              0.3333333333333333,
              "#9c179e"
             ],
             [
              0.4444444444444444,
              "#bd3786"
             ],
             [
              0.5555555555555556,
              "#d8576b"
             ],
             [
              0.6666666666666666,
              "#ed7953"
             ],
             [
              0.7777777777777778,
              "#fb9f3a"
             ],
             [
              0.8888888888888888,
              "#fdca26"
             ],
             [
              1,
              "#f0f921"
             ]
            ],
            "type": "surface"
           }
          ],
          "table": [
           {
            "cells": {
             "fill": {
              "color": "#EBF0F8"
             },
             "line": {
              "color": "white"
             }
            },
            "header": {
             "fill": {
              "color": "#C8D4E3"
             },
             "line": {
              "color": "white"
             }
            },
            "type": "table"
           }
          ]
         },
         "layout": {
          "annotationdefaults": {
           "arrowcolor": "#2a3f5f",
           "arrowhead": 0,
           "arrowwidth": 1
          },
          "autotypenumbers": "strict",
          "coloraxis": {
           "colorbar": {
            "outlinewidth": 0,
            "ticks": ""
           }
          },
          "colorscale": {
           "diverging": [
            [
             0,
             "#8e0152"
            ],
            [
             0.1,
             "#c51b7d"
            ],
            [
             0.2,
             "#de77ae"
            ],
            [
             0.3,
             "#f1b6da"
            ],
            [
             0.4,
             "#fde0ef"
            ],
            [
             0.5,
             "#f7f7f7"
            ],
            [
             0.6,
             "#e6f5d0"
            ],
            [
             0.7,
             "#b8e186"
            ],
            [
             0.8,
             "#7fbc41"
            ],
            [
             0.9,
             "#4d9221"
            ],
            [
             1,
             "#276419"
            ]
           ],
           "sequential": [
            [
             0,
             "#0d0887"
            ],
            [
             0.1111111111111111,
             "#46039f"
            ],
            [
             0.2222222222222222,
             "#7201a8"
            ],
            [
             0.3333333333333333,
             "#9c179e"
            ],
            [
             0.4444444444444444,
             "#bd3786"
            ],
            [
             0.5555555555555556,
             "#d8576b"
            ],
            [
             0.6666666666666666,
             "#ed7953"
            ],
            [
             0.7777777777777778,
             "#fb9f3a"
            ],
            [
             0.8888888888888888,
             "#fdca26"
            ],
            [
             1,
             "#f0f921"
            ]
           ],
           "sequentialminus": [
            [
             0,
             "#0d0887"
            ],
            [
             0.1111111111111111,
             "#46039f"
            ],
            [
             0.2222222222222222,
             "#7201a8"
            ],
            [
             0.3333333333333333,
             "#9c179e"
            ],
            [
             0.4444444444444444,
             "#bd3786"
            ],
            [
             0.5555555555555556,
             "#d8576b"
            ],
            [
             0.6666666666666666,
             "#ed7953"
            ],
            [
             0.7777777777777778,
             "#fb9f3a"
            ],
            [
             0.8888888888888888,
             "#fdca26"
            ],
            [
             1,
             "#f0f921"
            ]
           ]
          },
          "colorway": [
           "#636efa",
           "#EF553B",
           "#00cc96",
           "#ab63fa",
           "#FFA15A",
           "#19d3f3",
           "#FF6692",
           "#B6E880",
           "#FF97FF",
           "#FECB52"
          ],
          "font": {
           "color": "#2a3f5f"
          },
          "geo": {
           "bgcolor": "white",
           "lakecolor": "white",
           "landcolor": "#E5ECF6",
           "showlakes": true,
           "showland": true,
           "subunitcolor": "white"
          },
          "hoverlabel": {
           "align": "left"
          },
          "hovermode": "closest",
          "mapbox": {
           "style": "light"
          },
          "paper_bgcolor": "white",
          "plot_bgcolor": "#E5ECF6",
          "polar": {
           "angularaxis": {
            "gridcolor": "white",
            "linecolor": "white",
            "ticks": ""
           },
           "bgcolor": "#E5ECF6",
           "radialaxis": {
            "gridcolor": "white",
            "linecolor": "white",
            "ticks": ""
           }
          },
          "scene": {
           "xaxis": {
            "backgroundcolor": "#E5ECF6",
            "gridcolor": "white",
            "gridwidth": 2,
            "linecolor": "white",
            "showbackground": true,
            "ticks": "",
            "zerolinecolor": "white"
           },
           "yaxis": {
            "backgroundcolor": "#E5ECF6",
            "gridcolor": "white",
            "gridwidth": 2,
            "linecolor": "white",
            "showbackground": true,
            "ticks": "",
            "zerolinecolor": "white"
           },
           "zaxis": {
            "backgroundcolor": "#E5ECF6",
            "gridcolor": "white",
            "gridwidth": 2,
            "linecolor": "white",
            "showbackground": true,
            "ticks": "",
            "zerolinecolor": "white"
           }
          },
          "shapedefaults": {
           "line": {
            "color": "#2a3f5f"
           }
          },
          "ternary": {
           "aaxis": {
            "gridcolor": "white",
            "linecolor": "white",
            "ticks": ""
           },
           "baxis": {
            "gridcolor": "white",
            "linecolor": "white",
            "ticks": ""
           },
           "bgcolor": "#E5ECF6",
           "caxis": {
            "gridcolor": "white",
            "linecolor": "white",
            "ticks": ""
           }
          },
          "title": {
           "x": 0.05
          },
          "xaxis": {
           "automargin": true,
           "gridcolor": "white",
           "linecolor": "white",
           "ticks": "",
           "title": {
            "standoff": 15
           },
           "zerolinecolor": "white",
           "zerolinewidth": 2
          },
          "yaxis": {
           "automargin": true,
           "gridcolor": "white",
           "linecolor": "white",
           "ticks": "",
           "title": {
            "standoff": 15
           },
           "zerolinecolor": "white",
           "zerolinewidth": 2
          }
         }
        },
        "xaxis": {
         "anchor": "y",
         "domain": [
          0,
          1
         ],
         "linecolor": "gray",
         "ticktext": [
          "500",
          "1000",
          "2000",
          "4000",
          "8000",
          "16k",
          "32k",
          "64k"
         ],
         "tickvals": [
          500,
          1000,
          2000,
          4000,
          8000,
          16000,
          32000,
          64000
         ],
         "title": {
          "text": "Income"
         },
         "type": "log"
        },
        "yaxis": {
         "anchor": "x",
         "domain": [
          0,
          1
         ],
         "linecolor": "gray",
         "tickvals": [
          20,
          30,
          40,
          50,
          60,
          70,
          80,
          90
         ],
         "title": {
          "text": "Life expectancy"
         }
        }
       }
      },
      "text/html": [
       "<div>                            <div id=\"ca8a89db-3644-49c3-832c-374674df5075\" class=\"plotly-graph-div\" style=\"height:525px; width:100%;\"></div>            <script type=\"text/javascript\">                require([\"plotly\"], function(Plotly) {                    window.PLOTLYENV=window.PLOTLYENV || {};                                    if (document.getElementById(\"ca8a89db-3644-49c3-832c-374674df5075\")) {                    Plotly.newPlot(                        \"ca8a89db-3644-49c3-832c-374674df5075\",                        [{\"hovertemplate\":\"<b>%{hovertext}</b><br><br>four_regions=asia<br>income=%{x}<br>life_exp=%{y}<br>population=%{marker.size}<extra></extra>\",\"hovertext\":[\"Afghanistan\",\"Australia\",\"Bahrain\",\"Bangladesh\",\"Bhutan\",\"Brunei\",\"Cambodia\",\"China\",\"Fiji\",\"India\",\"Indonesia\",\"Iran\",\"Iraq\",\"Israel\",\"Japan\",\"Jordan\",\"Kazakhstan\",\"Kiribati\",\"Kuwait\",\"Kyrgyz Republic\",\"Lao\",\"Lebanon\",\"Malaysia\",\"Maldives\",\"Marshall Islands\",\"Micronesia, Fed. Sts.\",\"Mongolia\",\"Myanmar\",\"Nauru\",\"Nepal\",\"New Zealand\",\"North Korea\",\"Oman\",\"Pakistan\",\"Palau\",\"Palestine\",\"Papua New Guinea\",\"Philippines\",\"Qatar\",\"Samoa\",\"Saudi Arabia\",\"Singapore\",\"Solomon Islands\",\"South Korea\",\"Sri Lanka\",\"Syria\",\"Tajikistan\",\"Thailand\",\"Timor-Leste\",\"Tonga\",\"Turkmenistan\",\"Tuvalu\",\"United Arab Emirates\",\"Uzbekistan\",\"Vanuatu\",\"Vietnam\",\"Yemen\"],\"legendgroup\":\"asia\",\"marker\":{\"color\":\"#636efa\",\"size\":[29200000.0,22200000.0,1240000.0,148000000.0,686000.0,389000.0,14300000.0,1370000000.0,860000.0,1230000000.0,242000000.0,73800000.0,29700000.0,7350000.0,129000000.0,7260000.0,16300000.0,103000.0,2990000.0,5420000.0,6250000.0,4950000.0,28200000.0,366000.0,56400.0,103000.0,2720000.0,50600000.0,10000.0,27000000.0,4370000.0,24500000.0,3040000.0,179000000.0,18000.0,4060000.0,7310000.0,94000000.0,1860000.0,186000.0,27400000.0,5130000.0,528000.0,49500000.0,20300000.0,21400000.0,7530000.0,67200000.0,1090000.0,104000.0,5090000.0,10500.0,8550000.0,28500000.0,236000.0,88000000.0,23200000.0],\"sizemode\":\"area\",\"sizeref\":3425000.0,\"symbol\":\"circle\"},\"mode\":\"markers\",\"name\":\"asia\",\"orientation\":\"v\",\"showlegend\":true,\"x\":[1910.0,45600.0,44200.0,3040.0,8750.0,69400.0,2870.0,9690.0,10800.0,4390.0,8680.0,14000.0,9440.0,36000.0,37700.0,11000.0,22000.0,1920.0,60900.0,4340.0,5160.0,18700.0,21300.0,17000.0,3610.0,3760.0,8610.0,3280.0,7330.0,2430.0,38400.0,2020.0,32500.0,3930.0,16300.0,5780.0,3370.0,6040.0,99100.0,6210.0,47000.0,81400.0,2550.0,35500.0,9830.0,6880.0,2370.0,14500.0,3050.0,5550.0,9720.0,3490.0,56100.0,4880.0,3190.0,5350.0,4700.0],\"xaxis\":\"x\",\"y\":[61.0,82.3,75.3,71.1,71.3,73.9,67.4,75.3,67.7,67.6,69.6,75.8,71.0,82.0,83.2,77.2,68.1,59.0,80.9,70.3,65.6,75.7,74.6,78.0,64.2,64.1,65.5,65.4,60.5,69.2,80.9,71.2,70.8,63.6,67.0,73.7,63.0,70.7,73.9,69.7,72.2,83.1,57.6,81.2,75.3,72.8,68.1,77.4,70.2,72.3,69.6,66.8,71.0,66.6,64.5,73.3,67.8],\"yaxis\":\"y\",\"type\":\"scatter\"},{\"hovertemplate\":\"<b>%{hovertext}</b><br><br>four_regions=europe<br>income=%{x}<br>life_exp=%{y}<br>population=%{marker.size}<extra></extra>\",\"hovertext\":[\"Albania\",\"Andorra\",\"Armenia\",\"Austria\",\"Azerbaijan\",\"Belarus\",\"Belgium\",\"Bosnia and Herzegovina\",\"Bulgaria\",\"Croatia\",\"Cyprus\",\"Czech Republic\",\"Denmark\",\"Estonia\",\"Finland\",\"France\",\"Georgia\",\"Germany\",\"Greece\",\"Hungary\",\"Iceland\",\"Ireland\",\"Italy\",\"Latvia\",\"Lithuania\",\"Luxembourg\",\"Malta\",\"Moldova\",\"Monaco\",\"Montenegro\",\"Netherlands\",\"Norway\",\"Poland\",\"Portugal\",\"Romania\",\"Russia\",\"San Marino\",\"Serbia\",\"Slovak Republic\",\"Slovenia\",\"Spain\",\"Sweden\",\"Switzerland\",\"Turkey\",\"Ukraine\",\"United Kingdom\"],\"legendgroup\":\"europe\",\"marker\":{\"color\":\"#EF553B\",\"size\":[2950000.0,84500.0,2880000.0,8410000.0,9030000.0,9420000.0,10900000.0,3710000.0,7430000.0,4330000.0,1110000.0,10500000.0,5550000.0,1330000.0,5370000.0,62900000.0,4100000.0,80800000.0,10900000.0,9930000.0,320000.0,4550000.0,59300000.0,2120000.0,3120000.0,508000.0,414000.0,4090000.0,35600.0,624000.0,16700000.0,4890000.0,38300000.0,10600000.0,20500000.0,143000000.0,31200.0,8990000.0,5400000.0,2040000.0,46900000.0,9390000.0,7810000.0,72300000.0,45800000.0,63500000.0],\"sizemode\":\"area\",\"sizeref\":3425000.0,\"symbol\":\"circle\"},\"mode\":\"markers\",\"name\":\"europe\",\"orientation\":\"v\",\"showlegend\":true,\"x\":[11100.0,46900.0,9730.0,53300.0,13900.0,18300.0,48300.0,11200.0,18000.0,24400.0,37400.0,34100.0,51500.0,28200.0,46900.0,43000.0,10500.0,49800.0,31100.0,25100.0,47300.0,52900.0,43000.0,22900.0,26100.0,108000.0,32900.0,9050.0,64900.0,17300.0,52800.0,61400.0,25200.0,31400.0,20900.0,25000.0,64700.0,15000.0,26200.0,33700.0,37000.0,49100.0,64600.0,22000.0,12500.0,42500.0],\"xaxis\":\"x\",\"y\":[78.1,81.9,74.2,81.0,69.2,70.5,80.4,76.4,72.7,77.1,79.8,78.0,79.9,76.3,80.7,81.8,72.2,80.7,80.5,75.1,82.8,80.8,82.2,73.9,73.7,81.3,81.2,71.7,79.2,74.9,81.1,81.3,76.8,80.5,74.6,70.0,81.9,74.3,76.0,80.0,82.3,82.0,83.0,76.8,71.5,80.8],\"yaxis\":\"y\",\"type\":\"scatter\"},{\"hovertemplate\":\"<b>%{hovertext}</b><br><br>four_regions=africa<br>income=%{x}<br>life_exp=%{y}<br>population=%{marker.size}<extra></extra>\",\"hovertext\":[\"Algeria\",\"Angola\",\"Benin\",\"Botswana\",\"Burkina Faso\",\"Burundi\",\"Cameroon\",\"Cape Verde\",\"Central African Republic\",\"Chad\",\"Comoros\",\"Congo, Dem. Rep.\",\"Congo, Rep.\",\"Cote d'Ivoire\",\"Djibouti\",\"Egypt\",\"Equatorial Guinea\",\"Eritrea\",\"Ethiopia\",\"Gabon\",\"Gambia\",\"Ghana\",\"Guinea\",\"Guinea-Bissau\",\"Kenya\",\"Lesotho\",\"Liberia\",\"Libya\",\"Madagascar\",\"Malawi\",\"Mali\",\"Mauritania\",\"Mauritius\",\"Morocco\",\"Mozambique\",\"Namibia\",\"Niger\",\"Nigeria\",\"Rwanda\",\"Sao Tome and Principe\",\"Senegal\",\"Seychelles\",\"Sierra Leone\",\"Somalia\",\"South Africa\",\"South Sudan\",\"Sudan\",\"Tanzania\",\"Togo\",\"Tunisia\",\"Uganda\",\"Zambia\",\"Zimbabwe\"],\"legendgroup\":\"africa\",\"marker\":{\"color\":\"#00cc96\",\"size\":[36000000.0,23400000.0,9200000.0,1990000.0,15600000.0,8680000.0,20300000.0,493000.0,4390000.0,12000000.0,690000.0,64600000.0,4270000.0,20500000.0,840000.0,82800000.0,944000.0,3170000.0,87600000.0,1620000.0,1790000.0,24800000.0,10200000.0,1520000.0,42000000.0,2000000.0,3890000.0,6200000.0,21200000.0,14500000.0,15000000.0,3490000.0,1250000.0,32300000.0,23500000.0,2120000.0,16500000.0,159000000.0,10000000.0,180000.0,12700000.0,91300.0,6420000.0,12000000.0,51200000.0,9510000.0,34500000.0,44300000.0,6420000.0,10600000.0,32400000.0,13600000.0,12700000.0],\"sizemode\":\"area\",\"sizeref\":3425000.0,\"symbol\":\"circle\"},\"mode\":\"markers\",\"name\":\"africa\",\"orientation\":\"v\",\"showlegend\":true,\"x\":[11100.0,7680.0,2710.0,14800.0,1780.0,853.0,3130.0,6370.0,1240.0,1680.0,2930.0,895.0,5190.0,2810.0,3770.0,10300.0,35400.0,2350.0,1360.0,14900.0,2090.0,4160.0,1930.0,1840.0,3440.0,2390.0,1490.0,8480.0,1540.0,987.0,2090.0,4820.0,17500.0,6530.0,1070.0,9180.0,1020.0,5060.0,1590.0,3430.0,2710.0,23200.0,1470.0,686.0,12700.0,4140.0,3650.0,2100.0,1270.0,9820.0,1970.0,3200.0,2560.0],\"xaxis\":\"x\",\"y\":[74.7,60.8,61.4,57.8,58.3,59.4,58.2,74.5,48.3,56.9,65.7,59.4,61.6,57.8,63.6,69.6,63.1,60.4,64.0,63.7,64.2,62.4,57.9,56.9,62.0,48.2,62.4,73.2,62.9,57.7,58.9,68.4,74.6,72.1,53.6,61.9,59.3,60.2,65.3,69.3,66.0,73.4,56.6,54.3,58.7,60.5,67.6,61.7,60.2,76.2,60.4,57.5,54.4],\"yaxis\":\"y\",\"type\":\"scatter\"},{\"hovertemplate\":\"<b>%{hovertext}</b><br><br>four_regions=americas<br>income=%{x}<br>life_exp=%{y}<br>population=%{marker.size}<extra></extra>\",\"hovertext\":[\"Antigua and Barbuda\",\"Argentina\",\"Bahamas\",\"Barbados\",\"Belize\",\"Bolivia\",\"Brazil\",\"Canada\",\"Chile\",\"Colombia\",\"Costa Rica\",\"Cuba\",\"Dominica\",\"Dominican Republic\",\"Ecuador\",\"El Salvador\",\"Grenada\",\"Guatemala\",\"Guyana\",\"Haiti\",\"Honduras\",\"Jamaica\",\"Mexico\",\"Nicaragua\",\"Panama\",\"Paraguay\",\"Peru\",\"St. Kitts and Nevis\",\"St. Lucia\",\"St. Vincent and the Grenadines\",\"Suriname\",\"Trinidad and Tobago\",\"United States\",\"Uruguay\",\"Venezuela\"],\"legendgroup\":\"americas\",\"marker\":{\"color\":\"#ab63fa\",\"size\":[88000.0,40900000.0,355000.0,282000.0,322000.0,10000000.0,196000000.0,34100000.0,17100000.0,45200000.0,4580000.0,11200000.0,70900.0,9700000.0,15000000.0,6180000.0,106000.0,14600000.0,749000.0,9950000.0,8320000.0,2810000.0,114000000.0,5820000.0,3640000.0,6250000.0,29000000.0,49000.0,174000.0,108000.0,529000.0,1330000.0,309000000.0,3360000.0,28400000.0],\"sizemode\":\"area\",\"sizeref\":3425000.0,\"symbol\":\"circle\"},\"mode\":\"markers\",\"name\":\"americas\",\"orientation\":\"v\",\"showlegend\":true,\"x\":[17600.0,24600.0,36300.0,15400.0,7180.0,6850.0,15300.0,45900.0,22400.0,12500.0,16900.0,7970.0,12000.0,13000.0,11000.0,7580.0,13400.0,7500.0,10300.0,2860.0,4960.0,9550.0,18200.0,4840.0,23400.0,10700.0,10600.0,23900.0,14800.0,11400.0,17700.0,28700.0,54800.0,18600.0,20400.0],\"xaxis\":\"x\",\"y\":[76.0,76.0,73.2,76.2,73.8,70.5,74.0,81.9,79.0,78.7,80.2,79.1,72.4,73.4,74.9,75.1,72.6,70.7,65.7,60.0,71.0,75.8,75.5,74.3,78.7,76.0,77.7,72.3,76.0,73.2,72.8,74.5,78.9,76.4,75.4],\"yaxis\":\"y\",\"type\":\"scatter\"}],                        {\"template\":{\"data\":{\"histogram2dcontour\":[{\"type\":\"histogram2dcontour\",\"colorbar\":{\"outlinewidth\":0,\"ticks\":\"\"},\"colorscale\":[[0.0,\"#0d0887\"],[0.1111111111111111,\"#46039f\"],[0.2222222222222222,\"#7201a8\"],[0.3333333333333333,\"#9c179e\"],[0.4444444444444444,\"#bd3786\"],[0.5555555555555556,\"#d8576b\"],[0.6666666666666666,\"#ed7953\"],[0.7777777777777778,\"#fb9f3a\"],[0.8888888888888888,\"#fdca26\"],[1.0,\"#f0f921\"]]}],\"choropleth\":[{\"type\":\"choropleth\",\"colorbar\":{\"outlinewidth\":0,\"ticks\":\"\"}}],\"histogram2d\":[{\"type\":\"histogram2d\",\"colorbar\":{\"outlinewidth\":0,\"ticks\":\"\"},\"colorscale\":[[0.0,\"#0d0887\"],[0.1111111111111111,\"#46039f\"],[0.2222222222222222,\"#7201a8\"],[0.3333333333333333,\"#9c179e\"],[0.4444444444444444,\"#bd3786\"],[0.5555555555555556,\"#d8576b\"],[0.6666666666666666,\"#ed7953\"],[0.7777777777777778,\"#fb9f3a\"],[0.8888888888888888,\"#fdca26\"],[1.0,\"#f0f921\"]]}],\"heatmap\":[{\"type\":\"heatmap\",\"colorbar\":{\"outlinewidth\":0,\"ticks\":\"\"},\"colorscale\":[[0.0,\"#0d0887\"],[0.1111111111111111,\"#46039f\"],[0.2222222222222222,\"#7201a8\"],[0.3333333333333333,\"#9c179e\"],[0.4444444444444444,\"#bd3786\"],[0.5555555555555556,\"#d8576b\"],[0.6666666666666666,\"#ed7953\"],[0.7777777777777778,\"#fb9f3a\"],[0.8888888888888888,\"#fdca26\"],[1.0,\"#f0f921\"]]}],\"heatmapgl\":[{\"type\":\"heatmapgl\",\"colorbar\":{\"outlinewidth\":0,\"ticks\":\"\"},\"colorscale\":[[0.0,\"#0d0887\"],[0.1111111111111111,\"#46039f\"],[0.2222222222222222,\"#7201a8\"],[0.3333333333333333,\"#9c179e\"],[0.4444444444444444,\"#bd3786\"],[0.5555555555555556,\"#d8576b\"],[0.6666666666666666,\"#ed7953\"],[0.7777777777777778,\"#fb9f3a\"],[0.8888888888888888,\"#fdca26\"],[1.0,\"#f0f921\"]]}],\"contourcarpet\":[{\"type\":\"contourcarpet\",\"colorbar\":{\"outlinewidth\":0,\"ticks\":\"\"}}],\"contour\":[{\"type\":\"contour\",\"colorbar\":{\"outlinewidth\":0,\"ticks\":\"\"},\"colorscale\":[[0.0,\"#0d0887\"],[0.1111111111111111,\"#46039f\"],[0.2222222222222222,\"#7201a8\"],[0.3333333333333333,\"#9c179e\"],[0.4444444444444444,\"#bd3786\"],[0.5555555555555556,\"#d8576b\"],[0.6666666666666666,\"#ed7953\"],[0.7777777777777778,\"#fb9f3a\"],[0.8888888888888888,\"#fdca26\"],[1.0,\"#f0f921\"]]}],\"surface\":[{\"type\":\"surface\",\"colorbar\":{\"outlinewidth\":0,\"ticks\":\"\"},\"colorscale\":[[0.0,\"#0d0887\"],[0.1111111111111111,\"#46039f\"],[0.2222222222222222,\"#7201a8\"],[0.3333333333333333,\"#9c179e\"],[0.4444444444444444,\"#bd3786\"],[0.5555555555555556,\"#d8576b\"],[0.6666666666666666,\"#ed7953\"],[0.7777777777777778,\"#fb9f3a\"],[0.8888888888888888,\"#fdca26\"],[1.0,\"#f0f921\"]]}],\"mesh3d\":[{\"type\":\"mesh3d\",\"colorbar\":{\"outlinewidth\":0,\"ticks\":\"\"}}],\"scatter\":[{\"fillpattern\":{\"fillmode\":\"overlay\",\"size\":10,\"solidity\":0.2},\"type\":\"scatter\"}],\"parcoords\":[{\"type\":\"parcoords\",\"line\":{\"colorbar\":{\"outlinewidth\":0,\"ticks\":\"\"}}}],\"scatterpolargl\":[{\"type\":\"scatterpolargl\",\"marker\":{\"colorbar\":{\"outlinewidth\":0,\"ticks\":\"\"}}}],\"bar\":[{\"error_x\":{\"color\":\"#2a3f5f\"},\"error_y\":{\"color\":\"#2a3f5f\"},\"marker\":{\"line\":{\"color\":\"#E5ECF6\",\"width\":0.5},\"pattern\":{\"fillmode\":\"overlay\",\"size\":10,\"solidity\":0.2}},\"type\":\"bar\"}],\"scattergeo\":[{\"type\":\"scattergeo\",\"marker\":{\"colorbar\":{\"outlinewidth\":0,\"ticks\":\"\"}}}],\"scatterpolar\":[{\"type\":\"scatterpolar\",\"marker\":{\"colorbar\":{\"outlinewidth\":0,\"ticks\":\"\"}}}],\"histogram\":[{\"marker\":{\"pattern\":{\"fillmode\":\"overlay\",\"size\":10,\"solidity\":0.2}},\"type\":\"histogram\"}],\"scattergl\":[{\"type\":\"scattergl\",\"marker\":{\"colorbar\":{\"outlinewidth\":0,\"ticks\":\"\"}}}],\"scatter3d\":[{\"type\":\"scatter3d\",\"line\":{\"colorbar\":{\"outlinewidth\":0,\"ticks\":\"\"}},\"marker\":{\"colorbar\":{\"outlinewidth\":0,\"ticks\":\"\"}}}],\"scattermapbox\":[{\"type\":\"scattermapbox\",\"marker\":{\"colorbar\":{\"outlinewidth\":0,\"ticks\":\"\"}}}],\"scatterternary\":[{\"type\":\"scatterternary\",\"marker\":{\"colorbar\":{\"outlinewidth\":0,\"ticks\":\"\"}}}],\"scattercarpet\":[{\"type\":\"scattercarpet\",\"marker\":{\"colorbar\":{\"outlinewidth\":0,\"ticks\":\"\"}}}],\"carpet\":[{\"aaxis\":{\"endlinecolor\":\"#2a3f5f\",\"gridcolor\":\"white\",\"linecolor\":\"white\",\"minorgridcolor\":\"white\",\"startlinecolor\":\"#2a3f5f\"},\"baxis\":{\"endlinecolor\":\"#2a3f5f\",\"gridcolor\":\"white\",\"linecolor\":\"white\",\"minorgridcolor\":\"white\",\"startlinecolor\":\"#2a3f5f\"},\"type\":\"carpet\"}],\"table\":[{\"cells\":{\"fill\":{\"color\":\"#EBF0F8\"},\"line\":{\"color\":\"white\"}},\"header\":{\"fill\":{\"color\":\"#C8D4E3\"},\"line\":{\"color\":\"white\"}},\"type\":\"table\"}],\"barpolar\":[{\"marker\":{\"line\":{\"color\":\"#E5ECF6\",\"width\":0.5},\"pattern\":{\"fillmode\":\"overlay\",\"size\":10,\"solidity\":0.2}},\"type\":\"barpolar\"}],\"pie\":[{\"automargin\":true,\"type\":\"pie\"}]},\"layout\":{\"autotypenumbers\":\"strict\",\"colorway\":[\"#636efa\",\"#EF553B\",\"#00cc96\",\"#ab63fa\",\"#FFA15A\",\"#19d3f3\",\"#FF6692\",\"#B6E880\",\"#FF97FF\",\"#FECB52\"],\"font\":{\"color\":\"#2a3f5f\"},\"hovermode\":\"closest\",\"hoverlabel\":{\"align\":\"left\"},\"paper_bgcolor\":\"white\",\"plot_bgcolor\":\"#E5ECF6\",\"polar\":{\"bgcolor\":\"#E5ECF6\",\"angularaxis\":{\"gridcolor\":\"white\",\"linecolor\":\"white\",\"ticks\":\"\"},\"radialaxis\":{\"gridcolor\":\"white\",\"linecolor\":\"white\",\"ticks\":\"\"}},\"ternary\":{\"bgcolor\":\"#E5ECF6\",\"aaxis\":{\"gridcolor\":\"white\",\"linecolor\":\"white\",\"ticks\":\"\"},\"baxis\":{\"gridcolor\":\"white\",\"linecolor\":\"white\",\"ticks\":\"\"},\"caxis\":{\"gridcolor\":\"white\",\"linecolor\":\"white\",\"ticks\":\"\"}},\"coloraxis\":{\"colorbar\":{\"outlinewidth\":0,\"ticks\":\"\"}},\"colorscale\":{\"sequential\":[[0.0,\"#0d0887\"],[0.1111111111111111,\"#46039f\"],[0.2222222222222222,\"#7201a8\"],[0.3333333333333333,\"#9c179e\"],[0.4444444444444444,\"#bd3786\"],[0.5555555555555556,\"#d8576b\"],[0.6666666666666666,\"#ed7953\"],[0.7777777777777778,\"#fb9f3a\"],[0.8888888888888888,\"#fdca26\"],[1.0,\"#f0f921\"]],\"sequentialminus\":[[0.0,\"#0d0887\"],[0.1111111111111111,\"#46039f\"],[0.2222222222222222,\"#7201a8\"],[0.3333333333333333,\"#9c179e\"],[0.4444444444444444,\"#bd3786\"],[0.5555555555555556,\"#d8576b\"],[0.6666666666666666,\"#ed7953\"],[0.7777777777777778,\"#fb9f3a\"],[0.8888888888888888,\"#fdca26\"],[1.0,\"#f0f921\"]],\"diverging\":[[0,\"#8e0152\"],[0.1,\"#c51b7d\"],[0.2,\"#de77ae\"],[0.3,\"#f1b6da\"],[0.4,\"#fde0ef\"],[0.5,\"#f7f7f7\"],[0.6,\"#e6f5d0\"],[0.7,\"#b8e186\"],[0.8,\"#7fbc41\"],[0.9,\"#4d9221\"],[1,\"#276419\"]]},\"xaxis\":{\"gridcolor\":\"white\",\"linecolor\":\"white\",\"ticks\":\"\",\"title\":{\"standoff\":15},\"zerolinecolor\":\"white\",\"automargin\":true,\"zerolinewidth\":2},\"yaxis\":{\"gridcolor\":\"white\",\"linecolor\":\"white\",\"ticks\":\"\",\"title\":{\"standoff\":15},\"zerolinecolor\":\"white\",\"automargin\":true,\"zerolinewidth\":2},\"scene\":{\"xaxis\":{\"backgroundcolor\":\"#E5ECF6\",\"gridcolor\":\"white\",\"linecolor\":\"white\",\"showbackground\":true,\"ticks\":\"\",\"zerolinecolor\":\"white\",\"gridwidth\":2},\"yaxis\":{\"backgroundcolor\":\"#E5ECF6\",\"gridcolor\":\"white\",\"linecolor\":\"white\",\"showbackground\":true,\"ticks\":\"\",\"zerolinecolor\":\"white\",\"gridwidth\":2},\"zaxis\":{\"backgroundcolor\":\"#E5ECF6\",\"gridcolor\":\"white\",\"linecolor\":\"white\",\"showbackground\":true,\"ticks\":\"\",\"zerolinecolor\":\"white\",\"gridwidth\":2}},\"shapedefaults\":{\"line\":{\"color\":\"#2a3f5f\"}},\"annotationdefaults\":{\"arrowcolor\":\"#2a3f5f\",\"arrowhead\":0,\"arrowwidth\":1},\"geo\":{\"bgcolor\":\"white\",\"landcolor\":\"#E5ECF6\",\"subunitcolor\":\"white\",\"showland\":true,\"showlakes\":true,\"lakecolor\":\"white\"},\"title\":{\"x\":0.05},\"mapbox\":{\"style\":\"light\"}}},\"xaxis\":{\"anchor\":\"y\",\"domain\":[0.0,1.0],\"title\":{\"text\":\"Income\"},\"linecolor\":\"gray\",\"type\":\"log\",\"tickvals\":[500,1000,2000,4000,8000,16000,32000,64000],\"ticktext\":[\"500\",\"1000\",\"2000\",\"4000\",\"8000\",\"16k\",\"32k\",\"64k\"]},\"yaxis\":{\"anchor\":\"x\",\"domain\":[0.0,1.0],\"title\":{\"text\":\"Life expectancy\"},\"linecolor\":\"gray\",\"tickvals\":[20,30,40,50,60,70,80,90]},\"legend\":{\"title\":{\"text\":\"World Region\"},\"tracegroupgap\":0,\"itemsizing\":\"constant\"},\"margin\":{\"t\":60},\"plot_bgcolor\":\"white\",\"showlegend\":true},                        {\"responsive\": true}                    ).then(function(){\n",
       "                            \n",
       "var gd = document.getElementById('ca8a89db-3644-49c3-832c-374674df5075');\n",
       "var x = new MutationObserver(function (mutations, observer) {{\n",
       "        var display = window.getComputedStyle(gd).display;\n",
       "        if (!display || display === 'none') {{\n",
       "            console.log([gd, 'removed!']);\n",
       "            Plotly.purge(gd);\n",
       "            observer.disconnect();\n",
       "        }}\n",
       "}});\n",
       "\n",
       "// Listen for the removal of the full notebook cells\n",
       "var notebookContainer = gd.closest('#notebook-container');\n",
       "if (notebookContainer) {{\n",
       "    x.observe(notebookContainer, {childList: true});\n",
       "}}\n",
       "\n",
       "// Listen for the clearing of the current output cell\n",
       "var outputEl = gd.closest('.output');\n",
       "if (outputEl) {{\n",
       "    x.observe(outputEl, {childList: true});\n",
       "}}\n",
       "\n",
       "                        })                };                });            </script>        </div>"
      ]
     },
     "metadata": {},
     "output_type": "display_data"
    }
   ],
   "source": [
    "dfq1 = dfq1.dropna(subset=['four_regions'])\n",
    "\n",
    "fig1 = px.scatter(dfq1, x=\"income\", y= \"life_exp\", size=\"population\", hover_name=\"country\", color=\"four_regions\")\n",
    "\n",
    "# Customize the legend title and axis labels\n",
    "fig1.update_layout(\n",
    "    plot_bgcolor='white',\n",
    "    xaxis=dict(linecolor='gray', type='log', \n",
    "               tickvals = [500, 1000, 2000, 4000, 8000, 16000, 32000, 64000],\n",
    "               ticktext = [\"500\", \"1000\", \"2000\", \"4000\", \"8000\", \"16k\", \"32k\", \"64k\"]),  # Set x-axis line color to gray\n",
    "    yaxis=dict(linecolor='gray', tickvals = [20, 30, 40, 50, 60, 70, 80, 90]),  # Set y-axis to log scale and customize ticks\n",
    "    showlegend=True,  # Show the legend\n",
    "    legend_title_text='World Region',\n",
    "    xaxis_title='Income',\n",
    "    yaxis_title='Life expectancy'\n",
    ")"
   ]
  },
  {
   "cell_type": "markdown",
   "id": "e0086189",
   "metadata": {},
   "source": [
    "## Task 2"
   ]
  },
  {
   "cell_type": "markdown",
   "id": "893681bf",
   "metadata": {},
   "source": [
    "1. Y-axis: imports (as % of GDP)\n",
    "    \n",
    "    X-axis: exports (as % of GDP)\n",
    "        \n",
    "    Bubble color: world region\n",
    "        \n",
    "    Bubble size: energy use\n",
    "        \n",
    "    Background: year"
   ]
  },
  {
   "cell_type": "code",
   "execution_count": 55,
   "id": "f780dc45",
   "metadata": {},
   "outputs": [
    {
     "data": {
      "text/html": [
       "<div>\n",
       "<style scoped>\n",
       "    .dataframe tbody tr th:only-of-type {\n",
       "        vertical-align: middle;\n",
       "    }\n",
       "\n",
       "    .dataframe tbody tr th {\n",
       "        vertical-align: top;\n",
       "    }\n",
       "\n",
       "    .dataframe thead th {\n",
       "        text-align: right;\n",
       "    }\n",
       "</style>\n",
       "<table border=\"1\" class=\"dataframe\">\n",
       "  <thead>\n",
       "    <tr style=\"text-align: right;\">\n",
       "      <th></th>\n",
       "      <th>imports</th>\n",
       "      <th>exports</th>\n",
       "      <th>energy</th>\n",
       "      <th>year</th>\n",
       "      <th>country</th>\n",
       "      <th>four_regions</th>\n",
       "      <th>six_regions</th>\n",
       "      <th>eight_regions</th>\n",
       "      <th>world_bank_region</th>\n",
       "    </tr>\n",
       "  </thead>\n",
       "  <tbody>\n",
       "    <tr>\n",
       "      <th>0</th>\n",
       "      <td>NaN</td>\n",
       "      <td>NaN</td>\n",
       "      <td>NaN</td>\n",
       "      <td>1997</td>\n",
       "      <td>Afghanistan</td>\n",
       "      <td>asia</td>\n",
       "      <td>south_asia</td>\n",
       "      <td>asia_west</td>\n",
       "      <td>South Asia</td>\n",
       "    </tr>\n",
       "    <tr>\n",
       "      <th>1</th>\n",
       "      <td>36.7</td>\n",
       "      <td>11.5</td>\n",
       "      <td>427</td>\n",
       "      <td>1997</td>\n",
       "      <td>Albania</td>\n",
       "      <td>europe</td>\n",
       "      <td>europe_central_asia</td>\n",
       "      <td>europe_east</td>\n",
       "      <td>Europe &amp; Central Asia</td>\n",
       "    </tr>\n",
       "    <tr>\n",
       "      <th>2</th>\n",
       "      <td>22.5</td>\n",
       "      <td>22.6</td>\n",
       "      <td>825</td>\n",
       "      <td>1997</td>\n",
       "      <td>Algeria</td>\n",
       "      <td>africa</td>\n",
       "      <td>middle_east_north_africa</td>\n",
       "      <td>africa_north</td>\n",
       "      <td>Middle East &amp; North Africa</td>\n",
       "    </tr>\n",
       "    <tr>\n",
       "      <th>3</th>\n",
       "      <td>NaN</td>\n",
       "      <td>NaN</td>\n",
       "      <td>NaN</td>\n",
       "      <td>1997</td>\n",
       "      <td>American Samoa</td>\n",
       "      <td>NaN</td>\n",
       "      <td>NaN</td>\n",
       "      <td>NaN</td>\n",
       "      <td>NaN</td>\n",
       "    </tr>\n",
       "    <tr>\n",
       "      <th>4</th>\n",
       "      <td>NaN</td>\n",
       "      <td>NaN</td>\n",
       "      <td>434</td>\n",
       "      <td>1997</td>\n",
       "      <td>Angola</td>\n",
       "      <td>africa</td>\n",
       "      <td>sub_saharan_africa</td>\n",
       "      <td>africa_sub_saharan</td>\n",
       "      <td>Sub-Saharan Africa</td>\n",
       "    </tr>\n",
       "  </tbody>\n",
       "</table>\n",
       "</div>"
      ],
      "text/plain": [
       "   imports  exports energy  year         country four_regions  \\\n",
       "0      NaN      NaN    NaN  1997     Afghanistan         asia   \n",
       "1     36.7     11.5    427  1997         Albania       europe   \n",
       "2     22.5     22.6    825  1997         Algeria       africa   \n",
       "3      NaN      NaN    NaN  1997  American Samoa          NaN   \n",
       "4      NaN      NaN    434  1997          Angola       africa   \n",
       "\n",
       "                six_regions       eight_regions           world_bank_region  \n",
       "0                south_asia           asia_west                  South Asia  \n",
       "1       europe_central_asia         europe_east       Europe & Central Asia  \n",
       "2  middle_east_north_africa        africa_north  Middle East & North Africa  \n",
       "3                       NaN                 NaN                         NaN  \n",
       "4        sub_saharan_africa  africa_sub_saharan          Sub-Saharan Africa  "
      ]
     },
     "execution_count": 55,
     "metadata": {},
     "output_type": "execute_result"
    }
   ],
   "source": [
    "file_path2 = \"Data/q2data.csv\"\n",
    "\n",
    "# Read the CSV files into DataFrame\n",
    "dfq2 = pd.read_csv(file_path2)\n",
    "dfq2.head()"
   ]
  },
  {
   "cell_type": "code",
   "execution_count": 126,
   "id": "13370579",
   "metadata": {},
   "outputs": [
    {
     "data": {
      "application/vnd.plotly.v1+json": {
       "config": {
        "plotlyServerURL": "https://plot.ly"
       },
       "data": [
        {
         "hovertemplate": "<b>%{hovertext}</b><br><br>four_regions=europe<br>exports=%{x}<br>imports=%{y}<br>energy=%{marker.size}<extra></extra>",
         "hovertext": [
          "Albania",
          "Armenia",
          "Austria",
          "Azerbaijan",
          "Belarus",
          "Belgium",
          "Bosnia and Herzegovina",
          "Bulgaria",
          "Croatia",
          "Cyprus",
          "Czech Republic",
          "Denmark",
          "Estonia",
          "Finland",
          "France",
          "Georgia",
          "Germany",
          "Greece",
          "Hungary",
          "Iceland",
          "Ireland",
          "Italy",
          "Latvia",
          "Lithuania",
          "Luxembourg",
          "Malta",
          "Moldova",
          "Netherlands",
          "Norway",
          "Poland",
          "Portugal",
          "Romania",
          "Russia",
          "Serbia",
          "Slovak Republic",
          "Slovenia",
          "Spain",
          "Sweden",
          "Switzerland",
          "Turkey",
          "Ukraine",
          "United Kingdom"
         ],
         "legendgroup": "europe",
         "marker": {
          "color": "#636efa",
          "size": [
           427,
           610,
           3610,
           1490,
           2470,
           5600,
           897,
           2430,
           1950,
           2170,
           4060,
           3770,
           3700,
           6320,
           4150,
           716,
           4180,
           2390,
           2500,
           9040,
           3420,
           2910,
           1800,
           2630,
           7070,
           1790,
           1220,
           4840,
           5680,
           2460,
           2240,
           1820,
           3980,
           2300,
           3260,
           3250,
           2760,
           5770,
           3560,
           1170,
           2710,
           3790
          ],
          "sizemode": "area",
          "sizeref": 22.925,
          "symbol": "circle"
         },
         "mode": "markers",
         "name": "europe",
         "orientation": "v",
         "showlegend": true,
         "type": "scatter",
         "x": [
          11.5,
          19,
          38.4,
          22.7,
          59.1,
          64.2,
          27.3,
          41.9,
          29.3,
          68.7,
          42.1,
          37.2,
          73.7,
          37.4,
          26.1,
          16.5,
          26.4,
          16.3,
          52.9,
          33.8,
          84.4,
          24.1,
          39.3,
          39.1,
          126,
          109,
          45,
          59.3,
          36.9,
          25.9,
          27.3,
          23,
          31.2,
          18.7,
          45.5,
          47.5,
          26.1,
          40,
          45.9,
          20.7,
          41.9,
          24.1
         ],
         "xaxis": "x",
         "y": [
          36.7,
          52.8,
          38.6,
          54.5,
          63.9,
          60.5,
          98.4,
          35.1,
          36.1,
          66.2,
          42.4,
          34.1,
          83.3,
          29.5,
          23.4,
          37.1,
          25.2,
          26,
          54.5,
          38.1,
          73.5,
          21,
          51.4,
          50.5,
          107,
          116,
          71.8,
          53.2,
          35.1,
          30.8,
          36.5,
          30.8,
          24.6,
          23.6,
          56.6,
          49.2,
          26.6,
          34.3,
          41.8,
          19.7,
          44.2,
          24.8
         ],
         "yaxis": "y"
        },
        {
         "hovertemplate": "<b>%{hovertext}</b><br><br>four_regions=africa<br>exports=%{x}<br>imports=%{y}<br>energy=%{marker.size}<extra></extra>",
         "hovertext": [
          "Algeria",
          "Benin",
          "Botswana",
          "Cameroon",
          "Congo, Dem. Rep.",
          "Congo, Rep.",
          "Cote d'Ivoire",
          "Egypt",
          "Eritrea",
          "Gabon",
          "Ghana",
          "Kenya",
          "Libya",
          "Mauritius",
          "Morocco",
          "Mozambique",
          "Namibia",
          "Nigeria",
          "Senegal",
          "South Africa",
          "Sudan",
          "Tanzania",
          "Togo",
          "Tunisia",
          "Zambia",
          "Zimbabwe"
         ],
         "legendgroup": "africa",
         "marker": {
          "color": "#EF553B",
          "size": [
           825,
           340,
           1060,
           408,
           308,
           246,
           378,
           629,
           307,
           1290,
           403,
           437,
           2940,
           750,
           367,
           396,
           621,
           688,
           229,
           2470,
           487,
           376,
           399,
           717,
           617,
           845
          ],
          "sizemode": "area",
          "sizeref": 22.925,
          "symbol": "circle"
         },
         "mode": "markers",
         "name": "africa",
         "orientation": "v",
         "showlegend": true,
         "type": "scatter",
         "x": [
          22.6,
          27.1,
          49.3,
          22.5,
          29.8,
          76.3,
          41.4,
          16.2,
          14.8,
          47.4,
          33.9,
          20.2,
          19.4,
          65.7,
          23.4,
          9.94,
          41.4,
          18.1,
          18.6,
          25,
          6.7,
          10,
          29.7,
          38.5,
          24.6,
          43.4
         ],
         "xaxis": "x",
         "y": [
          22.5,
          32.5,
          52.6,
          22.5,
          32.9,
          72.6,
          35,
          25.7,
          80.1,
          48.6,
          46.7,
          28.7,
          20.9,
          66.5,
          27.4,
          27.8,
          50.8,
          21.1,
          29.5,
          23.9,
          15.2,
          15.9,
          43.3,
          41.5,
          31.6,
          45.1
         ],
         "yaxis": "y"
        },
        {
         "hovertemplate": "<b>%{hovertext}</b><br><br>four_regions=americas<br>exports=%{x}<br>imports=%{y}<br>energy=%{marker.size}<extra></extra>",
         "hovertext": [
          "Argentina",
          "Bolivia",
          "Brazil",
          "Canada",
          "Chile",
          "Colombia",
          "Costa Rica",
          "Cuba",
          "Dominican Republic",
          "Ecuador",
          "El Salvador",
          "Guatemala",
          "Haiti",
          "Honduras",
          "Jamaica",
          "Mexico",
          "Nicaragua",
          "Panama",
          "Paraguay",
          "Peru",
          "United States",
          "Uruguay",
          "Venezuela"
         ],
         "legendgroup": "americas",
         "marker": {
          "color": "#00cc96",
          "size": [
           1660,
           551,
           1080,
           7950,
           1570,
           749,
           627,
           1030,
           786,
           725,
           630,
           563,
           251,
           535,
           1340,
           1520,
           493,
           883,
           844,
           448,
           7800,
           901,
           2250
          ],
          "sizemode": "area",
          "sizeref": 22.925,
          "symbol": "circle"
         },
         "mode": "markers",
         "name": "americas",
         "orientation": "v",
         "showlegend": true,
         "type": "scatter",
         "x": [
          10.4,
          19.7,
          7.03,
          40,
          25.5,
          15,
          44,
          14.3,
          34.3,
          17.9,
          24.4,
          18.2,
          9.9,
          57.8,
          38.4,
          24.6,
          19.3,
          67.7,
          54.6,
          13.7,
          10.5,
          16.4,
          20.9
         ],
         "xaxis": "x",
         "y": [
          12.9,
          32.6,
          9.41,
          38.1,
          28.8,
          20.9,
          48.1,
          18.3,
          41.6,
          25.5,
          36.5,
          26.3,
          26.6,
          64.3,
          46,
          26.4,
          37.7,
          83.6,
          47,
          19.3,
          12.3,
          19.2,
          22.7
         ],
         "yaxis": "y"
        },
        {
         "hovertemplate": "<b>%{hovertext}</b><br><br>four_regions=asia<br>exports=%{x}<br>imports=%{y}<br>energy=%{marker.size}<extra></extra>",
         "hovertext": [
          "Australia",
          "Bangladesh",
          "Brunei",
          "Cambodia",
          "China",
          "Hong Kong, China",
          "India",
          "Indonesia",
          "Iran",
          "Iraq",
          "Israel",
          "Japan",
          "Jordan",
          "Kazakhstan",
          "Kuwait",
          "Kyrgyz Republic",
          "Lebanon",
          "Malaysia",
          "Mongolia",
          "Nepal",
          "New Zealand",
          "Oman",
          "Pakistan",
          "Philippines",
          "Saudi Arabia",
          "Singapore",
          "South Korea",
          "Sri Lanka",
          "Syria",
          "Tajikistan",
          "Thailand",
          "Turkmenistan",
          "Uzbekistan",
          "Vietnam"
         ],
         "legendgroup": "asia",
         "marker": {
          "color": "#ab63fa",
          "size": [
           5550,
           142,
           7290,
           296,
           869,
           2000,
           399,
           666,
           1740,
           1290,
           2890,
           3960,
           943,
           2610,
           9170,
           579,
           1400,
           1910,
           951,
           316,
           4160,
           3020,
           438,
           504,
           4650,
           5080,
           3380,
           381,
           991,
           373,
           1070,
           2840,
           2080,
           340
          ],
          "sizemode": "area",
          "sizeref": 22.925,
          "symbol": "circle"
         },
         "mode": "markers",
         "name": "asia",
         "orientation": "v",
         "showlegend": true,
         "type": "scatter",
         "x": [
          19.6,
          11.8,
          50.5,
          31.2,
          18.3,
          111,
          11,
          53,
          12.7,
          77.9,
          28.5,
          10.5,
          44.8,
          30.3,
          43.9,
          36.5,
          13.8,
          116,
          47.8,
          22.8,
          29.6,
          33.1,
          16.5,
          44.8,
          29.6,
          167,
          39.5,
          36.2,
          30.5,
          48.9,
          57.9,
          29.7,
          22.6,
          44.8
         ],
         "xaxis": "x",
         "y": [
          20.5,
          16.1,
          57.4,
          44.4,
          14.1,
          110,
          12.7,
          43.2,
          16.5,
          54.3,
          31.1,
          8.71,
          64.3,
          34.9,
          51.1,
          58,
          41,
          93.7,
          59.5,
          33.9,
          28.3,
          40.9,
          17.5,
          53.9,
          26.5,
          145,
          29,
          42.3,
          30.9,
          58,
          42.3,
          66.6,
          22.9,
          52.2
         ],
         "yaxis": "y"
        },
        {
         "mode": "text",
         "showlegend": false,
         "text": [
          "1997"
         ],
         "textfont": {
          "color": "gray",
          "size": 30
         },
         "type": "scatter",
         "x": [
          100
         ],
         "y": [
          400
         ]
        }
       ],
       "layout": {
        "legend": {
         "itemsizing": "constant",
         "title": {
          "text": "World Region"
         },
         "tracegroupgap": 0
        },
        "margin": {
         "t": 60
        },
        "plot_bgcolor": "white",
        "showlegend": true,
        "template": {
         "data": {
          "bar": [
           {
            "error_x": {
             "color": "#2a3f5f"
            },
            "error_y": {
             "color": "#2a3f5f"
            },
            "marker": {
             "line": {
              "color": "#E5ECF6",
              "width": 0.5
             },
             "pattern": {
              "fillmode": "overlay",
              "size": 10,
              "solidity": 0.2
             }
            },
            "type": "bar"
           }
          ],
          "barpolar": [
           {
            "marker": {
             "line": {
              "color": "#E5ECF6",
              "width": 0.5
             },
             "pattern": {
              "fillmode": "overlay",
              "size": 10,
              "solidity": 0.2
             }
            },
            "type": "barpolar"
           }
          ],
          "carpet": [
           {
            "aaxis": {
             "endlinecolor": "#2a3f5f",
             "gridcolor": "white",
             "linecolor": "white",
             "minorgridcolor": "white",
             "startlinecolor": "#2a3f5f"
            },
            "baxis": {
             "endlinecolor": "#2a3f5f",
             "gridcolor": "white",
             "linecolor": "white",
             "minorgridcolor": "white",
             "startlinecolor": "#2a3f5f"
            },
            "type": "carpet"
           }
          ],
          "choropleth": [
           {
            "colorbar": {
             "outlinewidth": 0,
             "ticks": ""
            },
            "type": "choropleth"
           }
          ],
          "contour": [
           {
            "colorbar": {
             "outlinewidth": 0,
             "ticks": ""
            },
            "colorscale": [
             [
              0,
              "#0d0887"
             ],
             [
              0.1111111111111111,
              "#46039f"
             ],
             [
              0.2222222222222222,
              "#7201a8"
             ],
             [
              0.3333333333333333,
              "#9c179e"
             ],
             [
              0.4444444444444444,
              "#bd3786"
             ],
             [
              0.5555555555555556,
              "#d8576b"
             ],
             [
              0.6666666666666666,
              "#ed7953"
             ],
             [
              0.7777777777777778,
              "#fb9f3a"
             ],
             [
              0.8888888888888888,
              "#fdca26"
             ],
             [
              1,
              "#f0f921"
             ]
            ],
            "type": "contour"
           }
          ],
          "contourcarpet": [
           {
            "colorbar": {
             "outlinewidth": 0,
             "ticks": ""
            },
            "type": "contourcarpet"
           }
          ],
          "heatmap": [
           {
            "colorbar": {
             "outlinewidth": 0,
             "ticks": ""
            },
            "colorscale": [
             [
              0,
              "#0d0887"
             ],
             [
              0.1111111111111111,
              "#46039f"
             ],
             [
              0.2222222222222222,
              "#7201a8"
             ],
             [
              0.3333333333333333,
              "#9c179e"
             ],
             [
              0.4444444444444444,
              "#bd3786"
             ],
             [
              0.5555555555555556,
              "#d8576b"
             ],
             [
              0.6666666666666666,
              "#ed7953"
             ],
             [
              0.7777777777777778,
              "#fb9f3a"
             ],
             [
              0.8888888888888888,
              "#fdca26"
             ],
             [
              1,
              "#f0f921"
             ]
            ],
            "type": "heatmap"
           }
          ],
          "heatmapgl": [
           {
            "colorbar": {
             "outlinewidth": 0,
             "ticks": ""
            },
            "colorscale": [
             [
              0,
              "#0d0887"
             ],
             [
              0.1111111111111111,
              "#46039f"
             ],
             [
              0.2222222222222222,
              "#7201a8"
             ],
             [
              0.3333333333333333,
              "#9c179e"
             ],
             [
              0.4444444444444444,
              "#bd3786"
             ],
             [
              0.5555555555555556,
              "#d8576b"
             ],
             [
              0.6666666666666666,
              "#ed7953"
             ],
             [
              0.7777777777777778,
              "#fb9f3a"
             ],
             [
              0.8888888888888888,
              "#fdca26"
             ],
             [
              1,
              "#f0f921"
             ]
            ],
            "type": "heatmapgl"
           }
          ],
          "histogram": [
           {
            "marker": {
             "pattern": {
              "fillmode": "overlay",
              "size": 10,
              "solidity": 0.2
             }
            },
            "type": "histogram"
           }
          ],
          "histogram2d": [
           {
            "colorbar": {
             "outlinewidth": 0,
             "ticks": ""
            },
            "colorscale": [
             [
              0,
              "#0d0887"
             ],
             [
              0.1111111111111111,
              "#46039f"
             ],
             [
              0.2222222222222222,
              "#7201a8"
             ],
             [
              0.3333333333333333,
              "#9c179e"
             ],
             [
              0.4444444444444444,
              "#bd3786"
             ],
             [
              0.5555555555555556,
              "#d8576b"
             ],
             [
              0.6666666666666666,
              "#ed7953"
             ],
             [
              0.7777777777777778,
              "#fb9f3a"
             ],
             [
              0.8888888888888888,
              "#fdca26"
             ],
             [
              1,
              "#f0f921"
             ]
            ],
            "type": "histogram2d"
           }
          ],
          "histogram2dcontour": [
           {
            "colorbar": {
             "outlinewidth": 0,
             "ticks": ""
            },
            "colorscale": [
             [
              0,
              "#0d0887"
             ],
             [
              0.1111111111111111,
              "#46039f"
             ],
             [
              0.2222222222222222,
              "#7201a8"
             ],
             [
              0.3333333333333333,
              "#9c179e"
             ],
             [
              0.4444444444444444,
              "#bd3786"
             ],
             [
              0.5555555555555556,
              "#d8576b"
             ],
             [
              0.6666666666666666,
              "#ed7953"
             ],
             [
              0.7777777777777778,
              "#fb9f3a"
             ],
             [
              0.8888888888888888,
              "#fdca26"
             ],
             [
              1,
              "#f0f921"
             ]
            ],
            "type": "histogram2dcontour"
           }
          ],
          "mesh3d": [
           {
            "colorbar": {
             "outlinewidth": 0,
             "ticks": ""
            },
            "type": "mesh3d"
           }
          ],
          "parcoords": [
           {
            "line": {
             "colorbar": {
              "outlinewidth": 0,
              "ticks": ""
             }
            },
            "type": "parcoords"
           }
          ],
          "pie": [
           {
            "automargin": true,
            "type": "pie"
           }
          ],
          "scatter": [
           {
            "fillpattern": {
             "fillmode": "overlay",
             "size": 10,
             "solidity": 0.2
            },
            "type": "scatter"
           }
          ],
          "scatter3d": [
           {
            "line": {
             "colorbar": {
              "outlinewidth": 0,
              "ticks": ""
             }
            },
            "marker": {
             "colorbar": {
              "outlinewidth": 0,
              "ticks": ""
             }
            },
            "type": "scatter3d"
           }
          ],
          "scattercarpet": [
           {
            "marker": {
             "colorbar": {
              "outlinewidth": 0,
              "ticks": ""
             }
            },
            "type": "scattercarpet"
           }
          ],
          "scattergeo": [
           {
            "marker": {
             "colorbar": {
              "outlinewidth": 0,
              "ticks": ""
             }
            },
            "type": "scattergeo"
           }
          ],
          "scattergl": [
           {
            "marker": {
             "colorbar": {
              "outlinewidth": 0,
              "ticks": ""
             }
            },
            "type": "scattergl"
           }
          ],
          "scattermapbox": [
           {
            "marker": {
             "colorbar": {
              "outlinewidth": 0,
              "ticks": ""
             }
            },
            "type": "scattermapbox"
           }
          ],
          "scatterpolar": [
           {
            "marker": {
             "colorbar": {
              "outlinewidth": 0,
              "ticks": ""
             }
            },
            "type": "scatterpolar"
           }
          ],
          "scatterpolargl": [
           {
            "marker": {
             "colorbar": {
              "outlinewidth": 0,
              "ticks": ""
             }
            },
            "type": "scatterpolargl"
           }
          ],
          "scatterternary": [
           {
            "marker": {
             "colorbar": {
              "outlinewidth": 0,
              "ticks": ""
             }
            },
            "type": "scatterternary"
           }
          ],
          "surface": [
           {
            "colorbar": {
             "outlinewidth": 0,
             "ticks": ""
            },
            "colorscale": [
             [
              0,
              "#0d0887"
             ],
             [
              0.1111111111111111,
              "#46039f"
             ],
             [
              0.2222222222222222,
              "#7201a8"
             ],
             [
              0.3333333333333333,
              "#9c179e"
             ],
             [
              0.4444444444444444,
              "#bd3786"
             ],
             [
              0.5555555555555556,
              "#d8576b"
             ],
             [
              0.6666666666666666,
              "#ed7953"
             ],
             [
              0.7777777777777778,
              "#fb9f3a"
             ],
             [
              0.8888888888888888,
              "#fdca26"
             ],
             [
              1,
              "#f0f921"
             ]
            ],
            "type": "surface"
           }
          ],
          "table": [
           {
            "cells": {
             "fill": {
              "color": "#EBF0F8"
             },
             "line": {
              "color": "white"
             }
            },
            "header": {
             "fill": {
              "color": "#C8D4E3"
             },
             "line": {
              "color": "white"
             }
            },
            "type": "table"
           }
          ]
         },
         "layout": {
          "annotationdefaults": {
           "arrowcolor": "#2a3f5f",
           "arrowhead": 0,
           "arrowwidth": 1
          },
          "autotypenumbers": "strict",
          "coloraxis": {
           "colorbar": {
            "outlinewidth": 0,
            "ticks": ""
           }
          },
          "colorscale": {
           "diverging": [
            [
             0,
             "#8e0152"
            ],
            [
             0.1,
             "#c51b7d"
            ],
            [
             0.2,
             "#de77ae"
            ],
            [
             0.3,
             "#f1b6da"
            ],
            [
             0.4,
             "#fde0ef"
            ],
            [
             0.5,
             "#f7f7f7"
            ],
            [
             0.6,
             "#e6f5d0"
            ],
            [
             0.7,
             "#b8e186"
            ],
            [
             0.8,
             "#7fbc41"
            ],
            [
             0.9,
             "#4d9221"
            ],
            [
             1,
             "#276419"
            ]
           ],
           "sequential": [
            [
             0,
             "#0d0887"
            ],
            [
             0.1111111111111111,
             "#46039f"
            ],
            [
             0.2222222222222222,
             "#7201a8"
            ],
            [
             0.3333333333333333,
             "#9c179e"
            ],
            [
             0.4444444444444444,
             "#bd3786"
            ],
            [
             0.5555555555555556,
             "#d8576b"
            ],
            [
             0.6666666666666666,
             "#ed7953"
            ],
            [
             0.7777777777777778,
             "#fb9f3a"
            ],
            [
             0.8888888888888888,
             "#fdca26"
            ],
            [
             1,
             "#f0f921"
            ]
           ],
           "sequentialminus": [
            [
             0,
             "#0d0887"
            ],
            [
             0.1111111111111111,
             "#46039f"
            ],
            [
             0.2222222222222222,
             "#7201a8"
            ],
            [
             0.3333333333333333,
             "#9c179e"
            ],
            [
             0.4444444444444444,
             "#bd3786"
            ],
            [
             0.5555555555555556,
             "#d8576b"
            ],
            [
             0.6666666666666666,
             "#ed7953"
            ],
            [
             0.7777777777777778,
             "#fb9f3a"
            ],
            [
             0.8888888888888888,
             "#fdca26"
            ],
            [
             1,
             "#f0f921"
            ]
           ]
          },
          "colorway": [
           "#636efa",
           "#EF553B",
           "#00cc96",
           "#ab63fa",
           "#FFA15A",
           "#19d3f3",
           "#FF6692",
           "#B6E880",
           "#FF97FF",
           "#FECB52"
          ],
          "font": {
           "color": "#2a3f5f"
          },
          "geo": {
           "bgcolor": "white",
           "lakecolor": "white",
           "landcolor": "#E5ECF6",
           "showlakes": true,
           "showland": true,
           "subunitcolor": "white"
          },
          "hoverlabel": {
           "align": "left"
          },
          "hovermode": "closest",
          "mapbox": {
           "style": "light"
          },
          "paper_bgcolor": "white",
          "plot_bgcolor": "#E5ECF6",
          "polar": {
           "angularaxis": {
            "gridcolor": "white",
            "linecolor": "white",
            "ticks": ""
           },
           "bgcolor": "#E5ECF6",
           "radialaxis": {
            "gridcolor": "white",
            "linecolor": "white",
            "ticks": ""
           }
          },
          "scene": {
           "xaxis": {
            "backgroundcolor": "#E5ECF6",
            "gridcolor": "white",
            "gridwidth": 2,
            "linecolor": "white",
            "showbackground": true,
            "ticks": "",
            "zerolinecolor": "white"
           },
           "yaxis": {
            "backgroundcolor": "#E5ECF6",
            "gridcolor": "white",
            "gridwidth": 2,
            "linecolor": "white",
            "showbackground": true,
            "ticks": "",
            "zerolinecolor": "white"
           },
           "zaxis": {
            "backgroundcolor": "#E5ECF6",
            "gridcolor": "white",
            "gridwidth": 2,
            "linecolor": "white",
            "showbackground": true,
            "ticks": "",
            "zerolinecolor": "white"
           }
          },
          "shapedefaults": {
           "line": {
            "color": "#2a3f5f"
           }
          },
          "ternary": {
           "aaxis": {
            "gridcolor": "white",
            "linecolor": "white",
            "ticks": ""
           },
           "baxis": {
            "gridcolor": "white",
            "linecolor": "white",
            "ticks": ""
           },
           "bgcolor": "#E5ECF6",
           "caxis": {
            "gridcolor": "white",
            "linecolor": "white",
            "ticks": ""
           }
          },
          "title": {
           "x": 0.05
          },
          "xaxis": {
           "automargin": true,
           "gridcolor": "white",
           "linecolor": "white",
           "ticks": "",
           "title": {
            "standoff": 15
           },
           "zerolinecolor": "white",
           "zerolinewidth": 2
          },
          "yaxis": {
           "automargin": true,
           "gridcolor": "white",
           "linecolor": "white",
           "ticks": "",
           "title": {
            "standoff": 15
           },
           "zerolinecolor": "white",
           "zerolinewidth": 2
          }
         }
        },
        "xaxis": {
         "anchor": "y",
         "domain": [
          0,
          1
         ],
         "linecolor": "gray",
         "title": {
          "text": "Exports (\\% of GDP)"
         }
        },
        "yaxis": {
         "anchor": "x",
         "domain": [
          0,
          1
         ],
         "linecolor": "gray",
         "ticktext": [
          "50",
          "100",
          "150",
          "200",
          "250",
          "300",
          "350",
          "400"
         ],
         "tickvals": [
          50,
          100,
          150,
          200,
          250,
          300,
          350,
          400
         ],
         "title": {
          "text": "Imports (\\% of GDP)"
         }
        }
       }
      },
      "text/html": [
       "<div>                            <div id=\"34d50a89-c8bf-48b9-953b-0dd605118f85\" class=\"plotly-graph-div\" style=\"height:525px; width:100%;\"></div>            <script type=\"text/javascript\">                require([\"plotly\"], function(Plotly) {                    window.PLOTLYENV=window.PLOTLYENV || {};                                    if (document.getElementById(\"34d50a89-c8bf-48b9-953b-0dd605118f85\")) {                    Plotly.newPlot(                        \"34d50a89-c8bf-48b9-953b-0dd605118f85\",                        [{\"hovertemplate\":\"<b>%{hovertext}</b><br><br>four_regions=europe<br>exports=%{x}<br>imports=%{y}<br>energy=%{marker.size}<extra></extra>\",\"hovertext\":[\"Albania\",\"Armenia\",\"Austria\",\"Azerbaijan\",\"Belarus\",\"Belgium\",\"Bosnia and Herzegovina\",\"Bulgaria\",\"Croatia\",\"Cyprus\",\"Czech Republic\",\"Denmark\",\"Estonia\",\"Finland\",\"France\",\"Georgia\",\"Germany\",\"Greece\",\"Hungary\",\"Iceland\",\"Ireland\",\"Italy\",\"Latvia\",\"Lithuania\",\"Luxembourg\",\"Malta\",\"Moldova\",\"Netherlands\",\"Norway\",\"Poland\",\"Portugal\",\"Romania\",\"Russia\",\"Serbia\",\"Slovak Republic\",\"Slovenia\",\"Spain\",\"Sweden\",\"Switzerland\",\"Turkey\",\"Ukraine\",\"United Kingdom\"],\"legendgroup\":\"europe\",\"marker\":{\"color\":\"#636efa\",\"size\":[427.0,610.0,3610.0,1490.0,2470.0,5600.0,897.0,2430.0,1950.0,2170.0,4060.0,3770.0,3700.0,6320.0,4150.0,716.0,4180.0,2390.0,2500.0,9040.0,3420.0,2910.0,1800.0,2630.0,7070.0,1790.0,1220.0,4840.0,5680.0,2460.0,2240.0,1820.0,3980.0,2300.0,3260.0,3250.0,2760.0,5770.0,3560.0,1170.0,2710.0,3790.0],\"sizemode\":\"area\",\"sizeref\":22.925,\"symbol\":\"circle\"},\"mode\":\"markers\",\"name\":\"europe\",\"orientation\":\"v\",\"showlegend\":true,\"x\":[11.5,19.0,38.4,22.7,59.1,64.2,27.3,41.9,29.3,68.7,42.1,37.2,73.7,37.4,26.1,16.5,26.4,16.3,52.9,33.8,84.4,24.1,39.3,39.1,126.0,109.0,45.0,59.3,36.9,25.9,27.3,23.0,31.2,18.7,45.5,47.5,26.1,40.0,45.9,20.7,41.9,24.1],\"xaxis\":\"x\",\"y\":[36.7,52.8,38.6,54.5,63.9,60.5,98.4,35.1,36.1,66.2,42.4,34.1,83.3,29.5,23.4,37.1,25.2,26.0,54.5,38.1,73.5,21.0,51.4,50.5,107.0,116.0,71.8,53.2,35.1,30.8,36.5,30.8,24.6,23.6,56.6,49.2,26.6,34.3,41.8,19.7,44.2,24.8],\"yaxis\":\"y\",\"type\":\"scatter\"},{\"hovertemplate\":\"<b>%{hovertext}</b><br><br>four_regions=africa<br>exports=%{x}<br>imports=%{y}<br>energy=%{marker.size}<extra></extra>\",\"hovertext\":[\"Algeria\",\"Benin\",\"Botswana\",\"Cameroon\",\"Congo, Dem. Rep.\",\"Congo, Rep.\",\"Cote d'Ivoire\",\"Egypt\",\"Eritrea\",\"Gabon\",\"Ghana\",\"Kenya\",\"Libya\",\"Mauritius\",\"Morocco\",\"Mozambique\",\"Namibia\",\"Nigeria\",\"Senegal\",\"South Africa\",\"Sudan\",\"Tanzania\",\"Togo\",\"Tunisia\",\"Zambia\",\"Zimbabwe\"],\"legendgroup\":\"africa\",\"marker\":{\"color\":\"#EF553B\",\"size\":[825.0,340.0,1060.0,408.0,308.0,246.0,378.0,629.0,307.0,1290.0,403.0,437.0,2940.0,750.0,367.0,396.0,621.0,688.0,229.0,2470.0,487.0,376.0,399.0,717.0,617.0,845.0],\"sizemode\":\"area\",\"sizeref\":22.925,\"symbol\":\"circle\"},\"mode\":\"markers\",\"name\":\"africa\",\"orientation\":\"v\",\"showlegend\":true,\"x\":[22.6,27.1,49.3,22.5,29.8,76.3,41.4,16.2,14.8,47.4,33.9,20.2,19.4,65.7,23.4,9.94,41.4,18.1,18.6,25.0,6.7,10.0,29.7,38.5,24.6,43.4],\"xaxis\":\"x\",\"y\":[22.5,32.5,52.6,22.5,32.9,72.6,35.0,25.7,80.1,48.6,46.7,28.7,20.9,66.5,27.4,27.8,50.8,21.1,29.5,23.9,15.2,15.9,43.3,41.5,31.6,45.1],\"yaxis\":\"y\",\"type\":\"scatter\"},{\"hovertemplate\":\"<b>%{hovertext}</b><br><br>four_regions=americas<br>exports=%{x}<br>imports=%{y}<br>energy=%{marker.size}<extra></extra>\",\"hovertext\":[\"Argentina\",\"Bolivia\",\"Brazil\",\"Canada\",\"Chile\",\"Colombia\",\"Costa Rica\",\"Cuba\",\"Dominican Republic\",\"Ecuador\",\"El Salvador\",\"Guatemala\",\"Haiti\",\"Honduras\",\"Jamaica\",\"Mexico\",\"Nicaragua\",\"Panama\",\"Paraguay\",\"Peru\",\"United States\",\"Uruguay\",\"Venezuela\"],\"legendgroup\":\"americas\",\"marker\":{\"color\":\"#00cc96\",\"size\":[1660.0,551.0,1080.0,7950.0,1570.0,749.0,627.0,1030.0,786.0,725.0,630.0,563.0,251.0,535.0,1340.0,1520.0,493.0,883.0,844.0,448.0,7800.0,901.0,2250.0],\"sizemode\":\"area\",\"sizeref\":22.925,\"symbol\":\"circle\"},\"mode\":\"markers\",\"name\":\"americas\",\"orientation\":\"v\",\"showlegend\":true,\"x\":[10.4,19.7,7.03,40.0,25.5,15.0,44.0,14.3,34.3,17.9,24.4,18.2,9.9,57.8,38.4,24.6,19.3,67.7,54.6,13.7,10.5,16.4,20.9],\"xaxis\":\"x\",\"y\":[12.9,32.6,9.41,38.1,28.8,20.9,48.1,18.3,41.6,25.5,36.5,26.3,26.6,64.3,46.0,26.4,37.7,83.6,47.0,19.3,12.3,19.2,22.7],\"yaxis\":\"y\",\"type\":\"scatter\"},{\"hovertemplate\":\"<b>%{hovertext}</b><br><br>four_regions=asia<br>exports=%{x}<br>imports=%{y}<br>energy=%{marker.size}<extra></extra>\",\"hovertext\":[\"Australia\",\"Bangladesh\",\"Brunei\",\"Cambodia\",\"China\",\"Hong Kong, China\",\"India\",\"Indonesia\",\"Iran\",\"Iraq\",\"Israel\",\"Japan\",\"Jordan\",\"Kazakhstan\",\"Kuwait\",\"Kyrgyz Republic\",\"Lebanon\",\"Malaysia\",\"Mongolia\",\"Nepal\",\"New Zealand\",\"Oman\",\"Pakistan\",\"Philippines\",\"Saudi Arabia\",\"Singapore\",\"South Korea\",\"Sri Lanka\",\"Syria\",\"Tajikistan\",\"Thailand\",\"Turkmenistan\",\"Uzbekistan\",\"Vietnam\"],\"legendgroup\":\"asia\",\"marker\":{\"color\":\"#ab63fa\",\"size\":[5550.0,142.0,7290.0,296.0,869.0,2000.0,399.0,666.0,1740.0,1290.0,2890.0,3960.0,943.0,2610.0,9170.0,579.0,1400.0,1910.0,951.0,316.0,4160.0,3020.0,438.0,504.0,4650.0,5080.0,3380.0,381.0,991.0,373.0,1070.0,2840.0,2080.0,340.0],\"sizemode\":\"area\",\"sizeref\":22.925,\"symbol\":\"circle\"},\"mode\":\"markers\",\"name\":\"asia\",\"orientation\":\"v\",\"showlegend\":true,\"x\":[19.6,11.8,50.5,31.2,18.3,111.0,11.0,53.0,12.7,77.9,28.5,10.5,44.8,30.3,43.9,36.5,13.8,116.0,47.8,22.8,29.6,33.1,16.5,44.8,29.6,167.0,39.5,36.2,30.5,48.9,57.9,29.7,22.6,44.8],\"xaxis\":\"x\",\"y\":[20.5,16.1,57.4,44.4,14.1,110.0,12.7,43.2,16.5,54.3,31.1,8.71,64.3,34.9,51.1,58.0,41.0,93.7,59.5,33.9,28.3,40.9,17.5,53.9,26.5,145.0,29.0,42.3,30.9,58.0,42.3,66.6,22.9,52.2],\"yaxis\":\"y\",\"type\":\"scatter\"},{\"mode\":\"text\",\"showlegend\":false,\"text\":[\"1997\"],\"textfont\":{\"color\":\"gray\",\"size\":30},\"x\":[100],\"y\":[400],\"type\":\"scatter\"}],                        {\"template\":{\"data\":{\"histogram2dcontour\":[{\"type\":\"histogram2dcontour\",\"colorbar\":{\"outlinewidth\":0,\"ticks\":\"\"},\"colorscale\":[[0.0,\"#0d0887\"],[0.1111111111111111,\"#46039f\"],[0.2222222222222222,\"#7201a8\"],[0.3333333333333333,\"#9c179e\"],[0.4444444444444444,\"#bd3786\"],[0.5555555555555556,\"#d8576b\"],[0.6666666666666666,\"#ed7953\"],[0.7777777777777778,\"#fb9f3a\"],[0.8888888888888888,\"#fdca26\"],[1.0,\"#f0f921\"]]}],\"choropleth\":[{\"type\":\"choropleth\",\"colorbar\":{\"outlinewidth\":0,\"ticks\":\"\"}}],\"histogram2d\":[{\"type\":\"histogram2d\",\"colorbar\":{\"outlinewidth\":0,\"ticks\":\"\"},\"colorscale\":[[0.0,\"#0d0887\"],[0.1111111111111111,\"#46039f\"],[0.2222222222222222,\"#7201a8\"],[0.3333333333333333,\"#9c179e\"],[0.4444444444444444,\"#bd3786\"],[0.5555555555555556,\"#d8576b\"],[0.6666666666666666,\"#ed7953\"],[0.7777777777777778,\"#fb9f3a\"],[0.8888888888888888,\"#fdca26\"],[1.0,\"#f0f921\"]]}],\"heatmap\":[{\"type\":\"heatmap\",\"colorbar\":{\"outlinewidth\":0,\"ticks\":\"\"},\"colorscale\":[[0.0,\"#0d0887\"],[0.1111111111111111,\"#46039f\"],[0.2222222222222222,\"#7201a8\"],[0.3333333333333333,\"#9c179e\"],[0.4444444444444444,\"#bd3786\"],[0.5555555555555556,\"#d8576b\"],[0.6666666666666666,\"#ed7953\"],[0.7777777777777778,\"#fb9f3a\"],[0.8888888888888888,\"#fdca26\"],[1.0,\"#f0f921\"]]}],\"heatmapgl\":[{\"type\":\"heatmapgl\",\"colorbar\":{\"outlinewidth\":0,\"ticks\":\"\"},\"colorscale\":[[0.0,\"#0d0887\"],[0.1111111111111111,\"#46039f\"],[0.2222222222222222,\"#7201a8\"],[0.3333333333333333,\"#9c179e\"],[0.4444444444444444,\"#bd3786\"],[0.5555555555555556,\"#d8576b\"],[0.6666666666666666,\"#ed7953\"],[0.7777777777777778,\"#fb9f3a\"],[0.8888888888888888,\"#fdca26\"],[1.0,\"#f0f921\"]]}],\"contourcarpet\":[{\"type\":\"contourcarpet\",\"colorbar\":{\"outlinewidth\":0,\"ticks\":\"\"}}],\"contour\":[{\"type\":\"contour\",\"colorbar\":{\"outlinewidth\":0,\"ticks\":\"\"},\"colorscale\":[[0.0,\"#0d0887\"],[0.1111111111111111,\"#46039f\"],[0.2222222222222222,\"#7201a8\"],[0.3333333333333333,\"#9c179e\"],[0.4444444444444444,\"#bd3786\"],[0.5555555555555556,\"#d8576b\"],[0.6666666666666666,\"#ed7953\"],[0.7777777777777778,\"#fb9f3a\"],[0.8888888888888888,\"#fdca26\"],[1.0,\"#f0f921\"]]}],\"surface\":[{\"type\":\"surface\",\"colorbar\":{\"outlinewidth\":0,\"ticks\":\"\"},\"colorscale\":[[0.0,\"#0d0887\"],[0.1111111111111111,\"#46039f\"],[0.2222222222222222,\"#7201a8\"],[0.3333333333333333,\"#9c179e\"],[0.4444444444444444,\"#bd3786\"],[0.5555555555555556,\"#d8576b\"],[0.6666666666666666,\"#ed7953\"],[0.7777777777777778,\"#fb9f3a\"],[0.8888888888888888,\"#fdca26\"],[1.0,\"#f0f921\"]]}],\"mesh3d\":[{\"type\":\"mesh3d\",\"colorbar\":{\"outlinewidth\":0,\"ticks\":\"\"}}],\"scatter\":[{\"fillpattern\":{\"fillmode\":\"overlay\",\"size\":10,\"solidity\":0.2},\"type\":\"scatter\"}],\"parcoords\":[{\"type\":\"parcoords\",\"line\":{\"colorbar\":{\"outlinewidth\":0,\"ticks\":\"\"}}}],\"scatterpolargl\":[{\"type\":\"scatterpolargl\",\"marker\":{\"colorbar\":{\"outlinewidth\":0,\"ticks\":\"\"}}}],\"bar\":[{\"error_x\":{\"color\":\"#2a3f5f\"},\"error_y\":{\"color\":\"#2a3f5f\"},\"marker\":{\"line\":{\"color\":\"#E5ECF6\",\"width\":0.5},\"pattern\":{\"fillmode\":\"overlay\",\"size\":10,\"solidity\":0.2}},\"type\":\"bar\"}],\"scattergeo\":[{\"type\":\"scattergeo\",\"marker\":{\"colorbar\":{\"outlinewidth\":0,\"ticks\":\"\"}}}],\"scatterpolar\":[{\"type\":\"scatterpolar\",\"marker\":{\"colorbar\":{\"outlinewidth\":0,\"ticks\":\"\"}}}],\"histogram\":[{\"marker\":{\"pattern\":{\"fillmode\":\"overlay\",\"size\":10,\"solidity\":0.2}},\"type\":\"histogram\"}],\"scattergl\":[{\"type\":\"scattergl\",\"marker\":{\"colorbar\":{\"outlinewidth\":0,\"ticks\":\"\"}}}],\"scatter3d\":[{\"type\":\"scatter3d\",\"line\":{\"colorbar\":{\"outlinewidth\":0,\"ticks\":\"\"}},\"marker\":{\"colorbar\":{\"outlinewidth\":0,\"ticks\":\"\"}}}],\"scattermapbox\":[{\"type\":\"scattermapbox\",\"marker\":{\"colorbar\":{\"outlinewidth\":0,\"ticks\":\"\"}}}],\"scatterternary\":[{\"type\":\"scatterternary\",\"marker\":{\"colorbar\":{\"outlinewidth\":0,\"ticks\":\"\"}}}],\"scattercarpet\":[{\"type\":\"scattercarpet\",\"marker\":{\"colorbar\":{\"outlinewidth\":0,\"ticks\":\"\"}}}],\"carpet\":[{\"aaxis\":{\"endlinecolor\":\"#2a3f5f\",\"gridcolor\":\"white\",\"linecolor\":\"white\",\"minorgridcolor\":\"white\",\"startlinecolor\":\"#2a3f5f\"},\"baxis\":{\"endlinecolor\":\"#2a3f5f\",\"gridcolor\":\"white\",\"linecolor\":\"white\",\"minorgridcolor\":\"white\",\"startlinecolor\":\"#2a3f5f\"},\"type\":\"carpet\"}],\"table\":[{\"cells\":{\"fill\":{\"color\":\"#EBF0F8\"},\"line\":{\"color\":\"white\"}},\"header\":{\"fill\":{\"color\":\"#C8D4E3\"},\"line\":{\"color\":\"white\"}},\"type\":\"table\"}],\"barpolar\":[{\"marker\":{\"line\":{\"color\":\"#E5ECF6\",\"width\":0.5},\"pattern\":{\"fillmode\":\"overlay\",\"size\":10,\"solidity\":0.2}},\"type\":\"barpolar\"}],\"pie\":[{\"automargin\":true,\"type\":\"pie\"}]},\"layout\":{\"autotypenumbers\":\"strict\",\"colorway\":[\"#636efa\",\"#EF553B\",\"#00cc96\",\"#ab63fa\",\"#FFA15A\",\"#19d3f3\",\"#FF6692\",\"#B6E880\",\"#FF97FF\",\"#FECB52\"],\"font\":{\"color\":\"#2a3f5f\"},\"hovermode\":\"closest\",\"hoverlabel\":{\"align\":\"left\"},\"paper_bgcolor\":\"white\",\"plot_bgcolor\":\"#E5ECF6\",\"polar\":{\"bgcolor\":\"#E5ECF6\",\"angularaxis\":{\"gridcolor\":\"white\",\"linecolor\":\"white\",\"ticks\":\"\"},\"radialaxis\":{\"gridcolor\":\"white\",\"linecolor\":\"white\",\"ticks\":\"\"}},\"ternary\":{\"bgcolor\":\"#E5ECF6\",\"aaxis\":{\"gridcolor\":\"white\",\"linecolor\":\"white\",\"ticks\":\"\"},\"baxis\":{\"gridcolor\":\"white\",\"linecolor\":\"white\",\"ticks\":\"\"},\"caxis\":{\"gridcolor\":\"white\",\"linecolor\":\"white\",\"ticks\":\"\"}},\"coloraxis\":{\"colorbar\":{\"outlinewidth\":0,\"ticks\":\"\"}},\"colorscale\":{\"sequential\":[[0.0,\"#0d0887\"],[0.1111111111111111,\"#46039f\"],[0.2222222222222222,\"#7201a8\"],[0.3333333333333333,\"#9c179e\"],[0.4444444444444444,\"#bd3786\"],[0.5555555555555556,\"#d8576b\"],[0.6666666666666666,\"#ed7953\"],[0.7777777777777778,\"#fb9f3a\"],[0.8888888888888888,\"#fdca26\"],[1.0,\"#f0f921\"]],\"sequentialminus\":[[0.0,\"#0d0887\"],[0.1111111111111111,\"#46039f\"],[0.2222222222222222,\"#7201a8\"],[0.3333333333333333,\"#9c179e\"],[0.4444444444444444,\"#bd3786\"],[0.5555555555555556,\"#d8576b\"],[0.6666666666666666,\"#ed7953\"],[0.7777777777777778,\"#fb9f3a\"],[0.8888888888888888,\"#fdca26\"],[1.0,\"#f0f921\"]],\"diverging\":[[0,\"#8e0152\"],[0.1,\"#c51b7d\"],[0.2,\"#de77ae\"],[0.3,\"#f1b6da\"],[0.4,\"#fde0ef\"],[0.5,\"#f7f7f7\"],[0.6,\"#e6f5d0\"],[0.7,\"#b8e186\"],[0.8,\"#7fbc41\"],[0.9,\"#4d9221\"],[1,\"#276419\"]]},\"xaxis\":{\"gridcolor\":\"white\",\"linecolor\":\"white\",\"ticks\":\"\",\"title\":{\"standoff\":15},\"zerolinecolor\":\"white\",\"automargin\":true,\"zerolinewidth\":2},\"yaxis\":{\"gridcolor\":\"white\",\"linecolor\":\"white\",\"ticks\":\"\",\"title\":{\"standoff\":15},\"zerolinecolor\":\"white\",\"automargin\":true,\"zerolinewidth\":2},\"scene\":{\"xaxis\":{\"backgroundcolor\":\"#E5ECF6\",\"gridcolor\":\"white\",\"linecolor\":\"white\",\"showbackground\":true,\"ticks\":\"\",\"zerolinecolor\":\"white\",\"gridwidth\":2},\"yaxis\":{\"backgroundcolor\":\"#E5ECF6\",\"gridcolor\":\"white\",\"linecolor\":\"white\",\"showbackground\":true,\"ticks\":\"\",\"zerolinecolor\":\"white\",\"gridwidth\":2},\"zaxis\":{\"backgroundcolor\":\"#E5ECF6\",\"gridcolor\":\"white\",\"linecolor\":\"white\",\"showbackground\":true,\"ticks\":\"\",\"zerolinecolor\":\"white\",\"gridwidth\":2}},\"shapedefaults\":{\"line\":{\"color\":\"#2a3f5f\"}},\"annotationdefaults\":{\"arrowcolor\":\"#2a3f5f\",\"arrowhead\":0,\"arrowwidth\":1},\"geo\":{\"bgcolor\":\"white\",\"landcolor\":\"#E5ECF6\",\"subunitcolor\":\"white\",\"showland\":true,\"showlakes\":true,\"lakecolor\":\"white\"},\"title\":{\"x\":0.05},\"mapbox\":{\"style\":\"light\"}}},\"xaxis\":{\"anchor\":\"y\",\"domain\":[0.0,1.0],\"title\":{\"text\":\"Exports (\\\\% of GDP)\"},\"linecolor\":\"gray\"},\"yaxis\":{\"anchor\":\"x\",\"domain\":[0.0,1.0],\"title\":{\"text\":\"Imports (\\\\% of GDP)\"},\"linecolor\":\"gray\",\"tickvals\":[50,100,150,200,250,300,350,400],\"ticktext\":[\"50\",\"100\",\"150\",\"200\",\"250\",\"300\",\"350\",\"400\"]},\"legend\":{\"title\":{\"text\":\"World Region\"},\"tracegroupgap\":0,\"itemsizing\":\"constant\"},\"margin\":{\"t\":60},\"plot_bgcolor\":\"white\",\"showlegend\":true},                        {\"responsive\": true}                    ).then(function(){\n",
       "                            \n",
       "var gd = document.getElementById('34d50a89-c8bf-48b9-953b-0dd605118f85');\n",
       "var x = new MutationObserver(function (mutations, observer) {{\n",
       "        var display = window.getComputedStyle(gd).display;\n",
       "        if (!display || display === 'none') {{\n",
       "            console.log([gd, 'removed!']);\n",
       "            Plotly.purge(gd);\n",
       "            observer.disconnect();\n",
       "        }}\n",
       "}});\n",
       "\n",
       "// Listen for the removal of the full notebook cells\n",
       "var notebookContainer = gd.closest('#notebook-container');\n",
       "if (notebookContainer) {{\n",
       "    x.observe(notebookContainer, {childList: true});\n",
       "}}\n",
       "\n",
       "// Listen for the clearing of the current output cell\n",
       "var outputEl = gd.closest('.output');\n",
       "if (outputEl) {{\n",
       "    x.observe(outputEl, {childList: true});\n",
       "}}\n",
       "\n",
       "                        })                };                });            </script>        </div>"
      ]
     },
     "metadata": {},
     "output_type": "display_data"
    }
   ],
   "source": [
    "dfq2['imports'] = pd.to_numeric(dfq2['imports'], errors='coerce')\n",
    "dfq2['exports'] = pd.to_numeric(dfq2['exports'], errors='coerce')\n",
    "dfq2['energy'] = pd.to_numeric(dfq2['energy'], errors='coerce')\n",
    "\n",
    "dfq2 = dfq2.dropna(subset=['four_regions', 'imports', 'exports', 'energy'])\n",
    "\n",
    "# Create the scatterplot\n",
    "fig2 = px.scatter(dfq2, x=\"exports\", y=\"imports\", size=\"energy\", hover_name=\"country\", color=\"four_regions\")\n",
    "\n",
    "# Customize the plot's layout\n",
    "fig2.update_layout(\n",
    "    plot_bgcolor='white',  # Set background color to white\n",
    "    xaxis=dict(linecolor='gray'),  # Set x-axis line color to gray\n",
    "    yaxis=dict(linecolor='gray', tickvals=[50,100,150,200,250,300,350,400],\n",
    "               ticktext=['50', '100', '150', '200', '250', '300', '350', '400']),   # Set y-axis to log scale\n",
    "    showlegend=True,  # Show the legend\n",
    "    legend_title_text='World Region',\n",
    "    xaxis_title='Exports (\\% of GDP)',\n",
    "    yaxis_title='Imports (\\% of GDP)'\n",
    ")\n",
    "\n",
    "# Add text behind the plot points for the year \"1997\"\n",
    "fig2.add_trace(go.Scatter(\n",
    "    x=[100],\n",
    "    y=[400],\n",
    "    text=['1997'],  # Text to display\n",
    "    textfont=dict(color='gray', size=30),  # Text color and size\n",
    "    mode='text',\n",
    "    showlegend=False  # Exclude from legend\n",
    "))"
   ]
  },
  {
   "cell_type": "markdown",
   "id": "488de697",
   "metadata": {},
   "source": [
    "## Task 3"
   ]
  },
  {
   "cell_type": "markdown",
   "id": "c4dfb506",
   "metadata": {},
   "source": [
    "1. Y-axis: GDP/capita\n",
    "    \n",
    "    X-axis: individuals using the internet\n",
    "        \n",
    "    Bubble color: world region\n",
    "        \n",
    "    Bubble size: income\n",
    "        \n",
    "    Background: year"
   ]
  },
  {
   "cell_type": "code",
   "execution_count": 58,
   "id": "34a8f375",
   "metadata": {},
   "outputs": [
    {
     "data": {
      "text/html": [
       "<div>\n",
       "<style scoped>\n",
       "    .dataframe tbody tr th:only-of-type {\n",
       "        vertical-align: middle;\n",
       "    }\n",
       "\n",
       "    .dataframe tbody tr th {\n",
       "        vertical-align: top;\n",
       "    }\n",
       "\n",
       "    .dataframe thead th {\n",
       "        text-align: right;\n",
       "    }\n",
       "</style>\n",
       "<table border=\"1\" class=\"dataframe\">\n",
       "  <thead>\n",
       "    <tr style=\"text-align: right;\">\n",
       "      <th></th>\n",
       "      <th>internet_users</th>\n",
       "      <th>gdp</th>\n",
       "      <th>income</th>\n",
       "      <th>year</th>\n",
       "      <th>country</th>\n",
       "      <th>four_regions</th>\n",
       "      <th>six_regions</th>\n",
       "      <th>eight_regions</th>\n",
       "      <th>world_bank_region</th>\n",
       "    </tr>\n",
       "  </thead>\n",
       "  <tbody>\n",
       "    <tr>\n",
       "      <th>0</th>\n",
       "      <td>0.00456</td>\n",
       "      <td>330.0</td>\n",
       "      <td>1190.0</td>\n",
       "      <td>2001</td>\n",
       "      <td>Afghanistan</td>\n",
       "      <td>asia</td>\n",
       "      <td>south_asia</td>\n",
       "      <td>asia_west</td>\n",
       "      <td>South Asia</td>\n",
       "    </tr>\n",
       "    <tr>\n",
       "      <th>1</th>\n",
       "      <td>0.39000</td>\n",
       "      <td>2570.0</td>\n",
       "      <td>6780.0</td>\n",
       "      <td>2001</td>\n",
       "      <td>Albania</td>\n",
       "      <td>europe</td>\n",
       "      <td>europe_central_asia</td>\n",
       "      <td>europe_east</td>\n",
       "      <td>Europe &amp; Central Asia</td>\n",
       "    </tr>\n",
       "    <tr>\n",
       "      <th>2</th>\n",
       "      <td>1.59000</td>\n",
       "      <td>3770.0</td>\n",
       "      <td>9230.0</td>\n",
       "      <td>2001</td>\n",
       "      <td>Algeria</td>\n",
       "      <td>africa</td>\n",
       "      <td>middle_east_north_africa</td>\n",
       "      <td>africa_north</td>\n",
       "      <td>Middle East &amp; North Africa</td>\n",
       "    </tr>\n",
       "    <tr>\n",
       "      <th>3</th>\n",
       "      <td>NaN</td>\n",
       "      <td>10500.0</td>\n",
       "      <td>NaN</td>\n",
       "      <td>2001</td>\n",
       "      <td>American Samoa</td>\n",
       "      <td>NaN</td>\n",
       "      <td>NaN</td>\n",
       "      <td>NaN</td>\n",
       "      <td>NaN</td>\n",
       "    </tr>\n",
       "    <tr>\n",
       "      <th>4</th>\n",
       "      <td>11.30000</td>\n",
       "      <td>42600.0</td>\n",
       "      <td>35600.0</td>\n",
       "      <td>2001</td>\n",
       "      <td>Andorra</td>\n",
       "      <td>europe</td>\n",
       "      <td>europe_central_asia</td>\n",
       "      <td>europe_west</td>\n",
       "      <td>Europe &amp; Central Asia</td>\n",
       "    </tr>\n",
       "  </tbody>\n",
       "</table>\n",
       "</div>"
      ],
      "text/plain": [
       "   internet_users      gdp   income  year         country four_regions  \\\n",
       "0         0.00456    330.0   1190.0  2001     Afghanistan         asia   \n",
       "1         0.39000   2570.0   6780.0  2001         Albania       europe   \n",
       "2         1.59000   3770.0   9230.0  2001         Algeria       africa   \n",
       "3             NaN  10500.0      NaN  2001  American Samoa          NaN   \n",
       "4        11.30000  42600.0  35600.0  2001         Andorra       europe   \n",
       "\n",
       "                six_regions eight_regions           world_bank_region  \n",
       "0                south_asia     asia_west                  South Asia  \n",
       "1       europe_central_asia   europe_east       Europe & Central Asia  \n",
       "2  middle_east_north_africa  africa_north  Middle East & North Africa  \n",
       "3                       NaN           NaN                         NaN  \n",
       "4       europe_central_asia   europe_west       Europe & Central Asia  "
      ]
     },
     "execution_count": 58,
     "metadata": {},
     "output_type": "execute_result"
    }
   ],
   "source": [
    "file_path3 = \"Data/q3data.csv\"\n",
    "\n",
    "# Read the CSV files into DataFrame\n",
    "dfq3 = pd.read_csv(file_path3)\n",
    "dfq3.head()"
   ]
  },
  {
   "cell_type": "code",
   "execution_count": 69,
   "id": "eb056350",
   "metadata": {},
   "outputs": [],
   "source": [
    "import plotly.express as px\n",
    "import plotly.graph_objects as go  # Import go module"
   ]
  },
  {
   "cell_type": "code",
   "execution_count": 123,
   "id": "32cf57de",
   "metadata": {},
   "outputs": [
    {
     "data": {
      "application/vnd.plotly.v1+json": {
       "config": {
        "plotlyServerURL": "https://plot.ly"
       },
       "data": [
        {
         "hovertemplate": "<b>%{hovertext}</b><br><br>four_regions=asia<br>internet_users=%{x}<br>gdp=%{y}<br>income=%{marker.size}<extra></extra>",
         "hovertext": [
          "Afghanistan",
          "Australia",
          "Bahrain",
          "Bangladesh",
          "Bhutan",
          "Brunei",
          "Cambodia",
          "China",
          "Fiji",
          "Hong Kong, China",
          "India",
          "Indonesia",
          "Iran",
          "Iraq",
          "Israel",
          "Japan",
          "Jordan",
          "Kazakhstan",
          "Kiribati",
          "Kuwait",
          "Kyrgyz Republic",
          "Lao",
          "Lebanon",
          "Malaysia",
          "Maldives",
          "Marshall Islands",
          "Micronesia, Fed. Sts.",
          "Mongolia",
          "Myanmar",
          "Nauru",
          "Nepal",
          "New Zealand",
          "North Korea",
          "Oman",
          "Pakistan",
          "Palau",
          "Palestine",
          "Papua New Guinea",
          "Philippines",
          "Qatar",
          "Samoa",
          "Saudi Arabia",
          "Singapore",
          "Solomon Islands",
          "South Korea",
          "Sri Lanka",
          "Syria",
          "Tajikistan",
          "Thailand",
          "Timor-Leste",
          "Tonga",
          "Turkmenistan",
          "Tuvalu",
          "United Arab Emirates",
          "Uzbekistan",
          "Vanuatu",
          "Vietnam",
          "Yemen"
         ],
         "legendgroup": "asia",
         "marker": {
          "color": "#636efa",
          "size": [
           1190,
           39700,
           47300,
           2040,
           4690,
           70800,
           2040,
           4020,
           10000,
           36700,
           2710,
           6000,
           10600,
           5330,
           30300,
           35700,
           9380,
           12800,
           2160,
           54300,
           3180,
           3110,
           14200,
           16200,
           13100,
           3670,
           3540,
           4350,
           1340,
           5900,
           1840,
           34800,
           1970,
           34000,
           3280,
           14600,
           3400,
           2750,
           4560,
           89100,
           5310,
           27700,
           55500,
           1910,
           25700,
           6000,
           8660,
           1470,
           10600,
           2420,
           5420,
           4740,
           3600,
           73000,
           2940,
           2710,
           3270,
           4940
          ],
          "sizemode": "area",
          "sizeref": 250,
          "symbol": "circle"
         },
         "mode": "markers",
         "name": "asia",
         "orientation": "v",
         "showlegend": true,
         "type": "scatter",
         "x": [
          0.00456,
          null,
          18.1,
          0.14,
          1.68,
          15.3,
          0.227,
          4.6,
          6.15,
          43.1,
          1.54,
          2.13,
          4.63,
          0.5,
          17.8,
          46.6,
          6.03,
          1.67,
          2.5,
          10.2,
          3,
          0.268,
          7,
          32.3,
          5.35,
          2.34,
          5.57,
          2.04,
          0.00043,
          null,
          0.313,
          59.1,
          0,
          6.87,
          2.58,
          20.2,
          3.1,
          1.32,
          4.33,
          10.2,
          2.24,
          6.38,
          47,
          0.502,
          59.4,
          1.05,
          2.09,
          0.0555,
          7.53,
          0,
          2.91,
          0.302,
          null,
          28.3,
          1.08,
          3.51,
          1.85,
          0.519
         ],
         "xaxis": "x",
         "y": [
          330,
          45800,
          22000,
          552,
          1290,
          36800,
          475,
          2060,
          3470,
          23300,
          869,
          2260,
          5080,
          4390,
          26600,
          42200,
          3100,
          5610,
          1700,
          35600,
          676,
          730,
          5640,
          7110,
          5670,
          2840,
          2790,
          1690,
          435,
          null,
          463,
          31100,
          null,
          18800,
          829,
          10000,
          1600,
          1570,
          1710,
          62600,
          3150,
          16700,
          33600,
          1260,
          17200,
          1840,
          null,
          488,
          3730,
          667,
          3700,
          2440,
          3320,
          59200,
          1030,
          2460,
          847,
          1190
         ],
         "yaxis": "y"
        },
        {
         "hovertemplate": "<b>%{hovertext}</b><br><br>four_regions=europe<br>internet_users=%{x}<br>gdp=%{y}<br>income=%{marker.size}<extra></extra>",
         "hovertext": [
          "Albania",
          "Andorra",
          "Armenia",
          "Austria",
          "Azerbaijan",
          "Belarus",
          "Belgium",
          "Bosnia and Herzegovina",
          "Bulgaria",
          "Croatia",
          "Cyprus",
          "Czech Republic",
          "Denmark",
          "Estonia",
          "Finland",
          "France",
          "Georgia",
          "Germany",
          "Greece",
          "Hungary",
          "Iceland",
          "Ireland",
          "Italy",
          "Latvia",
          "Lithuania",
          "Luxembourg",
          "Malta",
          "Moldova",
          "Monaco",
          "Montenegro",
          "Netherlands",
          "Norway",
          "Poland",
          "Portugal",
          "Romania",
          "Russia",
          "San Marino",
          "Serbia",
          "Slovak Republic",
          "Slovenia",
          "Spain",
          "Sweden",
          "Switzerland",
          "Turkey",
          "Ukraine",
          "United Kingdom"
         ],
         "legendgroup": "europe",
         "marker": {
          "color": "#EF553B",
          "size": [
           6780,
           35600,
           5080,
           47500,
           4810,
           8960,
           44000,
           7830,
           11700,
           20600,
           34700,
           26400,
           49400,
           20400,
           41500,
           40500,
           5570,
           43500,
           31700,
           21300,
           41500,
           51800,
           44100,
           15100,
           16100,
           100000,
           27500,
           5830,
           57100,
           12700,
           48100,
           58700,
           16900,
           30900,
           14000,
           16200,
           76000,
           10200,
           17000,
           28100,
           36500,
           42000,
           58400,
           15100,
           8470,
           39800
          ],
          "sizemode": "area",
          "sizeref": 250,
          "symbol": "circle"
         },
         "mode": "markers",
         "name": "europe",
         "orientation": "v",
         "showlegend": true,
         "type": "scatter",
         "x": [
          0.39,
          11.3,
          1.96,
          36.6,
          5,
          8.95,
          46.3,
          2.65,
          9.08,
          17.8,
          28.3,
          23.9,
          64.3,
          41.5,
          62.4,
          30.2,
          1.59,
          48.8,
          14.7,
          16.7,
          79.1,
          25.9,
          28,
          21.9,
          17.7,
          39.8,
          28.9,
          3.79,
          48,
          null,
          61.3,
          72.8,
          21.1,
          19.4,
          6.58,
          4.13,
          50.8,
          null,
          40.1,
          27.8,
          20.4,
          70.6,
          61.4,
          11.4,
          1.87,
          56.5
         ],
         "xaxis": "x",
         "y": [
          2570,
          42600,
          1760,
          42900,
          1970,
          3130,
          40400,
          3310,
          4570,
          11800,
          28100,
          15700,
          56200,
          11500,
          42000,
          38900,
          1850,
          38400,
          24800,
          11500,
          38700,
          47600,
          37100,
          8120,
          8010,
          97300,
          18200,
          1660,
          140000,
          5060,
          47000,
          83700,
          8840,
          21800,
          5630,
          7210,
          64000,
          4010,
          11200,
          19700,
          29700,
          46300,
          69700,
          8060,
          2130,
          37400
         ],
         "yaxis": "y"
        },
        {
         "hovertemplate": "<b>%{hovertext}</b><br><br>four_regions=africa<br>internet_users=%{x}<br>gdp=%{y}<br>income=%{marker.size}<extra></extra>",
         "hovertext": [
          "Algeria",
          "Angola",
          "Benin",
          "Botswana",
          "Burkina Faso",
          "Burundi",
          "Cameroon",
          "Cape Verde",
          "Central African Republic",
          "Chad",
          "Comoros",
          "Congo, Dem. Rep.",
          "Congo, Rep.",
          "Cote d'Ivoire",
          "Djibouti",
          "Egypt",
          "Equatorial Guinea",
          "Eritrea",
          "Ethiopia",
          "Gabon",
          "Gambia",
          "Ghana",
          "Guinea",
          "Guinea-Bissau",
          "Kenya",
          "Lesotho",
          "Liberia",
          "Libya",
          "Madagascar",
          "Malawi",
          "Mali",
          "Mauritania",
          "Mauritius",
          "Morocco",
          "Mozambique",
          "Namibia",
          "Niger",
          "Nigeria",
          "Rwanda",
          "Sao Tome and Principe",
          "Senegal",
          "Seychelles",
          "Sierra Leone",
          "Somalia",
          "South Africa",
          "South Sudan",
          "Sudan",
          "Tanzania",
          "Togo",
          "Tunisia",
          "Uganda",
          "Zambia",
          "Zimbabwe"
         ],
         "legendgroup": "africa",
         "marker": {
          "color": "#00cc96",
          "size": [
           9230,
           2900,
           2570,
           11700,
           1360,
           840,
           2840,
           4230,
           1080,
           1010,
           2830,
           715,
           4550,
           2640,
           2480,
           7910,
           20800,
           2880,
           755,
           16100,
           2180,
           2830,
           1780,
           1670,
           2830,
           1690,
           1710,
           15800,
           1410,
           731,
           1830,
           4150,
           12300,
           4720,
           729,
           6880,
           976,
           3230,
           1000,
           2600,
           2400,
           18200,
           1160,
           679,
           10500,
           3330,
           2450,
           1520,
           1270,
           7580,
           1350,
           2080,
           3190
          ],
          "sizemode": "area",
          "sizeref": 250,
          "symbol": "circle"
         },
         "mode": "markers",
         "name": "africa",
         "orientation": "v",
         "showlegend": true,
         "type": "scatter",
         "x": [
          1.59,
          0.27,
          0.703,
          3.39,
          0.201,
          0.118,
          0.361,
          3.52,
          0.129,
          0.166,
          0.555,
          0.0928,
          0.157,
          0.498,
          0.487,
          2.72,
          0.321,
          0.227,
          0.0724,
          1.94,
          1.8,
          0.83,
          0.402,
          1.02,
          1.21,
          1.08,
          0.0327,
          2.24,
          0.34,
          0.215,
          0.227,
          0.363,
          10.3,
          2.37,
          0.26,
          2.63,
          0.127,
          0.32,
          0.293,
          7.58,
          1.01,
          14.3,
          0.176,
          0.116,
          6.71,
          null,
          0.439,
          0.222,
          1,
          5.25,
          0.384,
          0.478,
          1.1
         ],
         "xaxis": "x",
         "y": [
          3770,
          2440,
          985,
          5340,
          514,
          232,
          1180,
          2300,
          438,
          519,
          1290,
          276,
          2680,
          1280,
          null,
          2020,
          10000,
          657,
          205,
          9880,
          800,
          986,
          641,
          533,
          810,
          840,
          618,
          8450,
          428,
          361,
          622,
          1400,
          5860,
          2130,
          335,
          4180,
          449,
          1600,
          406,
          845,
          1170,
          9380,
          330,
          null,
          6160,
          null,
          1090,
          562,
          554,
          3100,
          592,
          991,
          1330
         ],
         "yaxis": "y"
        },
        {
         "hovertemplate": "<b>%{hovertext}</b><br><br>four_regions=americas<br>internet_users=%{x}<br>gdp=%{y}<br>income=%{marker.size}<extra></extra>",
         "hovertext": [
          "Antigua and Barbuda",
          "Argentina",
          "Bahamas",
          "Barbados",
          "Belize",
          "Bolivia",
          "Brazil",
          "Canada",
          "Chile",
          "Colombia",
          "Costa Rica",
          "Cuba",
          "Dominica",
          "Dominican Republic",
          "Ecuador",
          "El Salvador",
          "Grenada",
          "Guatemala",
          "Guyana",
          "Haiti",
          "Honduras",
          "Jamaica",
          "Mexico",
          "Nicaragua",
          "Panama",
          "Paraguay",
          "Peru",
          "St. Kitts and Nevis",
          "St. Lucia",
          "St. Vincent and the Grenadines",
          "Suriname",
          "Trinidad and Tobago",
          "United States",
          "Uruguay",
          "Venezuela"
         ],
         "legendgroup": "americas",
         "marker": {
          "color": "#ab63fa",
          "size": [
           17100,
           15500,
           41400,
           14800,
           6740,
           5430,
           11800,
           38300,
           16300,
           9170,
           12900,
           5030,
           9310,
           9690,
           8540,
           6630,
           11700,
           6590,
           8060,
           2610,
           4160,
           9520,
           17300,
           4000,
           14400,
           8140,
           6650,
           22300,
           12400,
           9320,
           12300,
           18900,
           50600,
           11800,
           14800
          ],
          "sizemode": "area",
          "sizeref": 250,
          "symbol": "circle"
         },
         "mode": "markers",
         "name": "americas",
         "orientation": "v",
         "showlegend": true,
         "type": "scatter",
         "x": [
          12.5,
          10.9,
          18,
          27.8,
          5.68,
          3.12,
          9.15,
          61.6,
          22.1,
          4.6,
          19.9,
          3.77,
          18.4,
          6.82,
          4.26,
          1.9,
          14.8,
          3.39,
          null,
          0.893,
          2.6,
          6.1,
          11.9,
          1.71,
          8.52,
          1.79,
          8.97,
          21.2,
          14.6,
          5.55,
          4.16,
          22,
          58.8,
          11.4,
          4.91
         ],
         "xaxis": "x",
         "y": [
          12300,
          6850,
          32200,
          15200,
          3990,
          1610,
          8950,
          40500,
          9810,
          4910,
          6380,
          3620,
          5400,
          4210,
          3830,
          2700,
          6320,
          2560,
          3770,
          1120,
          1630,
          4750,
          8960,
          1300,
          5440,
          3410,
          3360,
          14600,
          7480,
          5130,
          5990,
          10900,
          45100,
          7970,
          10800
         ],
         "yaxis": "y"
        },
        {
         "mode": "text",
         "showlegend": false,
         "text": [
          "2001"
         ],
         "textfont": {
          "color": "gray",
          "size": 100
         },
         "type": "scatter",
         "x": [
          40
         ],
         "y": [
          500
         ]
        }
       ],
       "layout": {
        "legend": {
         "itemsizing": "constant",
         "title": {
          "text": "World Region"
         },
         "tracegroupgap": 0
        },
        "margin": {
         "t": 60
        },
        "plot_bgcolor": "white",
        "showlegend": true,
        "template": {
         "data": {
          "bar": [
           {
            "error_x": {
             "color": "#2a3f5f"
            },
            "error_y": {
             "color": "#2a3f5f"
            },
            "marker": {
             "line": {
              "color": "#E5ECF6",
              "width": 0.5
             },
             "pattern": {
              "fillmode": "overlay",
              "size": 10,
              "solidity": 0.2
             }
            },
            "type": "bar"
           }
          ],
          "barpolar": [
           {
            "marker": {
             "line": {
              "color": "#E5ECF6",
              "width": 0.5
             },
             "pattern": {
              "fillmode": "overlay",
              "size": 10,
              "solidity": 0.2
             }
            },
            "type": "barpolar"
           }
          ],
          "carpet": [
           {
            "aaxis": {
             "endlinecolor": "#2a3f5f",
             "gridcolor": "white",
             "linecolor": "white",
             "minorgridcolor": "white",
             "startlinecolor": "#2a3f5f"
            },
            "baxis": {
             "endlinecolor": "#2a3f5f",
             "gridcolor": "white",
             "linecolor": "white",
             "minorgridcolor": "white",
             "startlinecolor": "#2a3f5f"
            },
            "type": "carpet"
           }
          ],
          "choropleth": [
           {
            "colorbar": {
             "outlinewidth": 0,
             "ticks": ""
            },
            "type": "choropleth"
           }
          ],
          "contour": [
           {
            "colorbar": {
             "outlinewidth": 0,
             "ticks": ""
            },
            "colorscale": [
             [
              0,
              "#0d0887"
             ],
             [
              0.1111111111111111,
              "#46039f"
             ],
             [
              0.2222222222222222,
              "#7201a8"
             ],
             [
              0.3333333333333333,
              "#9c179e"
             ],
             [
              0.4444444444444444,
              "#bd3786"
             ],
             [
              0.5555555555555556,
              "#d8576b"
             ],
             [
              0.6666666666666666,
              "#ed7953"
             ],
             [
              0.7777777777777778,
              "#fb9f3a"
             ],
             [
              0.8888888888888888,
              "#fdca26"
             ],
             [
              1,
              "#f0f921"
             ]
            ],
            "type": "contour"
           }
          ],
          "contourcarpet": [
           {
            "colorbar": {
             "outlinewidth": 0,
             "ticks": ""
            },
            "type": "contourcarpet"
           }
          ],
          "heatmap": [
           {
            "colorbar": {
             "outlinewidth": 0,
             "ticks": ""
            },
            "colorscale": [
             [
              0,
              "#0d0887"
             ],
             [
              0.1111111111111111,
              "#46039f"
             ],
             [
              0.2222222222222222,
              "#7201a8"
             ],
             [
              0.3333333333333333,
              "#9c179e"
             ],
             [
              0.4444444444444444,
              "#bd3786"
             ],
             [
              0.5555555555555556,
              "#d8576b"
             ],
             [
              0.6666666666666666,
              "#ed7953"
             ],
             [
              0.7777777777777778,
              "#fb9f3a"
             ],
             [
              0.8888888888888888,
              "#fdca26"
             ],
             [
              1,
              "#f0f921"
             ]
            ],
            "type": "heatmap"
           }
          ],
          "heatmapgl": [
           {
            "colorbar": {
             "outlinewidth": 0,
             "ticks": ""
            },
            "colorscale": [
             [
              0,
              "#0d0887"
             ],
             [
              0.1111111111111111,
              "#46039f"
             ],
             [
              0.2222222222222222,
              "#7201a8"
             ],
             [
              0.3333333333333333,
              "#9c179e"
             ],
             [
              0.4444444444444444,
              "#bd3786"
             ],
             [
              0.5555555555555556,
              "#d8576b"
             ],
             [
              0.6666666666666666,
              "#ed7953"
             ],
             [
              0.7777777777777778,
              "#fb9f3a"
             ],
             [
              0.8888888888888888,
              "#fdca26"
             ],
             [
              1,
              "#f0f921"
             ]
            ],
            "type": "heatmapgl"
           }
          ],
          "histogram": [
           {
            "marker": {
             "pattern": {
              "fillmode": "overlay",
              "size": 10,
              "solidity": 0.2
             }
            },
            "type": "histogram"
           }
          ],
          "histogram2d": [
           {
            "colorbar": {
             "outlinewidth": 0,
             "ticks": ""
            },
            "colorscale": [
             [
              0,
              "#0d0887"
             ],
             [
              0.1111111111111111,
              "#46039f"
             ],
             [
              0.2222222222222222,
              "#7201a8"
             ],
             [
              0.3333333333333333,
              "#9c179e"
             ],
             [
              0.4444444444444444,
              "#bd3786"
             ],
             [
              0.5555555555555556,
              "#d8576b"
             ],
             [
              0.6666666666666666,
              "#ed7953"
             ],
             [
              0.7777777777777778,
              "#fb9f3a"
             ],
             [
              0.8888888888888888,
              "#fdca26"
             ],
             [
              1,
              "#f0f921"
             ]
            ],
            "type": "histogram2d"
           }
          ],
          "histogram2dcontour": [
           {
            "colorbar": {
             "outlinewidth": 0,
             "ticks": ""
            },
            "colorscale": [
             [
              0,
              "#0d0887"
             ],
             [
              0.1111111111111111,
              "#46039f"
             ],
             [
              0.2222222222222222,
              "#7201a8"
             ],
             [
              0.3333333333333333,
              "#9c179e"
             ],
             [
              0.4444444444444444,
              "#bd3786"
             ],
             [
              0.5555555555555556,
              "#d8576b"
             ],
             [
              0.6666666666666666,
              "#ed7953"
             ],
             [
              0.7777777777777778,
              "#fb9f3a"
             ],
             [
              0.8888888888888888,
              "#fdca26"
             ],
             [
              1,
              "#f0f921"
             ]
            ],
            "type": "histogram2dcontour"
           }
          ],
          "mesh3d": [
           {
            "colorbar": {
             "outlinewidth": 0,
             "ticks": ""
            },
            "type": "mesh3d"
           }
          ],
          "parcoords": [
           {
            "line": {
             "colorbar": {
              "outlinewidth": 0,
              "ticks": ""
             }
            },
            "type": "parcoords"
           }
          ],
          "pie": [
           {
            "automargin": true,
            "type": "pie"
           }
          ],
          "scatter": [
           {
            "fillpattern": {
             "fillmode": "overlay",
             "size": 10,
             "solidity": 0.2
            },
            "type": "scatter"
           }
          ],
          "scatter3d": [
           {
            "line": {
             "colorbar": {
              "outlinewidth": 0,
              "ticks": ""
             }
            },
            "marker": {
             "colorbar": {
              "outlinewidth": 0,
              "ticks": ""
             }
            },
            "type": "scatter3d"
           }
          ],
          "scattercarpet": [
           {
            "marker": {
             "colorbar": {
              "outlinewidth": 0,
              "ticks": ""
             }
            },
            "type": "scattercarpet"
           }
          ],
          "scattergeo": [
           {
            "marker": {
             "colorbar": {
              "outlinewidth": 0,
              "ticks": ""
             }
            },
            "type": "scattergeo"
           }
          ],
          "scattergl": [
           {
            "marker": {
             "colorbar": {
              "outlinewidth": 0,
              "ticks": ""
             }
            },
            "type": "scattergl"
           }
          ],
          "scattermapbox": [
           {
            "marker": {
             "colorbar": {
              "outlinewidth": 0,
              "ticks": ""
             }
            },
            "type": "scattermapbox"
           }
          ],
          "scatterpolar": [
           {
            "marker": {
             "colorbar": {
              "outlinewidth": 0,
              "ticks": ""
             }
            },
            "type": "scatterpolar"
           }
          ],
          "scatterpolargl": [
           {
            "marker": {
             "colorbar": {
              "outlinewidth": 0,
              "ticks": ""
             }
            },
            "type": "scatterpolargl"
           }
          ],
          "scatterternary": [
           {
            "marker": {
             "colorbar": {
              "outlinewidth": 0,
              "ticks": ""
             }
            },
            "type": "scatterternary"
           }
          ],
          "surface": [
           {
            "colorbar": {
             "outlinewidth": 0,
             "ticks": ""
            },
            "colorscale": [
             [
              0,
              "#0d0887"
             ],
             [
              0.1111111111111111,
              "#46039f"
             ],
             [
              0.2222222222222222,
              "#7201a8"
             ],
             [
              0.3333333333333333,
              "#9c179e"
             ],
             [
              0.4444444444444444,
              "#bd3786"
             ],
             [
              0.5555555555555556,
              "#d8576b"
             ],
             [
              0.6666666666666666,
              "#ed7953"
             ],
             [
              0.7777777777777778,
              "#fb9f3a"
             ],
             [
              0.8888888888888888,
              "#fdca26"
             ],
             [
              1,
              "#f0f921"
             ]
            ],
            "type": "surface"
           }
          ],
          "table": [
           {
            "cells": {
             "fill": {
              "color": "#EBF0F8"
             },
             "line": {
              "color": "white"
             }
            },
            "header": {
             "fill": {
              "color": "#C8D4E3"
             },
             "line": {
              "color": "white"
             }
            },
            "type": "table"
           }
          ]
         },
         "layout": {
          "annotationdefaults": {
           "arrowcolor": "#2a3f5f",
           "arrowhead": 0,
           "arrowwidth": 1
          },
          "autotypenumbers": "strict",
          "coloraxis": {
           "colorbar": {
            "outlinewidth": 0,
            "ticks": ""
           }
          },
          "colorscale": {
           "diverging": [
            [
             0,
             "#8e0152"
            ],
            [
             0.1,
             "#c51b7d"
            ],
            [
             0.2,
             "#de77ae"
            ],
            [
             0.3,
             "#f1b6da"
            ],
            [
             0.4,
             "#fde0ef"
            ],
            [
             0.5,
             "#f7f7f7"
            ],
            [
             0.6,
             "#e6f5d0"
            ],
            [
             0.7,
             "#b8e186"
            ],
            [
             0.8,
             "#7fbc41"
            ],
            [
             0.9,
             "#4d9221"
            ],
            [
             1,
             "#276419"
            ]
           ],
           "sequential": [
            [
             0,
             "#0d0887"
            ],
            [
             0.1111111111111111,
             "#46039f"
            ],
            [
             0.2222222222222222,
             "#7201a8"
            ],
            [
             0.3333333333333333,
             "#9c179e"
            ],
            [
             0.4444444444444444,
             "#bd3786"
            ],
            [
             0.5555555555555556,
             "#d8576b"
            ],
            [
             0.6666666666666666,
             "#ed7953"
            ],
            [
             0.7777777777777778,
             "#fb9f3a"
            ],
            [
             0.8888888888888888,
             "#fdca26"
            ],
            [
             1,
             "#f0f921"
            ]
           ],
           "sequentialminus": [
            [
             0,
             "#0d0887"
            ],
            [
             0.1111111111111111,
             "#46039f"
            ],
            [
             0.2222222222222222,
             "#7201a8"
            ],
            [
             0.3333333333333333,
             "#9c179e"
            ],
            [
             0.4444444444444444,
             "#bd3786"
            ],
            [
             0.5555555555555556,
             "#d8576b"
            ],
            [
             0.6666666666666666,
             "#ed7953"
            ],
            [
             0.7777777777777778,
             "#fb9f3a"
            ],
            [
             0.8888888888888888,
             "#fdca26"
            ],
            [
             1,
             "#f0f921"
            ]
           ]
          },
          "colorway": [
           "#636efa",
           "#EF553B",
           "#00cc96",
           "#ab63fa",
           "#FFA15A",
           "#19d3f3",
           "#FF6692",
           "#B6E880",
           "#FF97FF",
           "#FECB52"
          ],
          "font": {
           "color": "#2a3f5f"
          },
          "geo": {
           "bgcolor": "white",
           "lakecolor": "white",
           "landcolor": "#E5ECF6",
           "showlakes": true,
           "showland": true,
           "subunitcolor": "white"
          },
          "hoverlabel": {
           "align": "left"
          },
          "hovermode": "closest",
          "mapbox": {
           "style": "light"
          },
          "paper_bgcolor": "white",
          "plot_bgcolor": "#E5ECF6",
          "polar": {
           "angularaxis": {
            "gridcolor": "white",
            "linecolor": "white",
            "ticks": ""
           },
           "bgcolor": "#E5ECF6",
           "radialaxis": {
            "gridcolor": "white",
            "linecolor": "white",
            "ticks": ""
           }
          },
          "scene": {
           "xaxis": {
            "backgroundcolor": "#E5ECF6",
            "gridcolor": "white",
            "gridwidth": 2,
            "linecolor": "white",
            "showbackground": true,
            "ticks": "",
            "zerolinecolor": "white"
           },
           "yaxis": {
            "backgroundcolor": "#E5ECF6",
            "gridcolor": "white",
            "gridwidth": 2,
            "linecolor": "white",
            "showbackground": true,
            "ticks": "",
            "zerolinecolor": "white"
           },
           "zaxis": {
            "backgroundcolor": "#E5ECF6",
            "gridcolor": "white",
            "gridwidth": 2,
            "linecolor": "white",
            "showbackground": true,
            "ticks": "",
            "zerolinecolor": "white"
           }
          },
          "shapedefaults": {
           "line": {
            "color": "#2a3f5f"
           }
          },
          "ternary": {
           "aaxis": {
            "gridcolor": "white",
            "linecolor": "white",
            "ticks": ""
           },
           "baxis": {
            "gridcolor": "white",
            "linecolor": "white",
            "ticks": ""
           },
           "bgcolor": "#E5ECF6",
           "caxis": {
            "gridcolor": "white",
            "linecolor": "white",
            "ticks": ""
           }
          },
          "title": {
           "x": 0.05
          },
          "xaxis": {
           "automargin": true,
           "gridcolor": "white",
           "linecolor": "white",
           "ticks": "",
           "title": {
            "standoff": 15
           },
           "zerolinecolor": "white",
           "zerolinewidth": 2
          },
          "yaxis": {
           "automargin": true,
           "gridcolor": "white",
           "linecolor": "white",
           "ticks": "",
           "title": {
            "standoff": 15
           },
           "zerolinecolor": "white",
           "zerolinewidth": 2
          }
         }
        },
        "xaxis": {
         "anchor": "y",
         "domain": [
          0,
          1
         ],
         "linecolor": "gray",
         "title": {
          "text": "Individuals using the Internet"
         }
        },
        "yaxis": {
         "anchor": "x",
         "domain": [
          0,
          1
         ],
         "linecolor": "gray",
         "ticktext": [
          "200",
          "500",
          "1000",
          "2000",
          "5000",
          "10k",
          "20k",
          "50k",
          "100k"
         ],
         "tickvals": [
          200,
          500,
          1000,
          2000,
          5000,
          10000,
          20000,
          50000,
          100000
         ],
         "title": {
          "text": "GDP/Capita"
         },
         "type": "log"
        }
       }
      },
      "text/html": [
       "<div>                            <div id=\"a3cf3a77-1048-48fe-92b8-d3bfc5bd8258\" class=\"plotly-graph-div\" style=\"height:525px; width:100%;\"></div>            <script type=\"text/javascript\">                require([\"plotly\"], function(Plotly) {                    window.PLOTLYENV=window.PLOTLYENV || {};                                    if (document.getElementById(\"a3cf3a77-1048-48fe-92b8-d3bfc5bd8258\")) {                    Plotly.newPlot(                        \"a3cf3a77-1048-48fe-92b8-d3bfc5bd8258\",                        [{\"hovertemplate\":\"<b>%{hovertext}</b><br><br>four_regions=asia<br>internet_users=%{x}<br>gdp=%{y}<br>income=%{marker.size}<extra></extra>\",\"hovertext\":[\"Afghanistan\",\"Australia\",\"Bahrain\",\"Bangladesh\",\"Bhutan\",\"Brunei\",\"Cambodia\",\"China\",\"Fiji\",\"Hong Kong, China\",\"India\",\"Indonesia\",\"Iran\",\"Iraq\",\"Israel\",\"Japan\",\"Jordan\",\"Kazakhstan\",\"Kiribati\",\"Kuwait\",\"Kyrgyz Republic\",\"Lao\",\"Lebanon\",\"Malaysia\",\"Maldives\",\"Marshall Islands\",\"Micronesia, Fed. Sts.\",\"Mongolia\",\"Myanmar\",\"Nauru\",\"Nepal\",\"New Zealand\",\"North Korea\",\"Oman\",\"Pakistan\",\"Palau\",\"Palestine\",\"Papua New Guinea\",\"Philippines\",\"Qatar\",\"Samoa\",\"Saudi Arabia\",\"Singapore\",\"Solomon Islands\",\"South Korea\",\"Sri Lanka\",\"Syria\",\"Tajikistan\",\"Thailand\",\"Timor-Leste\",\"Tonga\",\"Turkmenistan\",\"Tuvalu\",\"United Arab Emirates\",\"Uzbekistan\",\"Vanuatu\",\"Vietnam\",\"Yemen\"],\"legendgroup\":\"asia\",\"marker\":{\"color\":\"#636efa\",\"size\":[1190.0,39700.0,47300.0,2040.0,4690.0,70800.0,2040.0,4020.0,10000.0,36700.0,2710.0,6000.0,10600.0,5330.0,30300.0,35700.0,9380.0,12800.0,2160.0,54300.0,3180.0,3110.0,14200.0,16200.0,13100.0,3670.0,3540.0,4350.0,1340.0,5900.0,1840.0,34800.0,1970.0,34000.0,3280.0,14600.0,3400.0,2750.0,4560.0,89100.0,5310.0,27700.0,55500.0,1910.0,25700.0,6000.0,8660.0,1470.0,10600.0,2420.0,5420.0,4740.0,3600.0,73000.0,2940.0,2710.0,3270.0,4940.0],\"sizemode\":\"area\",\"sizeref\":250.0,\"symbol\":\"circle\"},\"mode\":\"markers\",\"name\":\"asia\",\"orientation\":\"v\",\"showlegend\":true,\"x\":[0.00456,null,18.1,0.14,1.68,15.3,0.227,4.6,6.15,43.1,1.54,2.13,4.63,0.5,17.8,46.6,6.03,1.67,2.5,10.2,3.0,0.268,7.0,32.3,5.35,2.34,5.57,2.04,0.00043,null,0.313,59.1,0.0,6.87,2.58,20.2,3.1,1.32,4.33,10.2,2.24,6.38,47.0,0.502,59.4,1.05,2.09,0.0555,7.53,0.0,2.91,0.302,null,28.3,1.08,3.51,1.85,0.519],\"xaxis\":\"x\",\"y\":[330.0,45800.0,22000.0,552.0,1290.0,36800.0,475.0,2060.0,3470.0,23300.0,869.0,2260.0,5080.0,4390.0,26600.0,42200.0,3100.0,5610.0,1700.0,35600.0,676.0,730.0,5640.0,7110.0,5670.0,2840.0,2790.0,1690.0,435.0,null,463.0,31100.0,null,18800.0,829.0,10000.0,1600.0,1570.0,1710.0,62600.0,3150.0,16700.0,33600.0,1260.0,17200.0,1840.0,null,488.0,3730.0,667.0,3700.0,2440.0,3320.0,59200.0,1030.0,2460.0,847.0,1190.0],\"yaxis\":\"y\",\"type\":\"scatter\"},{\"hovertemplate\":\"<b>%{hovertext}</b><br><br>four_regions=europe<br>internet_users=%{x}<br>gdp=%{y}<br>income=%{marker.size}<extra></extra>\",\"hovertext\":[\"Albania\",\"Andorra\",\"Armenia\",\"Austria\",\"Azerbaijan\",\"Belarus\",\"Belgium\",\"Bosnia and Herzegovina\",\"Bulgaria\",\"Croatia\",\"Cyprus\",\"Czech Republic\",\"Denmark\",\"Estonia\",\"Finland\",\"France\",\"Georgia\",\"Germany\",\"Greece\",\"Hungary\",\"Iceland\",\"Ireland\",\"Italy\",\"Latvia\",\"Lithuania\",\"Luxembourg\",\"Malta\",\"Moldova\",\"Monaco\",\"Montenegro\",\"Netherlands\",\"Norway\",\"Poland\",\"Portugal\",\"Romania\",\"Russia\",\"San Marino\",\"Serbia\",\"Slovak Republic\",\"Slovenia\",\"Spain\",\"Sweden\",\"Switzerland\",\"Turkey\",\"Ukraine\",\"United Kingdom\"],\"legendgroup\":\"europe\",\"marker\":{\"color\":\"#EF553B\",\"size\":[6780.0,35600.0,5080.0,47500.0,4810.0,8960.0,44000.0,7830.0,11700.0,20600.0,34700.0,26400.0,49400.0,20400.0,41500.0,40500.0,5570.0,43500.0,31700.0,21300.0,41500.0,51800.0,44100.0,15100.0,16100.0,100000.0,27500.0,5830.0,57100.0,12700.0,48100.0,58700.0,16900.0,30900.0,14000.0,16200.0,76000.0,10200.0,17000.0,28100.0,36500.0,42000.0,58400.0,15100.0,8470.0,39800.0],\"sizemode\":\"area\",\"sizeref\":250.0,\"symbol\":\"circle\"},\"mode\":\"markers\",\"name\":\"europe\",\"orientation\":\"v\",\"showlegend\":true,\"x\":[0.39,11.3,1.96,36.6,5.0,8.95,46.3,2.65,9.08,17.8,28.3,23.9,64.3,41.5,62.4,30.2,1.59,48.8,14.7,16.7,79.1,25.9,28.0,21.9,17.7,39.8,28.9,3.79,48.0,null,61.3,72.8,21.1,19.4,6.58,4.13,50.8,null,40.1,27.8,20.4,70.6,61.4,11.4,1.87,56.5],\"xaxis\":\"x\",\"y\":[2570.0,42600.0,1760.0,42900.0,1970.0,3130.0,40400.0,3310.0,4570.0,11800.0,28100.0,15700.0,56200.0,11500.0,42000.0,38900.0,1850.0,38400.0,24800.0,11500.0,38700.0,47600.0,37100.0,8120.0,8010.0,97300.0,18200.0,1660.0,140000.0,5060.0,47000.0,83700.0,8840.0,21800.0,5630.0,7210.0,64000.0,4010.0,11200.0,19700.0,29700.0,46300.0,69700.0,8060.0,2130.0,37400.0],\"yaxis\":\"y\",\"type\":\"scatter\"},{\"hovertemplate\":\"<b>%{hovertext}</b><br><br>four_regions=africa<br>internet_users=%{x}<br>gdp=%{y}<br>income=%{marker.size}<extra></extra>\",\"hovertext\":[\"Algeria\",\"Angola\",\"Benin\",\"Botswana\",\"Burkina Faso\",\"Burundi\",\"Cameroon\",\"Cape Verde\",\"Central African Republic\",\"Chad\",\"Comoros\",\"Congo, Dem. Rep.\",\"Congo, Rep.\",\"Cote d'Ivoire\",\"Djibouti\",\"Egypt\",\"Equatorial Guinea\",\"Eritrea\",\"Ethiopia\",\"Gabon\",\"Gambia\",\"Ghana\",\"Guinea\",\"Guinea-Bissau\",\"Kenya\",\"Lesotho\",\"Liberia\",\"Libya\",\"Madagascar\",\"Malawi\",\"Mali\",\"Mauritania\",\"Mauritius\",\"Morocco\",\"Mozambique\",\"Namibia\",\"Niger\",\"Nigeria\",\"Rwanda\",\"Sao Tome and Principe\",\"Senegal\",\"Seychelles\",\"Sierra Leone\",\"Somalia\",\"South Africa\",\"South Sudan\",\"Sudan\",\"Tanzania\",\"Togo\",\"Tunisia\",\"Uganda\",\"Zambia\",\"Zimbabwe\"],\"legendgroup\":\"africa\",\"marker\":{\"color\":\"#00cc96\",\"size\":[9230.0,2900.0,2570.0,11700.0,1360.0,840.0,2840.0,4230.0,1080.0,1010.0,2830.0,715.0,4550.0,2640.0,2480.0,7910.0,20800.0,2880.0,755.0,16100.0,2180.0,2830.0,1780.0,1670.0,2830.0,1690.0,1710.0,15800.0,1410.0,731.0,1830.0,4150.0,12300.0,4720.0,729.0,6880.0,976.0,3230.0,1000.0,2600.0,2400.0,18200.0,1160.0,679.0,10500.0,3330.0,2450.0,1520.0,1270.0,7580.0,1350.0,2080.0,3190.0],\"sizemode\":\"area\",\"sizeref\":250.0,\"symbol\":\"circle\"},\"mode\":\"markers\",\"name\":\"africa\",\"orientation\":\"v\",\"showlegend\":true,\"x\":[1.59,0.27,0.703,3.39,0.201,0.118,0.361,3.52,0.129,0.166,0.555,0.0928,0.157,0.498,0.487,2.72,0.321,0.227,0.0724,1.94,1.8,0.83,0.402,1.02,1.21,1.08,0.0327,2.24,0.34,0.215,0.227,0.363,10.3,2.37,0.26,2.63,0.127,0.32,0.293,7.58,1.01,14.3,0.176,0.116,6.71,null,0.439,0.222,1.0,5.25,0.384,0.478,1.1],\"xaxis\":\"x\",\"y\":[3770.0,2440.0,985.0,5340.0,514.0,232.0,1180.0,2300.0,438.0,519.0,1290.0,276.0,2680.0,1280.0,null,2020.0,10000.0,657.0,205.0,9880.0,800.0,986.0,641.0,533.0,810.0,840.0,618.0,8450.0,428.0,361.0,622.0,1400.0,5860.0,2130.0,335.0,4180.0,449.0,1600.0,406.0,845.0,1170.0,9380.0,330.0,null,6160.0,null,1090.0,562.0,554.0,3100.0,592.0,991.0,1330.0],\"yaxis\":\"y\",\"type\":\"scatter\"},{\"hovertemplate\":\"<b>%{hovertext}</b><br><br>four_regions=americas<br>internet_users=%{x}<br>gdp=%{y}<br>income=%{marker.size}<extra></extra>\",\"hovertext\":[\"Antigua and Barbuda\",\"Argentina\",\"Bahamas\",\"Barbados\",\"Belize\",\"Bolivia\",\"Brazil\",\"Canada\",\"Chile\",\"Colombia\",\"Costa Rica\",\"Cuba\",\"Dominica\",\"Dominican Republic\",\"Ecuador\",\"El Salvador\",\"Grenada\",\"Guatemala\",\"Guyana\",\"Haiti\",\"Honduras\",\"Jamaica\",\"Mexico\",\"Nicaragua\",\"Panama\",\"Paraguay\",\"Peru\",\"St. Kitts and Nevis\",\"St. Lucia\",\"St. Vincent and the Grenadines\",\"Suriname\",\"Trinidad and Tobago\",\"United States\",\"Uruguay\",\"Venezuela\"],\"legendgroup\":\"americas\",\"marker\":{\"color\":\"#ab63fa\",\"size\":[17100.0,15500.0,41400.0,14800.0,6740.0,5430.0,11800.0,38300.0,16300.0,9170.0,12900.0,5030.0,9310.0,9690.0,8540.0,6630.0,11700.0,6590.0,8060.0,2610.0,4160.0,9520.0,17300.0,4000.0,14400.0,8140.0,6650.0,22300.0,12400.0,9320.0,12300.0,18900.0,50600.0,11800.0,14800.0],\"sizemode\":\"area\",\"sizeref\":250.0,\"symbol\":\"circle\"},\"mode\":\"markers\",\"name\":\"americas\",\"orientation\":\"v\",\"showlegend\":true,\"x\":[12.5,10.9,18.0,27.8,5.68,3.12,9.15,61.6,22.1,4.6,19.9,3.77,18.4,6.82,4.26,1.9,14.8,3.39,null,0.893,2.6,6.1,11.9,1.71,8.52,1.79,8.97,21.2,14.6,5.55,4.16,22.0,58.8,11.4,4.91],\"xaxis\":\"x\",\"y\":[12300.0,6850.0,32200.0,15200.0,3990.0,1610.0,8950.0,40500.0,9810.0,4910.0,6380.0,3620.0,5400.0,4210.0,3830.0,2700.0,6320.0,2560.0,3770.0,1120.0,1630.0,4750.0,8960.0,1300.0,5440.0,3410.0,3360.0,14600.0,7480.0,5130.0,5990.0,10900.0,45100.0,7970.0,10800.0],\"yaxis\":\"y\",\"type\":\"scatter\"},{\"mode\":\"text\",\"showlegend\":false,\"text\":[\"2001\"],\"textfont\":{\"color\":\"gray\",\"size\":100},\"x\":[40],\"y\":[500],\"type\":\"scatter\"}],                        {\"template\":{\"data\":{\"histogram2dcontour\":[{\"type\":\"histogram2dcontour\",\"colorbar\":{\"outlinewidth\":0,\"ticks\":\"\"},\"colorscale\":[[0.0,\"#0d0887\"],[0.1111111111111111,\"#46039f\"],[0.2222222222222222,\"#7201a8\"],[0.3333333333333333,\"#9c179e\"],[0.4444444444444444,\"#bd3786\"],[0.5555555555555556,\"#d8576b\"],[0.6666666666666666,\"#ed7953\"],[0.7777777777777778,\"#fb9f3a\"],[0.8888888888888888,\"#fdca26\"],[1.0,\"#f0f921\"]]}],\"choropleth\":[{\"type\":\"choropleth\",\"colorbar\":{\"outlinewidth\":0,\"ticks\":\"\"}}],\"histogram2d\":[{\"type\":\"histogram2d\",\"colorbar\":{\"outlinewidth\":0,\"ticks\":\"\"},\"colorscale\":[[0.0,\"#0d0887\"],[0.1111111111111111,\"#46039f\"],[0.2222222222222222,\"#7201a8\"],[0.3333333333333333,\"#9c179e\"],[0.4444444444444444,\"#bd3786\"],[0.5555555555555556,\"#d8576b\"],[0.6666666666666666,\"#ed7953\"],[0.7777777777777778,\"#fb9f3a\"],[0.8888888888888888,\"#fdca26\"],[1.0,\"#f0f921\"]]}],\"heatmap\":[{\"type\":\"heatmap\",\"colorbar\":{\"outlinewidth\":0,\"ticks\":\"\"},\"colorscale\":[[0.0,\"#0d0887\"],[0.1111111111111111,\"#46039f\"],[0.2222222222222222,\"#7201a8\"],[0.3333333333333333,\"#9c179e\"],[0.4444444444444444,\"#bd3786\"],[0.5555555555555556,\"#d8576b\"],[0.6666666666666666,\"#ed7953\"],[0.7777777777777778,\"#fb9f3a\"],[0.8888888888888888,\"#fdca26\"],[1.0,\"#f0f921\"]]}],\"heatmapgl\":[{\"type\":\"heatmapgl\",\"colorbar\":{\"outlinewidth\":0,\"ticks\":\"\"},\"colorscale\":[[0.0,\"#0d0887\"],[0.1111111111111111,\"#46039f\"],[0.2222222222222222,\"#7201a8\"],[0.3333333333333333,\"#9c179e\"],[0.4444444444444444,\"#bd3786\"],[0.5555555555555556,\"#d8576b\"],[0.6666666666666666,\"#ed7953\"],[0.7777777777777778,\"#fb9f3a\"],[0.8888888888888888,\"#fdca26\"],[1.0,\"#f0f921\"]]}],\"contourcarpet\":[{\"type\":\"contourcarpet\",\"colorbar\":{\"outlinewidth\":0,\"ticks\":\"\"}}],\"contour\":[{\"type\":\"contour\",\"colorbar\":{\"outlinewidth\":0,\"ticks\":\"\"},\"colorscale\":[[0.0,\"#0d0887\"],[0.1111111111111111,\"#46039f\"],[0.2222222222222222,\"#7201a8\"],[0.3333333333333333,\"#9c179e\"],[0.4444444444444444,\"#bd3786\"],[0.5555555555555556,\"#d8576b\"],[0.6666666666666666,\"#ed7953\"],[0.7777777777777778,\"#fb9f3a\"],[0.8888888888888888,\"#fdca26\"],[1.0,\"#f0f921\"]]}],\"surface\":[{\"type\":\"surface\",\"colorbar\":{\"outlinewidth\":0,\"ticks\":\"\"},\"colorscale\":[[0.0,\"#0d0887\"],[0.1111111111111111,\"#46039f\"],[0.2222222222222222,\"#7201a8\"],[0.3333333333333333,\"#9c179e\"],[0.4444444444444444,\"#bd3786\"],[0.5555555555555556,\"#d8576b\"],[0.6666666666666666,\"#ed7953\"],[0.7777777777777778,\"#fb9f3a\"],[0.8888888888888888,\"#fdca26\"],[1.0,\"#f0f921\"]]}],\"mesh3d\":[{\"type\":\"mesh3d\",\"colorbar\":{\"outlinewidth\":0,\"ticks\":\"\"}}],\"scatter\":[{\"fillpattern\":{\"fillmode\":\"overlay\",\"size\":10,\"solidity\":0.2},\"type\":\"scatter\"}],\"parcoords\":[{\"type\":\"parcoords\",\"line\":{\"colorbar\":{\"outlinewidth\":0,\"ticks\":\"\"}}}],\"scatterpolargl\":[{\"type\":\"scatterpolargl\",\"marker\":{\"colorbar\":{\"outlinewidth\":0,\"ticks\":\"\"}}}],\"bar\":[{\"error_x\":{\"color\":\"#2a3f5f\"},\"error_y\":{\"color\":\"#2a3f5f\"},\"marker\":{\"line\":{\"color\":\"#E5ECF6\",\"width\":0.5},\"pattern\":{\"fillmode\":\"overlay\",\"size\":10,\"solidity\":0.2}},\"type\":\"bar\"}],\"scattergeo\":[{\"type\":\"scattergeo\",\"marker\":{\"colorbar\":{\"outlinewidth\":0,\"ticks\":\"\"}}}],\"scatterpolar\":[{\"type\":\"scatterpolar\",\"marker\":{\"colorbar\":{\"outlinewidth\":0,\"ticks\":\"\"}}}],\"histogram\":[{\"marker\":{\"pattern\":{\"fillmode\":\"overlay\",\"size\":10,\"solidity\":0.2}},\"type\":\"histogram\"}],\"scattergl\":[{\"type\":\"scattergl\",\"marker\":{\"colorbar\":{\"outlinewidth\":0,\"ticks\":\"\"}}}],\"scatter3d\":[{\"type\":\"scatter3d\",\"line\":{\"colorbar\":{\"outlinewidth\":0,\"ticks\":\"\"}},\"marker\":{\"colorbar\":{\"outlinewidth\":0,\"ticks\":\"\"}}}],\"scattermapbox\":[{\"type\":\"scattermapbox\",\"marker\":{\"colorbar\":{\"outlinewidth\":0,\"ticks\":\"\"}}}],\"scatterternary\":[{\"type\":\"scatterternary\",\"marker\":{\"colorbar\":{\"outlinewidth\":0,\"ticks\":\"\"}}}],\"scattercarpet\":[{\"type\":\"scattercarpet\",\"marker\":{\"colorbar\":{\"outlinewidth\":0,\"ticks\":\"\"}}}],\"carpet\":[{\"aaxis\":{\"endlinecolor\":\"#2a3f5f\",\"gridcolor\":\"white\",\"linecolor\":\"white\",\"minorgridcolor\":\"white\",\"startlinecolor\":\"#2a3f5f\"},\"baxis\":{\"endlinecolor\":\"#2a3f5f\",\"gridcolor\":\"white\",\"linecolor\":\"white\",\"minorgridcolor\":\"white\",\"startlinecolor\":\"#2a3f5f\"},\"type\":\"carpet\"}],\"table\":[{\"cells\":{\"fill\":{\"color\":\"#EBF0F8\"},\"line\":{\"color\":\"white\"}},\"header\":{\"fill\":{\"color\":\"#C8D4E3\"},\"line\":{\"color\":\"white\"}},\"type\":\"table\"}],\"barpolar\":[{\"marker\":{\"line\":{\"color\":\"#E5ECF6\",\"width\":0.5},\"pattern\":{\"fillmode\":\"overlay\",\"size\":10,\"solidity\":0.2}},\"type\":\"barpolar\"}],\"pie\":[{\"automargin\":true,\"type\":\"pie\"}]},\"layout\":{\"autotypenumbers\":\"strict\",\"colorway\":[\"#636efa\",\"#EF553B\",\"#00cc96\",\"#ab63fa\",\"#FFA15A\",\"#19d3f3\",\"#FF6692\",\"#B6E880\",\"#FF97FF\",\"#FECB52\"],\"font\":{\"color\":\"#2a3f5f\"},\"hovermode\":\"closest\",\"hoverlabel\":{\"align\":\"left\"},\"paper_bgcolor\":\"white\",\"plot_bgcolor\":\"#E5ECF6\",\"polar\":{\"bgcolor\":\"#E5ECF6\",\"angularaxis\":{\"gridcolor\":\"white\",\"linecolor\":\"white\",\"ticks\":\"\"},\"radialaxis\":{\"gridcolor\":\"white\",\"linecolor\":\"white\",\"ticks\":\"\"}},\"ternary\":{\"bgcolor\":\"#E5ECF6\",\"aaxis\":{\"gridcolor\":\"white\",\"linecolor\":\"white\",\"ticks\":\"\"},\"baxis\":{\"gridcolor\":\"white\",\"linecolor\":\"white\",\"ticks\":\"\"},\"caxis\":{\"gridcolor\":\"white\",\"linecolor\":\"white\",\"ticks\":\"\"}},\"coloraxis\":{\"colorbar\":{\"outlinewidth\":0,\"ticks\":\"\"}},\"colorscale\":{\"sequential\":[[0.0,\"#0d0887\"],[0.1111111111111111,\"#46039f\"],[0.2222222222222222,\"#7201a8\"],[0.3333333333333333,\"#9c179e\"],[0.4444444444444444,\"#bd3786\"],[0.5555555555555556,\"#d8576b\"],[0.6666666666666666,\"#ed7953\"],[0.7777777777777778,\"#fb9f3a\"],[0.8888888888888888,\"#fdca26\"],[1.0,\"#f0f921\"]],\"sequentialminus\":[[0.0,\"#0d0887\"],[0.1111111111111111,\"#46039f\"],[0.2222222222222222,\"#7201a8\"],[0.3333333333333333,\"#9c179e\"],[0.4444444444444444,\"#bd3786\"],[0.5555555555555556,\"#d8576b\"],[0.6666666666666666,\"#ed7953\"],[0.7777777777777778,\"#fb9f3a\"],[0.8888888888888888,\"#fdca26\"],[1.0,\"#f0f921\"]],\"diverging\":[[0,\"#8e0152\"],[0.1,\"#c51b7d\"],[0.2,\"#de77ae\"],[0.3,\"#f1b6da\"],[0.4,\"#fde0ef\"],[0.5,\"#f7f7f7\"],[0.6,\"#e6f5d0\"],[0.7,\"#b8e186\"],[0.8,\"#7fbc41\"],[0.9,\"#4d9221\"],[1,\"#276419\"]]},\"xaxis\":{\"gridcolor\":\"white\",\"linecolor\":\"white\",\"ticks\":\"\",\"title\":{\"standoff\":15},\"zerolinecolor\":\"white\",\"automargin\":true,\"zerolinewidth\":2},\"yaxis\":{\"gridcolor\":\"white\",\"linecolor\":\"white\",\"ticks\":\"\",\"title\":{\"standoff\":15},\"zerolinecolor\":\"white\",\"automargin\":true,\"zerolinewidth\":2},\"scene\":{\"xaxis\":{\"backgroundcolor\":\"#E5ECF6\",\"gridcolor\":\"white\",\"linecolor\":\"white\",\"showbackground\":true,\"ticks\":\"\",\"zerolinecolor\":\"white\",\"gridwidth\":2},\"yaxis\":{\"backgroundcolor\":\"#E5ECF6\",\"gridcolor\":\"white\",\"linecolor\":\"white\",\"showbackground\":true,\"ticks\":\"\",\"zerolinecolor\":\"white\",\"gridwidth\":2},\"zaxis\":{\"backgroundcolor\":\"#E5ECF6\",\"gridcolor\":\"white\",\"linecolor\":\"white\",\"showbackground\":true,\"ticks\":\"\",\"zerolinecolor\":\"white\",\"gridwidth\":2}},\"shapedefaults\":{\"line\":{\"color\":\"#2a3f5f\"}},\"annotationdefaults\":{\"arrowcolor\":\"#2a3f5f\",\"arrowhead\":0,\"arrowwidth\":1},\"geo\":{\"bgcolor\":\"white\",\"landcolor\":\"#E5ECF6\",\"subunitcolor\":\"white\",\"showland\":true,\"showlakes\":true,\"lakecolor\":\"white\"},\"title\":{\"x\":0.05},\"mapbox\":{\"style\":\"light\"}}},\"xaxis\":{\"anchor\":\"y\",\"domain\":[0.0,1.0],\"title\":{\"text\":\"Individuals using the Internet\"},\"linecolor\":\"gray\"},\"yaxis\":{\"anchor\":\"x\",\"domain\":[0.0,1.0],\"title\":{\"text\":\"GDP/Capita\"},\"linecolor\":\"gray\",\"type\":\"log\",\"tickvals\":[200,500,1000,2000,5000,10000,20000,50000,100000],\"ticktext\":[\"200\",\"500\",\"1000\",\"2000\",\"5000\",\"10k\",\"20k\",\"50k\",\"100k\"]},\"legend\":{\"title\":{\"text\":\"World Region\"},\"tracegroupgap\":0,\"itemsizing\":\"constant\"},\"margin\":{\"t\":60},\"plot_bgcolor\":\"white\",\"showlegend\":true},                        {\"responsive\": true}                    ).then(function(){\n",
       "                            \n",
       "var gd = document.getElementById('a3cf3a77-1048-48fe-92b8-d3bfc5bd8258');\n",
       "var x = new MutationObserver(function (mutations, observer) {{\n",
       "        var display = window.getComputedStyle(gd).display;\n",
       "        if (!display || display === 'none') {{\n",
       "            console.log([gd, 'removed!']);\n",
       "            Plotly.purge(gd);\n",
       "            observer.disconnect();\n",
       "        }}\n",
       "}});\n",
       "\n",
       "// Listen for the removal of the full notebook cells\n",
       "var notebookContainer = gd.closest('#notebook-container');\n",
       "if (notebookContainer) {{\n",
       "    x.observe(notebookContainer, {childList: true});\n",
       "}}\n",
       "\n",
       "// Listen for the clearing of the current output cell\n",
       "var outputEl = gd.closest('.output');\n",
       "if (outputEl) {{\n",
       "    x.observe(outputEl, {childList: true});\n",
       "}}\n",
       "\n",
       "                        })                };                });            </script>        </div>"
      ]
     },
     "metadata": {},
     "output_type": "display_data"
    }
   ],
   "source": [
    "dfq3 = dfq3.dropna(subset=['income'])\n",
    "\n",
    "fig = px.scatter(dfq3, x=\"internet_users\", y= \"gdp\", size=\"income\", hover_name=\"country\", color=\"four_regions\")\n",
    "\n",
    "# Customize the legend title and axis labels\n",
    "fig.update_layout(\n",
    "    plot_bgcolor='white',\n",
    "    xaxis=dict(linecolor='gray'),  # Set x-axis line color to gray\n",
    "    yaxis=dict(linecolor='gray', type='log', tickvals=[200, 500, 1000, 2000, 5000, 10000, 20000, 50000, 100000],\n",
    "               ticktext=['200', '500', '1000', '2000', '5000', '10k', '20k', '50k', '100k']),  # Set y-axis to log scale and customize ticks\n",
    "    showlegend=True,  # Show the legend\n",
    "    legend_title_text='World Region',\n",
    "    xaxis_title='Individuals using the Internet',\n",
    "    yaxis_title='GDP/Capita'\n",
    ")\n",
    "\n",
    "# Add text behind the plot points for the year \"1997\"\n",
    "fig.add_trace(go.Scatter(\n",
    "    x=[40],  \n",
    "    y=[500],  \n",
    "    text=['2001'],  # Text to display\n",
    "    textfont=dict(color='gray', size=100),  # Text color and size\n",
    "    mode='text',\n",
    "    showlegend=False,  # Exclude from legend\n",
    "))"
   ]
  },
  {
   "cell_type": "code",
   "execution_count": null,
   "id": "a2e84928",
   "metadata": {},
   "outputs": [],
   "source": []
  },
  {
   "cell_type": "code",
   "execution_count": null,
   "id": "6267eaa0",
   "metadata": {},
   "outputs": [],
   "source": []
  }
 ],
 "metadata": {
  "kernelspec": {
   "display_name": "Python 3 (ipykernel)",
   "language": "python",
   "name": "python3"
  },
  "language_info": {
   "codemirror_mode": {
    "name": "ipython",
    "version": 3
   },
   "file_extension": ".py",
   "mimetype": "text/x-python",
   "name": "python",
   "nbconvert_exporter": "python",
   "pygments_lexer": "ipython3",
   "version": "3.11.4"
  }
 },
 "nbformat": 4,
 "nbformat_minor": 5
}
